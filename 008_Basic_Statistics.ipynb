{
  "cells": [
    {
      "cell_type": "markdown",
      "source": [
        "# Basic Statistics in Python"
      ],
      "metadata": {}
    },
    {
      "cell_type": "markdown",
      "source": [
        "## Statistical Analysis"
      ],
      "metadata": {}
    },
    {
      "cell_type": "code",
      "source": [
        "import numpy as np\n",
        "import pandas as pd\n",
        "import matplotlib.pyplot as plt\n",
        "import seaborn as sns\n",
        "from scipy import stats\n",
        "from scipy.stats import norm\n",
        "import math\n",
        "\n",
        "import warnings\n",
        "warnings.filterwarnings(\"ignore\")\n",
        "\n",
        "# fix_yahoo_finance is used to fetch data \n",
        "import fix_yahoo_finance as yf\n",
        "yf.pdr_override()"
      ],
      "outputs": [],
      "execution_count": 1,
      "metadata": {
        "collapsed": false,
        "outputHidden": false,
        "inputHidden": false
      }
    },
    {
      "cell_type": "code",
      "source": [
        "# input\n",
        "symbol = 'AMD'\n",
        "market = '^GSPC'\n",
        "start = '2014-01-01'\n",
        "end = '2019-01-01'\n",
        "\n",
        "# Read data \n",
        "df = yf.download(symbol,start,end)\n",
        "dfm = yf.download(market,start,end)\n",
        "\n",
        "# View Columns\n",
        "df.head()"
      ],
      "outputs": [
        {
          "output_type": "stream",
          "name": "stdout",
          "text": [
            "[*********************100%***********************]  1 of 1 downloaded\n",
            "[*********************100%***********************]  1 of 1 downloaded\n"
          ]
        },
        {
          "output_type": "execute_result",
          "execution_count": 2,
          "data": {
            "text/html": [
              "<div>\n",
              "<style scoped>\n",
              "    .dataframe tbody tr th:only-of-type {\n",
              "        vertical-align: middle;\n",
              "    }\n",
              "\n",
              "    .dataframe tbody tr th {\n",
              "        vertical-align: top;\n",
              "    }\n",
              "\n",
              "    .dataframe thead th {\n",
              "        text-align: right;\n",
              "    }\n",
              "</style>\n",
              "<table border=\"1\" class=\"dataframe\">\n",
              "  <thead>\n",
              "    <tr style=\"text-align: right;\">\n",
              "      <th></th>\n",
              "      <th>Open</th>\n",
              "      <th>High</th>\n",
              "      <th>Low</th>\n",
              "      <th>Close</th>\n",
              "      <th>Adj Close</th>\n",
              "      <th>Volume</th>\n",
              "    </tr>\n",
              "    <tr>\n",
              "      <th>Date</th>\n",
              "      <th></th>\n",
              "      <th></th>\n",
              "      <th></th>\n",
              "      <th></th>\n",
              "      <th></th>\n",
              "      <th></th>\n",
              "    </tr>\n",
              "  </thead>\n",
              "  <tbody>\n",
              "    <tr>\n",
              "      <th>2014-01-02</th>\n",
              "      <td>3.85</td>\n",
              "      <td>3.98</td>\n",
              "      <td>3.84</td>\n",
              "      <td>3.95</td>\n",
              "      <td>3.95</td>\n",
              "      <td>20548400</td>\n",
              "    </tr>\n",
              "    <tr>\n",
              "      <th>2014-01-03</th>\n",
              "      <td>3.98</td>\n",
              "      <td>4.00</td>\n",
              "      <td>3.88</td>\n",
              "      <td>4.00</td>\n",
              "      <td>4.00</td>\n",
              "      <td>22887200</td>\n",
              "    </tr>\n",
              "    <tr>\n",
              "      <th>2014-01-06</th>\n",
              "      <td>4.01</td>\n",
              "      <td>4.18</td>\n",
              "      <td>3.99</td>\n",
              "      <td>4.13</td>\n",
              "      <td>4.13</td>\n",
              "      <td>42398300</td>\n",
              "    </tr>\n",
              "    <tr>\n",
              "      <th>2014-01-07</th>\n",
              "      <td>4.19</td>\n",
              "      <td>4.25</td>\n",
              "      <td>4.11</td>\n",
              "      <td>4.18</td>\n",
              "      <td>4.18</td>\n",
              "      <td>42932100</td>\n",
              "    </tr>\n",
              "    <tr>\n",
              "      <th>2014-01-08</th>\n",
              "      <td>4.23</td>\n",
              "      <td>4.26</td>\n",
              "      <td>4.14</td>\n",
              "      <td>4.18</td>\n",
              "      <td>4.18</td>\n",
              "      <td>30678700</td>\n",
              "    </tr>\n",
              "  </tbody>\n",
              "</table>\n",
              "</div>"
            ],
            "text/plain": [
              "            Open  High   Low  Close  Adj Close    Volume\n",
              "Date                                                    \n",
              "2014-01-02  3.85  3.98  3.84   3.95       3.95  20548400\n",
              "2014-01-03  3.98  4.00  3.88   4.00       4.00  22887200\n",
              "2014-01-06  4.01  4.18  3.99   4.13       4.13  42398300\n",
              "2014-01-07  4.19  4.25  4.11   4.18       4.18  42932100\n",
              "2014-01-08  4.23  4.26  4.14   4.18       4.18  30678700"
            ]
          },
          "metadata": {}
        }
      ],
      "execution_count": 2,
      "metadata": {
        "collapsed": false,
        "outputHidden": false,
        "inputHidden": false
      }
    },
    {
      "cell_type": "code",
      "source": [
        "df.shape"
      ],
      "outputs": [
        {
          "output_type": "execute_result",
          "execution_count": 3,
          "data": {
            "text/plain": [
              "(1258, 6)"
            ]
          },
          "metadata": {}
        }
      ],
      "execution_count": 3,
      "metadata": {
        "collapsed": false,
        "outputHidden": false,
        "inputHidden": false
      }
    },
    {
      "cell_type": "code",
      "source": [
        "new_df = pd.DataFrame({symbol : df['Adj Close'], market : dfm['Adj Close']}, index=df.index)\n",
        "\n",
        "# compute returns\n",
        "new_df[['stock_returns','market_returns']] = new_df[[symbol,market]] / new_df[[symbol,market]].shift(1) -1\n",
        "new_df = new_df.dropna()\n",
        "covmat = np.cov(new_df[\"stock_returns\"],new_df[\"market_returns\"])\n",
        "\n",
        "# calculate measures now\n",
        "beta = covmat[0,1]/covmat[1,1]\n",
        "alpha= np.mean(new_df[\"stock_returns\"])-beta*np.mean(new_df[\"market_returns\"])"
      ],
      "outputs": [],
      "execution_count": 4,
      "metadata": {
        "collapsed": false,
        "outputHidden": false,
        "inputHidden": false
      }
    },
    {
      "cell_type": "code",
      "source": [
        "print('Beta:', beta)\n",
        "print('Alpha:', alpha)"
      ],
      "outputs": [
        {
          "output_type": "stream",
          "name": "stdout",
          "text": [
            "Beta: 1.61279488\n",
            "Alpha: 0.0015127435601\n"
          ]
        }
      ],
      "execution_count": 5,
      "metadata": {
        "collapsed": false,
        "outputHidden": false,
        "inputHidden": false
      }
    },
    {
      "cell_type": "code",
      "source": [
        "close = df['Adj Close']"
      ],
      "outputs": [],
      "execution_count": 6,
      "metadata": {
        "collapsed": false,
        "outputHidden": false,
        "inputHidden": false
      }
    },
    {
      "cell_type": "markdown",
      "source": [
        "## Mean is the average"
      ],
      "metadata": {}
    },
    {
      "cell_type": "code",
      "source": [
        "mean = np.mean(close)\n",
        "mean"
      ],
      "outputs": [
        {
          "output_type": "execute_result",
          "execution_count": 7,
          "data": {
            "text/plain": [
              "8.164427659777418"
            ]
          },
          "metadata": {}
        }
      ],
      "execution_count": 7,
      "metadata": {
        "collapsed": false,
        "outputHidden": false,
        "inputHidden": false
      }
    },
    {
      "cell_type": "markdown",
      "source": [
        "## Median is the value of middlemost value"
      ],
      "metadata": {}
    },
    {
      "cell_type": "code",
      "source": [
        "median = np.median(close)\n",
        "median"
      ],
      "outputs": [
        {
          "output_type": "execute_result",
          "execution_count": 8,
          "data": {
            "text/plain": [
              "5.0999999999999996"
            ]
          },
          "metadata": {}
        }
      ],
      "execution_count": 8,
      "metadata": {
        "collapsed": false,
        "outputHidden": false,
        "inputHidden": false
      }
    },
    {
      "cell_type": "markdown",
      "source": [
        "## Mode is the most frequent value"
      ],
      "metadata": {}
    },
    {
      "cell_type": "code",
      "source": [
        "mode = stats.mode(close)\n",
        "print(\"The modal value is {} with a count of {}\".format(mode.mode[0], mode.count[0]))"
      ],
      "outputs": [
        {
          "output_type": "stream",
          "name": "stdout",
          "text": [
            "The modal value is 2.28 with a count of 12\n"
          ]
        }
      ],
      "execution_count": 9,
      "metadata": {
        "collapsed": false,
        "outputHidden": false,
        "inputHidden": false
      }
    },
    {
      "cell_type": "markdown",
      "source": [
        "## Range is a measure of how spread apart the values are"
      ],
      "metadata": {}
    },
    {
      "cell_type": "code",
      "source": [
        "range_of_stock = np.ptp(close)\n",
        "range_of_stock"
      ],
      "outputs": [
        {
          "output_type": "execute_result",
          "execution_count": 10,
          "data": {
            "text/plain": [
              "31.100001000000002"
            ]
          },
          "metadata": {}
        }
      ],
      "execution_count": 10,
      "metadata": {
        "collapsed": false,
        "outputHidden": false,
        "inputHidden": false
      }
    },
    {
      "cell_type": "markdown",
      "source": [
        "## Variance is a measure of how variable the data is"
      ],
      "metadata": {}
    },
    {
      "cell_type": "code",
      "source": [
        "variance = np.var(close)\n",
        "variance"
      ],
      "outputs": [
        {
          "output_type": "execute_result",
          "execution_count": 11,
          "data": {
            "text/plain": [
              "41.891972836178724"
            ]
          },
          "metadata": {}
        }
      ],
      "execution_count": 11,
      "metadata": {
        "collapsed": false,
        "outputHidden": false,
        "inputHidden": false
      }
    },
    {
      "cell_type": "markdown",
      "source": [
        "## Standard deviation is the square root of the variance and is measure how the data is spread out"
      ],
      "metadata": {}
    },
    {
      "cell_type": "code",
      "source": [
        "standard_deviation = np.std(close)\n",
        "standard_deviation"
      ],
      "outputs": [
        {
          "output_type": "execute_result",
          "execution_count": 12,
          "data": {
            "text/plain": [
              "6.4724008556469"
            ]
          },
          "metadata": {}
        }
      ],
      "execution_count": 12,
      "metadata": {
        "collapsed": false,
        "outputHidden": false,
        "inputHidden": false
      }
    },
    {
      "cell_type": "markdown",
      "source": [
        "## Standard error is the mean (SE of the mean) estimates the variability between sample means that you would obtain if you took multiple samples from the same population"
      ],
      "metadata": {}
    },
    {
      "cell_type": "code",
      "source": [
        "standard_error = stats.sem(close)\n",
        "standard_error"
      ],
      "outputs": [
        {
          "output_type": "execute_result",
          "execution_count": 13,
          "data": {
            "text/plain": [
              "0.18255669629927632"
            ]
          },
          "metadata": {}
        }
      ],
      "execution_count": 13,
      "metadata": {
        "collapsed": false,
        "outputHidden": false,
        "inputHidden": false
      }
    },
    {
      "cell_type": "markdown",
      "source": [
        "## Z-Scores measure how many standard deviations an element is from the mean"
      ],
      "metadata": {}
    },
    {
      "cell_type": "code",
      "source": [
        "z = np.abs(stats.zscore(close))\n",
        "print(z)"
      ],
      "outputs": [
        {
          "output_type": "stream",
          "name": "stdout",
          "text": [
            "[ 0.65113823  0.64341312  0.62332784 ...,  1.4408212   1.49180691\n",
            "  1.59068815]\n"
          ]
        }
      ],
      "execution_count": 14,
      "metadata": {
        "collapsed": false,
        "outputHidden": false,
        "inputHidden": false
      }
    },
    {
      "cell_type": "markdown",
      "source": [
        "##  Contingency Table shows correlations between two variables"
      ],
      "metadata": {}
    },
    {
      "cell_type": "code",
      "source": [
        "data_crosstab = pd.crosstab(df['High'], \n",
        "                            df['Low'],  \n",
        "                               margins = False) \n",
        "print(data_crosstab) "
      ],
      "outputs": [
        {
          "output_type": "stream",
          "name": "stdout",
          "text": [
            "Low        1.610000   1.620000   1.650000   1.660000   1.680000   1.690000   \\\n",
            "High                                                                          \n",
            "1.690000           0          0          1          0          0          0   \n",
            "1.700000           1          0          0          1          0          0   \n",
            "1.720000           0          0          0          0          1          0   \n",
            "1.730000           0          0          0          2          0          0   \n",
            "1.750000           0          0          0          0          1          0   \n",
            "1.770000           0          1          1          0          0          0   \n",
            "1.780000           0          0          0          0          0          1   \n",
            "1.800000           0          0          0          0          1          0   \n",
            "1.810000           0          0          0          0          0          0   \n",
            "1.820000           0          0          0          1          0          0   \n",
            "1.830000           0          0          1          0          0          0   \n",
            "1.840000           0          0          0          0          0          0   \n",
            "1.850000           0          0          0          0          0          0   \n",
            "1.860000           0          0          0          0          0          0   \n",
            "1.870000           0          0          0          0          0          0   \n",
            "1.880000           0          0          0          0          0          0   \n",
            "1.900000           0          0          0          0          0          0   \n",
            "1.910000           0          0          0          0          0          0   \n",
            "1.920000           0          0          0          0          0          0   \n",
            "1.930000           0          0          0          0          0          0   \n",
            "1.940000           0          0          0          0          0          0   \n",
            "1.950000           0          0          0          0          0          0   \n",
            "1.960000           0          0          0          0          0          0   \n",
            "1.970000           0          0          0          0          0          0   \n",
            "1.980000           0          0          0          0          0          0   \n",
            "1.990000           0          0          0          0          0          0   \n",
            "2.000000           0          0          0          0          0          0   \n",
            "2.010000           0          0          0          0          0          0   \n",
            "2.020000           0          0          0          0          0          0   \n",
            "2.030000           0          0          0          0          0          0   \n",
            "...              ...        ...        ...        ...        ...        ...   \n",
            "27.400000          0          0          0          0          0          0   \n",
            "27.540001          0          0          0          0          0          0   \n",
            "27.709999          0          0          0          0          0          0   \n",
            "27.750000          0          0          0          0          0          0   \n",
            "28.110001          0          0          0          0          0          0   \n",
            "28.230000          0          0          0          0          0          0   \n",
            "28.270000          0          0          0          0          0          0   \n",
            "28.469999          0          0          0          0          0          0   \n",
            "28.530001          0          0          0          0          0          0   \n",
            "28.580000          0          0          0          0          0          0   \n",
            "28.830000          0          0          0          0          0          0   \n",
            "29.219999          0          0          0          0          0          0   \n",
            "29.930000          0          0          0          0          0          0   \n",
            "29.940001          0          0          0          0          0          0   \n",
            "30.590000          0          0          0          0          0          0   \n",
            "30.820000          0          0          0          0          0          0   \n",
            "31.830000          0          0          0          0          0          0   \n",
            "31.910000          0          0          0          0          0          0   \n",
            "32.200001          0          0          0          0          0          0   \n",
            "32.290001          0          0          0          0          0          0   \n",
            "32.419998          0          0          0          0          0          0   \n",
            "32.599998          0          0          0          0          0          0   \n",
            "32.630001          0          0          0          0          0          0   \n",
            "32.650002          0          0          0          0          0          0   \n",
            "32.779999          0          0          0          0          0          0   \n",
            "33.090000          0          0          0          0          0          0   \n",
            "33.230000          0          0          0          0          0          0   \n",
            "33.369999          0          0          0          0          0          0   \n",
            "33.599998          0          0          0          0          0          0   \n",
            "34.139999          0          0          0          0          0          0   \n",
            "\n",
            "Low        1.700000   1.710000   1.720000   1.740000   ...  30.250000  \\\n",
            "High                                                   ...              \n",
            "1.690000           0          0          0          0  ...          0   \n",
            "1.700000           0          0          0          0  ...          0   \n",
            "1.720000           0          0          0          0  ...          0   \n",
            "1.730000           0          0          0          0  ...          0   \n",
            "1.750000           0          0          0          0  ...          0   \n",
            "1.770000           0          0          2          0  ...          0   \n",
            "1.780000           0          0          0          0  ...          0   \n",
            "1.800000           1          0          0          0  ...          0   \n",
            "1.810000           0          0          0          0  ...          0   \n",
            "1.820000           0          1          0          0  ...          0   \n",
            "1.830000           0          0          1          0  ...          0   \n",
            "1.840000           0          0          1          1  ...          0   \n",
            "1.850000           0          0          0          0  ...          0   \n",
            "1.860000           0          0          0          0  ...          0   \n",
            "1.870000           0          0          0          0  ...          0   \n",
            "1.880000           0          0          0          0  ...          0   \n",
            "1.900000           0          0          0          1  ...          0   \n",
            "1.910000           0          0          0          0  ...          0   \n",
            "1.920000           0          0          0          0  ...          0   \n",
            "1.930000           0          0          0          0  ...          0   \n",
            "1.940000           0          0          0          0  ...          0   \n",
            "1.950000           0          0          0          0  ...          0   \n",
            "1.960000           0          0          0          0  ...          0   \n",
            "1.970000           0          0          0          0  ...          0   \n",
            "1.980000           0          0          0          0  ...          0   \n",
            "1.990000           0          0          0          0  ...          0   \n",
            "2.000000           0          0          0          0  ...          0   \n",
            "2.010000           0          0          0          0  ...          0   \n",
            "2.020000           0          0          0          0  ...          0   \n",
            "2.030000           0          0          0          0  ...          0   \n",
            "...              ...        ...        ...        ...  ...        ...   \n",
            "27.400000          0          0          0          0  ...          0   \n",
            "27.540001          0          0          0          0  ...          0   \n",
            "27.709999          0          0          0          0  ...          0   \n",
            "27.750000          0          0          0          0  ...          0   \n",
            "28.110001          0          0          0          0  ...          0   \n",
            "28.230000          0          0          0          0  ...          0   \n",
            "28.270000          0          0          0          0  ...          0   \n",
            "28.469999          0          0          0          0  ...          0   \n",
            "28.530001          0          0          0          0  ...          0   \n",
            "28.580000          0          0          0          0  ...          0   \n",
            "28.830000          0          0          0          0  ...          0   \n",
            "29.219999          0          0          0          0  ...          0   \n",
            "29.930000          0          0          0          0  ...          0   \n",
            "29.940001          0          0          0          0  ...          0   \n",
            "30.590000          0          0          0          0  ...          0   \n",
            "30.820000          0          0          0          0  ...          0   \n",
            "31.830000          0          0          0          0  ...          0   \n",
            "31.910000          0          0          0          0  ...          1   \n",
            "32.200001          0          0          0          0  ...          0   \n",
            "32.290001          0          0          0          0  ...          0   \n",
            "32.419998          0          0          0          0  ...          0   \n",
            "32.599998          0          0          0          0  ...          0   \n",
            "32.630001          0          0          0          0  ...          0   \n",
            "32.650002          0          0          0          0  ...          0   \n",
            "32.779999          0          0          0          0  ...          0   \n",
            "33.090000          0          0          0          0  ...          0   \n",
            "33.230000          0          0          0          0  ...          0   \n",
            "33.369999          0          0          0          0  ...          0   \n",
            "33.599998          0          0          0          0  ...          0   \n",
            "34.139999          0          0          0          0  ...          0   \n",
            "\n",
            "Low        30.510000  30.540001  30.639999  30.910000  31.200001  31.389999  \\\n",
            "High                                                                          \n",
            "1.690000           0          0          0          0          0          0   \n",
            "1.700000           0          0          0          0          0          0   \n",
            "1.720000           0          0          0          0          0          0   \n",
            "1.730000           0          0          0          0          0          0   \n",
            "1.750000           0          0          0          0          0          0   \n",
            "1.770000           0          0          0          0          0          0   \n",
            "1.780000           0          0          0          0          0          0   \n",
            "1.800000           0          0          0          0          0          0   \n",
            "1.810000           0          0          0          0          0          0   \n",
            "1.820000           0          0          0          0          0          0   \n",
            "1.830000           0          0          0          0          0          0   \n",
            "1.840000           0          0          0          0          0          0   \n",
            "1.850000           0          0          0          0          0          0   \n",
            "1.860000           0          0          0          0          0          0   \n",
            "1.870000           0          0          0          0          0          0   \n",
            "1.880000           0          0          0          0          0          0   \n",
            "1.900000           0          0          0          0          0          0   \n",
            "1.910000           0          0          0          0          0          0   \n",
            "1.920000           0          0          0          0          0          0   \n",
            "1.930000           0          0          0          0          0          0   \n",
            "1.940000           0          0          0          0          0          0   \n",
            "1.950000           0          0          0          0          0          0   \n",
            "1.960000           0          0          0          0          0          0   \n",
            "1.970000           0          0          0          0          0          0   \n",
            "1.980000           0          0          0          0          0          0   \n",
            "1.990000           0          0          0          0          0          0   \n",
            "2.000000           0          0          0          0          0          0   \n",
            "2.010000           0          0          0          0          0          0   \n",
            "2.020000           0          0          0          0          0          0   \n",
            "2.030000           0          0          0          0          0          0   \n",
            "...              ...        ...        ...        ...        ...        ...   \n",
            "27.400000          0          0          0          0          0          0   \n",
            "27.540001          0          0          0          0          0          0   \n",
            "27.709999          0          0          0          0          0          0   \n",
            "27.750000          0          0          0          0          0          0   \n",
            "28.110001          0          0          0          0          0          0   \n",
            "28.230000          0          0          0          0          0          0   \n",
            "28.270000          0          0          0          0          0          0   \n",
            "28.469999          0          0          0          0          0          0   \n",
            "28.530001          0          0          0          0          0          0   \n",
            "28.580000          0          0          0          0          0          0   \n",
            "28.830000          0          0          0          0          0          0   \n",
            "29.219999          0          0          0          0          0          0   \n",
            "29.930000          0          0          0          0          0          0   \n",
            "29.940001          0          0          0          0          0          0   \n",
            "30.590000          0          0          0          0          0          0   \n",
            "30.820000          0          0          0          0          0          0   \n",
            "31.830000          1          0          0          0          0          0   \n",
            "31.910000          0          0          0          0          0          0   \n",
            "32.200001          0          0          1          0          0          0   \n",
            "32.290001          0          0          0          0          0          0   \n",
            "32.419998          0          0          0          1          0          0   \n",
            "32.599998          0          0          0          0          0          0   \n",
            "32.630001          0          0          0          0          0          1   \n",
            "32.650002          0          0          0          1          0          0   \n",
            "32.779999          0          0          0          0          0          0   \n",
            "33.090000          0          1          0          0          0          0   \n",
            "33.230000          0          0          0          0          0          0   \n",
            "33.369999          0          0          0          0          1          0   \n",
            "33.599998          0          0          0          0          0          0   \n",
            "34.139999          0          0          0          0          0          0   \n",
            "\n",
            "Low        31.600000  31.719999  32.189999  \n",
            "High                                        \n",
            "1.690000           0          0          0  \n",
            "1.700000           0          0          0  \n",
            "1.720000           0          0          0  \n",
            "1.730000           0          0          0  \n",
            "1.750000           0          0          0  \n",
            "1.770000           0          0          0  \n",
            "1.780000           0          0          0  \n",
            "1.800000           0          0          0  \n",
            "1.810000           0          0          0  \n",
            "1.820000           0          0          0  \n",
            "1.830000           0          0          0  \n",
            "1.840000           0          0          0  \n",
            "1.850000           0          0          0  \n",
            "1.860000           0          0          0  \n",
            "1.870000           0          0          0  \n",
            "1.880000           0          0          0  \n",
            "1.900000           0          0          0  \n",
            "1.910000           0          0          0  \n",
            "1.920000           0          0          0  \n",
            "1.930000           0          0          0  \n",
            "1.940000           0          0          0  \n",
            "1.950000           0          0          0  \n",
            "1.960000           0          0          0  \n",
            "1.970000           0          0          0  \n",
            "1.980000           0          0          0  \n",
            "1.990000           0          0          0  \n",
            "2.000000           0          0          0  \n",
            "2.010000           0          0          0  \n",
            "2.020000           0          0          0  \n",
            "2.030000           0          0          0  \n",
            "...              ...        ...        ...  \n",
            "27.400000          0          0          0  \n",
            "27.540001          0          0          0  \n",
            "27.709999          0          0          0  \n",
            "27.750000          0          0          0  \n",
            "28.110001          0          0          0  \n",
            "28.230000          0          0          0  \n",
            "28.270000          0          0          0  \n",
            "28.469999          0          0          0  \n",
            "28.530001          0          0          0  \n",
            "28.580000          0          0          0  \n",
            "28.830000          0          0          0  \n",
            "29.219999          0          0          0  \n",
            "29.930000          0          0          0  \n",
            "29.940001          0          0          0  \n",
            "30.590000          0          0          0  \n",
            "30.820000          0          0          0  \n",
            "31.830000          0          0          0  \n",
            "31.910000          0          0          0  \n",
            "32.200001          0          0          0  \n",
            "32.290001          0          0          0  \n",
            "32.419998          0          0          0  \n",
            "32.599998          0          1          0  \n",
            "32.630001          0          0          0  \n",
            "32.650002          0          0          0  \n",
            "32.779999          0          0          0  \n",
            "33.090000          0          0          0  \n",
            "33.230000          1          0          0  \n",
            "33.369999          0          0          0  \n",
            "33.599998          0          0          1  \n",
            "34.139999          0          0          0  \n",
            "\n",
            "[728 rows x 705 columns]\n"
          ]
        }
      ],
      "execution_count": 15,
      "metadata": {
        "collapsed": false,
        "outputHidden": false,
        "inputHidden": false
      }
    },
    {
      "cell_type": "markdown",
      "source": [
        "## Scatter plot shows two variables that plot along two axes and it shows correlation or not"
      ],
      "metadata": {}
    },
    {
      "cell_type": "code",
      "source": [
        "plt.scatter(df['Adj Close'], df['Open'], alpha=0.5)\n",
        "plt.title('Adj Close vs Open')\n",
        "plt.xlabel('Adj Close')\n",
        "plt.ylabel('Open')\n",
        "plt.show()"
      ],
      "outputs": [
        {
          "output_type": "display_data",
          "data": {
            "image/png": "[encoded data removed]",
            "text/plain": [
              "<Figure size 432x288 with 1 Axes>"
            ]
          },
          "metadata": {}
        }
      ],
      "execution_count": 16,
      "metadata": {
        "collapsed": false,
        "outputHidden": false,
        "inputHidden": false
      }
    },
    {
      "cell_type": "markdown",
      "source": [
        "## Regression is a measure of the relation between the mean value of one variable (e.g. output) and corresponding values of other variables"
      ],
      "metadata": {}
    },
    {
      "cell_type": "code",
      "source": [
        "from sklearn.linear_model import LinearRegression\n",
        "\n",
        "X = np.array(df['Open']).reshape(1258,-1)\n",
        "y = np.array(df['Adj Close'])\n",
        "LR = LinearRegression().fit(X, y)\n",
        "LR.score(X, y)"
      ],
      "outputs": [
        {
          "output_type": "execute_result",
          "execution_count": 17,
          "data": {
            "text/plain": [
              "0.9967102090185268"
            ]
          },
          "metadata": {}
        }
      ],
      "execution_count": 17,
      "metadata": {
        "collapsed": false,
        "outputHidden": false,
        "inputHidden": false
      }
    },
    {
      "cell_type": "code",
      "source": [
        "LR.coef_"
      ],
      "outputs": [
        {
          "output_type": "execute_result",
          "execution_count": 18,
          "data": {
            "text/plain": [
              "array([ 0.99734456])"
            ]
          },
          "metadata": {}
        }
      ],
      "execution_count": 18,
      "metadata": {
        "collapsed": false,
        "outputHidden": false,
        "inputHidden": false
      }
    },
    {
      "cell_type": "code",
      "source": [
        "LR.intercept_"
      ],
      "outputs": [
        {
          "output_type": "execute_result",
          "execution_count": 19,
          "data": {
            "text/plain": [
              "0.019967673234484451"
            ]
          },
          "metadata": {}
        }
      ],
      "execution_count": 19,
      "metadata": {
        "collapsed": false,
        "outputHidden": false,
        "inputHidden": false
      }
    },
    {
      "cell_type": "code",
      "source": [
        "LR.predict(X)"
      ],
      "outputs": [
        {
          "output_type": "execute_result",
          "execution_count": 20,
          "data": {
            "text/plain": [
              "array([  3.85974423,   3.98939903,   4.01931936, ...,  17.40368338,\n",
              "        17.50341883,  18.12177146])"
            ]
          },
          "metadata": {}
        }
      ],
      "execution_count": 20,
      "metadata": {
        "collapsed": false,
        "outputHidden": false,
        "inputHidden": false
      }
    },
    {
      "cell_type": "markdown",
      "source": [
        "## Elementary Probability Theory the outcome that could happen"
      ],
      "metadata": {}
    },
    {
      "cell_type": "markdown",
      "source": [
        "### Monte Carlo method is an experimentals of computational algorithms that rely on repeated random samples. "
      ],
      "metadata": {}
    },
    {
      "cell_type": "code",
      "source": [
        "df['Returns'] = df['Adj Close'].pct_change()\n",
        "df['Returns'] = df['Returns'].dropna()"
      ],
      "outputs": [],
      "execution_count": 21,
      "metadata": {
        "collapsed": false,
        "outputHidden": false,
        "inputHidden": false
      }
    },
    {
      "cell_type": "code",
      "source": [
        "df = df.dropna()"
      ],
      "outputs": [],
      "execution_count": 22,
      "metadata": {
        "collapsed": false,
        "outputHidden": false,
        "inputHidden": false
      }
    },
    {
      "cell_type": "code",
      "source": [
        "values = []\n",
        "S = df['Returns'][-1] #Starting stock price \n",
        "T = 252 #Number of trading days\n",
        "mu = df['Returns'].mean() #Mean\n",
        "sigma = df['Returns'].std()*math.sqrt(252) #Volatility"
      ],
      "outputs": [],
      "execution_count": 23,
      "metadata": {
        "collapsed": false,
        "outputHidden": false,
        "inputHidden": false
      }
    },
    {
      "cell_type": "code",
      "source": [
        "for i in range(10000):\n",
        "    # Create list of daily returns using random normal distribution\n",
        "    daily_returns=np.random.normal(mu/T,sigma/math.sqrt(T),T)+1\n",
        "    \n",
        "    # Set starting price and create price series generated by above random daily returns\n",
        "    price_list = [S]\n",
        "    \n",
        "    for x in daily_returns:\n",
        "        price_list.append(price_list[-1]*x)\n",
        "\n",
        "    # Plot the data\n",
        "    plt.plot(price_list)\n",
        "plt.show()"
      ],
      "outputs": [
        {
          "output_type": "display_data",
          "data": {
            "image/png": "[encoded data removed]",
            "text/plain": [
              "<Figure size 432x288 with 1 Axes>"
            ]
          },
          "metadata": {}
        }
      ],
      "execution_count": 24,
      "metadata": {
        "collapsed": false,
        "outputHidden": false,
        "inputHidden": false
      }
    },
    {
      "cell_type": "markdown",
      "source": [
        "## Random variables and probability distributions"
      ],
      "metadata": {}
    },
    {
      "cell_type": "markdown",
      "source": [
        "https://www.investopedia.com/articles/06/probabilitydistribution.asp"
      ],
      "metadata": {}
    },
    {
      "cell_type": "markdown",
      "source": [
        "### Cumulative Distribution "
      ],
      "metadata": {}
    },
    {
      "cell_type": "code",
      "source": [
        "data = df['Adj Close']\n",
        "values, base = np.histogram(data, bins=40)\n",
        "#evaluate the cumulative\n",
        "cumulative = np.cumsum(values)\n",
        "# plot the cumulative function\n",
        "plt.plot(base[:-1], cumulative, c='blue')\n",
        "#plot the survival function\n",
        "plt.plot(base[:-1], len(data)-cumulative, c='green')\n",
        "\n",
        "plt.show()"
      ],
      "outputs": [
        {
          "output_type": "display_data",
          "data": {
            "image/png": "[encoded data removed]",
            "text/plain": [
              "<Figure size 432x288 with 1 Axes>"
            ]
          },
          "metadata": {}
        }
      ],
      "execution_count": 25,
      "metadata": {
        "collapsed": false,
        "outputHidden": false,
        "inputHidden": false
      }
    },
    {
      "cell_type": "code",
      "source": [
        "sorted_data = np.sort(data)  # Or data.sort(), if data can be modified\n",
        "\n",
        "# Cumulative counts:\n",
        "plt.step(sorted_data, np.arange(sorted_data.size))  # From 0 to the number of data points-1\n",
        "plt.step(sorted_data[::-1], np.arange(sorted_data.size))  # From the number of data points-1 to 0\n",
        "\n",
        "plt.show()"
      ],
      "outputs": [
        {
          "output_type": "display_data",
          "data": {
            "image/png": "[encoded data removed]",
            "text/plain": [
              "<Figure size 432x288 with 1 Axes>"
            ]
          },
          "metadata": {}
        }
      ],
      "execution_count": 26,
      "metadata": {
        "collapsed": false,
        "outputHidden": false,
        "inputHidden": false
      }
    },
    {
      "cell_type": "markdown",
      "source": [
        "### Probability Density Function"
      ],
      "metadata": {}
    },
    {
      "cell_type": "markdown",
      "source": [
        "Probability Density Function (PDF) is continuous random variable and have value that is given sample in the sample space can be interpreted as providing a relative likelihood that the value of the random variable would equal that sample. (Wikipedia)"
      ],
      "metadata": {}
    },
    {
      "cell_type": "code",
      "source": [
        "values = df['Returns'][1:]\n",
        "x = np.linspace(values.min(), values.max(), len(values))\n",
        "loc, scale = stats.norm.fit(values)\n",
        "param_density = stats.norm.pdf(x, loc=loc, scale=scale)\n",
        "label = 'mean=%.4f, std=%.4f' % (loc, scale)\n",
        "\n",
        "fig, ax = plt.subplots(figsize=(10, 6))\n",
        "ax.hist(values, bins=30, normed=True)\n",
        "ax.plot(x, param_density, 'r-', label=label)\n",
        "ax.legend(loc='best')\n",
        "ax.set_title(\"Probability Density Function\")"
      ],
      "outputs": [
        {
          "output_type": "execute_result",
          "execution_count": 27,
          "data": {
            "text/plain": [
              "Text(0.5,1,'Probability Density Function')"
            ]
          },
          "metadata": {}
        },
        {
          "output_type": "display_data",
          "data": {
            "image/png": "[encoded data removed]",
            "text/plain": [
              "<Figure size 720x432 with 1 Axes>"
            ]
          },
          "metadata": {}
        }
      ],
      "execution_count": 27,
      "metadata": {
        "collapsed": false,
        "outputHidden": false,
        "inputHidden": false
      }
    },
    {
      "cell_type": "code",
      "source": [
        "# Log return goes up and down during the period\n",
        "df['Returns'].plot(figsize=(20, 8))\n",
        "plt.title(\"Stock Daily Returns\")\n",
        "plt.axhline(0, color='red')\n",
        "plt.ylabel('Daily Returns')\n",
        "plt.show()"
      ],
      "outputs": [
        {
          "output_type": "display_data",
          "data": {
            "image/png": "[encoded data removed]",
            "text/plain": [
              "<Figure size 1440x576 with 1 Axes>"
            ]
          },
          "metadata": {}
        }
      ],
      "execution_count": 28,
      "metadata": {
        "collapsed": false,
        "outputHidden": false,
        "inputHidden": false
      }
    },
    {
      "cell_type": "code",
      "source": [
        "sns.distplot(df['Returns'].dropna(),bins=100,color='red')"
      ],
      "outputs": [
        {
          "output_type": "execute_result",
          "execution_count": 29,
          "data": {
            "text/plain": [
              "<matplotlib.axes._subplots.AxesSubplot at 0x20b92d1c6d8>"
            ]
          },
          "metadata": {}
        },
        {
          "output_type": "display_data",
          "data": {
            "image/png": "[encoded data removed]",
            "text/plain": [
              "<Figure size 432x288 with 1 Axes>"
            ]
          },
          "metadata": {}
        }
      ],
      "execution_count": 29,
      "metadata": {
        "collapsed": false,
        "outputHidden": false,
        "inputHidden": false
      }
    },
    {
      "cell_type": "markdown",
      "source": [
        "## Cumulative Probability Distribution"
      ],
      "metadata": {}
    },
    {
      "cell_type": "code",
      "source": [
        "values = df['Returns'][1:]\n",
        "x = np.linspace(values.min(), values.max(), len(values))\n",
        "loc, scale = stats.norm.fit(values)\n",
        "param_density = stats.norm.cdf(x, loc=loc, scale=scale)\n",
        "label = 'mean=%.4f, std=%.4f' % (loc, scale)\n",
        "\n",
        "fig, ax = plt.subplots(figsize=(10, 6))\n",
        "#ax.hist(values, bins=30, normed=True)\n",
        "ax.plot(x, param_density, 'r-', label=label)\n",
        "ax.legend(loc='best')\n",
        "ax.set_title(\"Cumulative Probability Distribution\")"
      ],
      "outputs": [
        {
          "output_type": "execute_result",
          "execution_count": 30,
          "data": {
            "text/plain": [
              "Text(0.5,1,'Cumulative Probability Distribution')"
            ]
          },
          "metadata": {}
        },
        {
          "output_type": "display_data",
          "data": {
            "image/png": "[encoded data removed]",
            "text/plain": [
              "<Figure size 720x432 with 1 Axes>"
            ]
          },
          "metadata": {}
        }
      ],
      "execution_count": 30,
      "metadata": {
        "collapsed": false,
        "outputHidden": false,
        "inputHidden": false
      }
    },
    {
      "cell_type": "markdown",
      "source": [
        "## Binomial Distribution"
      ],
      "metadata": {}
    },
    {
      "cell_type": "code",
      "source": [
        "from scipy.stats import binom\n",
        "\n",
        "n = len(df['Returns'])\n",
        "p = df['Returns'].mean()\n",
        "k = np.arange(0,21)\n",
        "binomial = binom.pmf(k,n,p)\n",
        "\n",
        "plt.plot(k, binomial, 'o-')\n",
        "plt.title(\"Binomial: n=%i, p=%.2f\" % (n,p), fontsize=15)\n",
        "plt.xlabel(\"Number of successes\", fontsize=15)\n",
        "plt.ylabel(\"Probability of successes\", fontsize=15)\n",
        "plt.show()"
      ],
      "outputs": [
        {
          "output_type": "display_data",
          "data": {
            "image/png": "[encoded data removed]",
            "text/plain": [
              "<Figure size 432x288 with 1 Axes>"
            ]
          },
          "metadata": {}
        }
      ],
      "execution_count": 31,
      "metadata": {
        "collapsed": false,
        "outputHidden": false,
        "inputHidden": false
      }
    },
    {
      "cell_type": "code",
      "source": [
        "s = np.random.uniform(values.min(), values.max(), len(values))\n",
        "\n",
        "import matplotlib.pyplot as plt\n",
        "count, bins, ignored = plt.hist(s, 15, density=True)\n",
        "plt.plot(bins, np.ones_like(bins), linewidth=2, color='r')\n",
        "plt.show()"
      ],
      "outputs": [
        {
          "output_type": "display_data",
          "data": {
            "image/png": "[encoded data removed]",
            "text/plain": [
              "<Figure size 432x288 with 1 Axes>"
            ]
          },
          "metadata": {}
        }
      ],
      "execution_count": 32,
      "metadata": {
        "collapsed": false,
        "outputHidden": false,
        "inputHidden": false
      }
    },
    {
      "cell_type": "code",
      "source": [
        "binom_sim = binom.rvs(n = n, p = p, size=10000)\n",
        "print(\"Mean: %f\" % np.mean(binom_sim))\n",
        "print(\"SD: %f\" % np.std(binom_sim, ddof=1))\n",
        "plt.hist(binom_sim, bins = 10, normed = True)\n",
        "plt.xlabel(\"x\")\n",
        "plt.ylabel(\"Density\")\n",
        "plt.show()"
      ],
      "outputs": [
        {
          "output_type": "stream",
          "name": "stdout",
          "text": [
            "Mean: 2.484000\n",
            "SD: 1.556980\n"
          ]
        },
        {
          "output_type": "display_data",
          "data": {
            "image/png": "[encoded data removed]",
            "text/plain": [
              "<Figure size 432x288 with 1 Axes>"
            ]
          },
          "metadata": {}
        }
      ],
      "execution_count": 33,
      "metadata": {
        "collapsed": false,
        "outputHidden": false,
        "inputHidden": false
      }
    },
    {
      "cell_type": "markdown",
      "source": [
        "## Poisson Distribution"
      ],
      "metadata": {}
    },
    {
      "cell_type": "code",
      "source": [
        "rate = 3 # Error Rate\n",
        "n = np.arange(0,10) # Number of Trials\n",
        "y = stats.poisson.pmf(n, rate)\n",
        "y"
      ],
      "outputs": [
        {
          "output_type": "execute_result",
          "execution_count": 34,
          "data": {
            "text/plain": [
              "array([ 0.04978707,  0.14936121,  0.22404181,  0.22404181,  0.16803136,\n",
              "        0.10081881,  0.05040941,  0.02160403,  0.00810151,  0.0027005 ])"
            ]
          },
          "metadata": {}
        }
      ],
      "execution_count": 34,
      "metadata": {
        "collapsed": false,
        "outputHidden": false,
        "inputHidden": false
      }
    },
    {
      "cell_type": "code",
      "source": [
        "plt.plot(n, y, 'o-')\n",
        "plt.title('Poisson: $\\lambda$ =%i' % rate)\n",
        "plt.ylabel('Probability Error')\n",
        "plt.xlabel('Number of Errors (out of 100 trials)')\n",
        "plt.show()"
      ],
      "outputs": [
        {
          "output_type": "display_data",
          "data": {
            "image/png": "[encoded data removed]",
            "text/plain": [
              "<Figure size 432x288 with 1 Axes>"
            ]
          },
          "metadata": {}
        }
      ],
      "execution_count": 35,
      "metadata": {
        "collapsed": false,
        "outputHidden": false,
        "inputHidden": false
      }
    },
    {
      "cell_type": "code",
      "source": [
        "data = stats.poisson.rvs(mu=3, loc=0, size=100)\n",
        "print(\"Mean: %f\" % np.mean(data))\n",
        "print(\"Standard Deviation: %f\" % np.std(data, ddof=1))\n",
        "\n",
        "plt.hist(data, bins = 9, normed = True)\n",
        "plt.xlim(0,10)\n",
        "plt.xlabel('Number of Errors (out of 100 trials)')\n",
        "plt.title('Simulating Poisson Random Variables')\n",
        "plt.show()"
      ],
      "outputs": [
        {
          "output_type": "stream",
          "name": "stdout",
          "text": [
            "Mean: 3.000000\n",
            "Standard Deviation: 1.758098\n"
          ]
        },
        {
          "output_type": "display_data",
          "data": {
            "image/png": "[encoded data removed]",
            "text/plain": [
              "<Figure size 432x288 with 1 Axes>"
            ]
          },
          "metadata": {}
        }
      ],
      "execution_count": 36,
      "metadata": {
        "collapsed": false,
        "outputHidden": false,
        "inputHidden": false
      }
    },
    {
      "cell_type": "markdown",
      "source": [
        "## Beta Distribution"
      ],
      "metadata": {}
    },
    {
      "cell_type": "code",
      "source": [
        "alpha = alpha\n",
        "beta = beta\n",
        "x = np.arange(0, 1, 0.01)\n",
        "y = stats.beta.pdf(x, alpha, beta)\n",
        "plt.plot(x, y)\n",
        "plt.title('Beta Distribution: alpha=%.1f, beta=%.1f' % (alpha,beta))\n",
        "plt.xlabel('Range')\n",
        "plt.ylabel('Probability density')\n",
        "plt.show()"
      ],
      "outputs": [
        {
          "output_type": "display_data",
          "data": {
            "image/png": "[encoded data removed]",
            "text/plain": [
              "<Figure size 432x288 with 1 Axes>"
            ]
          },
          "metadata": {}
        }
      ],
      "execution_count": 37,
      "metadata": {
        "collapsed": false,
        "outputHidden": false,
        "inputHidden": false
      }
    },
    {
      "cell_type": "markdown",
      "source": [
        "## Exponential Distribution"
      ],
      "metadata": {}
    },
    {
      "cell_type": "code",
      "source": [
        "lambd = 0.5 # lambda\n",
        "x = np.arange(0, 1, 0.01)\n",
        "y = lambd * np.exp(-lambd * x)\n",
        "plt.plot(x, y)\n",
        "plt.title('Exponential: $lambda\\$ = %.2f' % lambd)\n",
        "plt.xlabel(\"Range\")\n",
        "plt.ylabel(\"Probability density\")\n",
        "plt.show()"
      ],
      "outputs": [
        {
          "output_type": "display_data",
          "data": {
            "image/png": "[encoded data removed]",
            "text/plain": [
              "<Figure size 432x288 with 1 Axes>"
            ]
          },
          "metadata": {}
        }
      ],
      "execution_count": 38,
      "metadata": {
        "collapsed": false,
        "outputHidden": false,
        "inputHidden": false
      }
    },
    {
      "cell_type": "markdown",
      "source": [
        "## Lognormal Distribution "
      ],
      "metadata": {}
    },
    {
      "cell_type": "code",
      "source": [
        "from scipy.stats import lognorm\n",
        "\n",
        "s = np.random.lognormal(mu, sigma, 1000)\n",
        "\n",
        "count, bins, ignored = plt.hist(s, 100, normed=True, align='mid')\n",
        "x = np.linspace(min(bins), max(bins), 10000)\n",
        "pdf = (np.exp(-(np.log(x) - mu)**2 / (2 * sigma**2)) / (x * sigma * np.sqrt(2 * np.pi)))\n",
        "\n",
        "plt.plot(x, pdf, linewidth=2, color='r')\n",
        "plt.xlabel('Range')\n",
        "plt.ylabel('Probability')\n",
        "plt.axis('tight')\n",
        "plt.show()"
      ],
      "outputs": [
        {
          "output_type": "display_data",
          "data": {
            "image/png": "[encoded data removed]",
            "text/plain": [
              "<Figure size 432x288 with 1 Axes>"
            ]
          },
          "metadata": {}
        }
      ],
      "execution_count": 39,
      "metadata": {
        "collapsed": false,
        "outputHidden": false,
        "inputHidden": false
      }
    },
    {
      "cell_type": "markdown",
      "source": [
        "## Calculate Quantile"
      ],
      "metadata": {}
    },
    {
      "cell_type": "code",
      "source": [
        "# Quatile \n",
        "# 5% quantile\n",
        "print('5% quantile ', norm.ppf(0.05, mu, sigma))\n",
        "# 95% quantile\n",
        "print('95% quantile ', norm.ppf(0.95, mu, sigma))"
      ],
      "outputs": [
        {
          "output_type": "stream",
          "name": "stdout",
          "text": [
            "5% quantile  -1.02188692209\n",
            "95% quantile  1.02582945005\n"
          ]
        }
      ],
      "execution_count": 40,
      "metadata": {
        "collapsed": false,
        "outputHidden": false,
        "inputHidden": false
      }
    },
    {
      "cell_type": "code",
      "source": [
        "# Calcuate the 25% and 75% Quantile of the stock's returns\n",
        "# 25% quantile\n",
        "q25 = norm.ppf(0.25, mu, sigma)\n",
        "print('25% quantile ', q25)\n",
        "# 75% quantile\n",
        "q75 = norm.ppf(0.75, mu, sigma) \n",
        "print('75% quantile ', q75)"
      ],
      "outputs": [
        {
          "output_type": "stream",
          "name": "stdout",
          "text": [
            "25% quantile  -0.417872691034\n",
            "75% quantile  0.421815218993\n"
          ]
        }
      ],
      "execution_count": 41,
      "metadata": {
        "collapsed": false,
        "outputHidden": false,
        "inputHidden": false
      }
    },
    {
      "cell_type": "markdown",
      "source": [
        "## Statistical Hypothesis Tests"
      ],
      "metadata": {}
    },
    {
      "cell_type": "markdown",
      "source": [
        "Hypothesis test is a statistical method that is used to make statistical decisions for experimental data. In addition, is used for to compare two dataset. \n",
        "\n",
        "Statistical tests is used to check if the data has a Gaussian distribution or not\n",
        "\n",
        "Alpha or α: is the probability of rejecting the null hypothesis when it is true.\n",
        "\n",
        "P-values: the probability of obtaining an effect at least as extreme as the one in the sample data while assuming the truth of the null hypothesis.\n",
        "\n",
        "p-value <= alpha: reject H0, not normal.\n",
        "\n",
        "p-value > alpha: fail to reject H0, normal."
      ],
      "metadata": {}
    },
    {
      "cell_type": "markdown",
      "source": [
        "## Calculate test Statistics"
      ],
      "metadata": {}
    },
    {
      "cell_type": "code",
      "source": [
        "# https://www.statisticshowto.datasciencecentral.com/standardized-test-statistic/\n",
        "mu = df['Returns'].mean()\n",
        "sigma = df['Returns'].std(ddof=1)\n",
        "n = df['Returns'].shape[0]\n",
        "\n",
        "# if sample size n is large enough, we can use z-distribution, instead of t-distribtuion\n",
        "# mu = 0 under the null hypothesis\n",
        "zhat = (mu - 0)/(sigma/n**0.5)\n",
        "print(zhat)"
      ],
      "outputs": [
        {
          "output_type": "stream",
          "name": "stdout",
          "text": [
            "1.782379363617273\n"
          ]
        }
      ],
      "execution_count": 42,
      "metadata": {
        "collapsed": false,
        "outputHidden": false,
        "inputHidden": false
      }
    },
    {
      "cell_type": "markdown",
      "source": [
        "## Set decision criteria"
      ],
      "metadata": {}
    },
    {
      "cell_type": "code",
      "source": [
        "# confidence level\n",
        "alpha = 0.05\n",
        "\n",
        "zleft = norm.ppf(alpha/2, 0, 1)\n",
        "zright = -zleft  # z-distribution is symmetric \n",
        "print(zleft, zright)"
      ],
      "outputs": [
        {
          "output_type": "stream",
          "name": "stdout",
          "text": [
            "-1.95996398454 1.95996398454\n"
          ]
        }
      ],
      "execution_count": 43,
      "metadata": {
        "collapsed": false,
        "outputHidden": false,
        "inputHidden": false
      }
    },
    {
      "cell_type": "markdown",
      "source": [
        "## Decision to reject H0 or not"
      ],
      "metadata": {}
    },
    {
      "cell_type": "code",
      "source": [
        "print('At significant level of {}, shall we reject: {}'.format(alpha, zhat>zright or zhat<zleft))"
      ],
      "outputs": [
        {
          "output_type": "stream",
          "name": "stdout",
          "text": [
            "At significant level of 0.05, shall we reject: False\n"
          ]
        }
      ],
      "execution_count": 44,
      "metadata": {
        "collapsed": false,
        "outputHidden": false,
        "inputHidden": false
      }
    },
    {
      "cell_type": "markdown",
      "source": [
        "## One Tail Test"
      ],
      "metadata": {}
    },
    {
      "cell_type": "code",
      "source": [
        "# Test one tail\n",
        "mu = df['Returns'].mean()\n",
        "sigma = df['Returns'].std(ddof=1)\n",
        "n = df['Returns'].shape[0]\n",
        "\n",
        "# if sample size n is large enough, we can use z-distribution, instead of t-distribtuion\n",
        "# mu = 0 under the null hypothesis\n",
        "zhat = (mu - 0)/(sigma/n**0.5)\n",
        "print(zhat)"
      ],
      "outputs": [
        {
          "output_type": "stream",
          "name": "stdout",
          "text": [
            "1.782379363617273\n"
          ]
        }
      ],
      "execution_count": 45,
      "metadata": {
        "collapsed": false,
        "outputHidden": false,
        "inputHidden": false
      }
    },
    {
      "cell_type": "code",
      "source": [
        "alpha = 0.05\n",
        "\n",
        "zright = norm.ppf(1-alpha, 0, 1)\n",
        "print(zright)"
      ],
      "outputs": [
        {
          "output_type": "stream",
          "name": "stdout",
          "text": [
            "1.64485362695\n"
          ]
        }
      ],
      "execution_count": 46,
      "metadata": {
        "collapsed": false,
        "outputHidden": false,
        "inputHidden": false
      }
    },
    {
      "cell_type": "code",
      "source": [
        "print('At significant level of {}, shall we reject: {}'.format(alpha, zhat>zright))"
      ],
      "outputs": [
        {
          "output_type": "stream",
          "name": "stdout",
          "text": [
            "At significant level of 0.05, shall we reject: True\n"
          ]
        }
      ],
      "execution_count": 47,
      "metadata": {
        "collapsed": false,
        "outputHidden": false,
        "inputHidden": false
      }
    },
    {
      "cell_type": "markdown",
      "source": [
        "## Test for p-value"
      ],
      "metadata": {}
    },
    {
      "cell_type": "code",
      "source": [
        "p_value = 1 - norm.cdf(zhat, 0, 1)\n",
        "print(p_value)"
      ],
      "outputs": [
        {
          "output_type": "stream",
          "name": "stdout",
          "text": [
            "0.0373436942162\n"
          ]
        }
      ],
      "execution_count": 48,
      "metadata": {
        "collapsed": false,
        "outputHidden": false,
        "inputHidden": false
      }
    },
    {
      "cell_type": "code",
      "source": [
        "print('At significant level of {}, shall we reject: {}'.format(alpha, p_value < alpha))"
      ],
      "outputs": [
        {
          "output_type": "stream",
          "name": "stdout",
          "text": [
            "At significant level of 0.05, shall we reject: True\n"
          ]
        }
      ],
      "execution_count": 49,
      "metadata": {
        "collapsed": false,
        "outputHidden": false,
        "inputHidden": false
      }
    },
    {
      "cell_type": "markdown",
      "source": [
        "The stock data is continuous data. Here the list of doing hypothesis test.\n",
        "\n",
        "For this part, is about comparing features and targets or two samples. Some of the hypothesis testing, we can test one samples.\n",
        "\n",
        "List of continuous: https://docs.scipy.org/doc/scipy/reference/tutorial/stats/continuous.html"
      ],
      "metadata": {}
    },
    {
      "cell_type": "markdown",
      "source": [
        "## Shapiro-Wilk Test"
      ],
      "metadata": {}
    },
    {
      "cell_type": "code",
      "source": [
        "# Shapiro-Wilk Test\n",
        "from scipy.stats import shapiro\n",
        "import scipy as sp\n",
        "\n",
        "\n",
        "W_test, p_value = shapiro(df['Returns'])"
      ],
      "outputs": [],
      "execution_count": 50,
      "metadata": {
        "collapsed": false,
        "outputHidden": false,
        "inputHidden": false
      }
    },
    {
      "cell_type": "code",
      "source": [
        "# confidence level is 95%, that is, alpha=0.05\n",
        "print('Shapiro-Wilk Test')\n",
        "print('-'*40)\n",
        "\n",
        "alpha = 0.05\n",
        "if p_value < alpha:  # null hypothesis: x comes from a normal distribution\n",
        "    print(\"H0: the sample has a Gaussian distribution.\")\n",
        "    print(\"The null hypothesis can be rejected\")\n",
        "else:\n",
        "    print(\"H1: the sample does not have a Gaussian distribution.\")\n",
        "    print(\"The null hypothesis cannot be rejected\")"
      ],
      "outputs": [
        {
          "output_type": "stream",
          "name": "stdout",
          "text": [
            "Shapiro-Wilk Test\n",
            "----------------------------------------\n",
            "H0: the sample has a Gaussian distribution.\n",
            "The null hypothesis can be rejected\n"
          ]
        }
      ],
      "execution_count": 51,
      "metadata": {
        "collapsed": false,
        "outputHidden": false,
        "inputHidden": false
      }
    },
    {
      "cell_type": "markdown",
      "source": [
        "## D’Agostino’s K^2 Test"
      ],
      "metadata": {}
    },
    {
      "cell_type": "code",
      "source": [
        "# Anderson_Darling Test\n",
        "from scipy.stats import anderson\n",
        "\n",
        "result = anderson(df['Returns'].dropna())\n",
        "result"
      ],
      "outputs": [
        {
          "output_type": "execute_result",
          "execution_count": 52,
          "data": {
            "text/plain": [
              "AndersonResult(statistic=24.987609879932279, critical_values=array([ 0.574,  0.654,  0.785,  0.915,  1.089]), significance_level=array([ 15. ,  10. ,   5. ,   2.5,   1. ]))"
            ]
          },
          "metadata": {}
        }
      ],
      "execution_count": 52,
      "metadata": {
        "collapsed": false,
        "outputHidden": false,
        "inputHidden": false
      }
    },
    {
      "cell_type": "code",
      "source": [
        "print('D’Agostino’s K^2 Test')\n",
        "print('-'*40)\n",
        "print('Statistic: %.3f' % result.statistic)\n",
        "p = 0\n",
        "for i in range(len(result.critical_values)):\n",
        "\tsl, cv = result.significance_level[i], result.critical_values[i]\n",
        "\tif result.statistic < result.critical_values[i]:\n",
        "\t\tprint('%.3f: %.3f, data looks normal (fail to reject H0)' % (sl, cv))\n",
        "\telse:\n",
        "\t\tprint('%.3f: %.3f, data does not look normal (reject H0)' % (sl, cv))"
      ],
      "outputs": [
        {
          "output_type": "stream",
          "name": "stdout",
          "text": [
            "D’Agostino’s K^2 Test\n",
            "----------------------------------------\n",
            "Statistic: 24.988\n",
            "15.000: 0.574, data does not look normal (reject H0)\n",
            "10.000: 0.654, data does not look normal (reject H0)\n",
            "5.000: 0.785, data does not look normal (reject H0)\n",
            "2.500: 0.915, data does not look normal (reject H0)\n",
            "1.000: 1.089, data does not look normal (reject H0)\n"
          ]
        }
      ],
      "execution_count": 53,
      "metadata": {
        "collapsed": false,
        "outputHidden": false,
        "inputHidden": false
      }
    },
    {
      "cell_type": "markdown",
      "source": [
        "The correlation is used to test out the samples or features is correlation or not.\n",
        "\n",
        "Therefore, to check two samples or features are related or not."
      ],
      "metadata": {}
    },
    {
      "cell_type": "markdown",
      "source": [
        "## F-test"
      ],
      "metadata": {}
    },
    {
      "cell_type": "code",
      "source": [
        "import scipy\n",
        "from scipy.stats import f\n",
        "\n",
        "F = df['Adj Close'].var() / df['Returns'].var()\n",
        "df1 = len(df['Adj Close']) - 1 \n",
        "df2 = len(df['Returns']) - 1 \n",
        "p_value = scipy.stats.f.cdf(F, df1, df2)"
      ],
      "outputs": [],
      "execution_count": 54,
      "metadata": {
        "collapsed": false,
        "outputHidden": false,
        "inputHidden": false
      }
    },
    {
      "cell_type": "code",
      "source": [
        "print('F-test')\n",
        "print('-'*40)\n",
        "print('Statistic: %.3f' % p_value)\n",
        "# interpret the significance\n",
        "alpha = 0.05\n",
        "if p_value > alpha:\n",
        "\tprint('H0: the two samples are independent. p=%.3f' % p_value)\n",
        "else:\n",
        "\tprint('H1: there is a dependency between the samples. p=%.3f' % p_value)"
      ],
      "outputs": [
        {
          "output_type": "stream",
          "name": "stdout",
          "text": [
            "F-test\n",
            "----------------------------------------\n",
            "Statistic: 1.000\n",
            "H0: the two samples are independent. p=1.000\n"
          ]
        }
      ],
      "execution_count": 55,
      "metadata": {
        "collapsed": false,
        "outputHidden": false,
        "inputHidden": false
      }
    },
    {
      "cell_type": "markdown",
      "source": [
        "## Pearson’s Correlation Coefficient"
      ],
      "metadata": {}
    },
    {
      "cell_type": "code",
      "source": [
        "from scipy.stats import pearsonr\n",
        "\n",
        "coef, p_value = pearsonr(df['Open'], df['Adj Close'])"
      ],
      "outputs": [],
      "execution_count": 56,
      "metadata": {
        "collapsed": false,
        "outputHidden": false,
        "inputHidden": false
      }
    },
    {
      "cell_type": "code",
      "source": [
        "print('Pearson’s Correlation Coefficient')\n",
        "print('-'*40)\n",
        "print('Correlation Test: %.3f' % coef)\n",
        "# interpret the significance\n",
        "alpha = 0.05\n",
        "if p_value > alpha:\n",
        "\tprint('H0: the two samples are independent. p=%.3f' % p_value)\n",
        "else:\n",
        "\tprint('H1: there is a dependency between the samples. p=%.3f' % p_value)"
      ],
      "outputs": [
        {
          "output_type": "stream",
          "name": "stdout",
          "text": [
            "Pearson’s Correlation Coefficient\n",
            "----------------------------------------\n",
            "Correlation Test: 0.998\n",
            "H1: there is a dependency between the samples. p=0.000\n"
          ]
        }
      ],
      "execution_count": 57,
      "metadata": {
        "collapsed": false,
        "outputHidden": false,
        "inputHidden": false
      }
    },
    {
      "cell_type": "markdown",
      "source": [
        "## Spearman's Rank Correlation"
      ],
      "metadata": {}
    },
    {
      "cell_type": "code",
      "source": [
        "# Spearman's Rank Correlation\n",
        "from scipy.stats import spearmanr\n",
        "\n",
        "coef, p_value = spearmanr(df['Open'], df['Adj Close'])"
      ],
      "outputs": [],
      "execution_count": 58,
      "metadata": {
        "collapsed": false,
        "outputHidden": false,
        "inputHidden": false
      }
    },
    {
      "cell_type": "code",
      "source": [
        "print('Spearman’s Rank Correlation')\n",
        "print('-'*40)\n",
        "print('Spearmans correlation coefficient: %.3f' % coef)\n",
        "# interpret the significance\n",
        "alpha = 0.05\n",
        "if p_value > alpha:\n",
        "\tprint('Samples are uncorrelated (fail to reject H0) p=%.3f' % p_value)\n",
        "else:\n",
        "\tprint('Samples are correlated (reject H0) p=%.3f' % p_value)"
      ],
      "outputs": [
        {
          "output_type": "stream",
          "name": "stdout",
          "text": [
            "Spearman’s Rank Correlation\n",
            "----------------------------------------\n",
            "Spearmans correlation coefficient: 0.998\n",
            "Samples are correlated (reject H0) p=0.000\n"
          ]
        }
      ],
      "execution_count": 59,
      "metadata": {
        "collapsed": false,
        "outputHidden": false,
        "inputHidden": false
      }
    },
    {
      "cell_type": "markdown",
      "source": [
        "## Kendall's Rank Correlation"
      ],
      "metadata": {}
    },
    {
      "cell_type": "code",
      "source": [
        "# Kendall's Rank Correlation\n",
        "from scipy.stats import kendalltau\n",
        "\n",
        "coef, p_value = kendalltau(df['Open'], df['Adj Close'])"
      ],
      "outputs": [],
      "execution_count": 60,
      "metadata": {
        "collapsed": false,
        "outputHidden": false,
        "inputHidden": false
      }
    },
    {
      "cell_type": "code",
      "source": [
        "print('Kendall’s Rank Correlation')\n",
        "print('-'*40)\n",
        "print('Kendall correlation coefficient: %.3f' % coef)\n",
        "# interpret the significance\n",
        "alpha = 0.05\n",
        "if p > alpha:\n",
        "\tprint('Samples are uncorrelated (fail to reject H0) p=%.3f' % p_value)\n",
        "else:\n",
        "\tprint('Samples are correlated (reject H0) p=%.3f' % p_value)"
      ],
      "outputs": [
        {
          "output_type": "stream",
          "name": "stdout",
          "text": [
            "Kendall’s Rank Correlation\n",
            "----------------------------------------\n",
            "Kendall correlation coefficient: 0.967\n",
            "Samples are correlated (reject H0) p=0.000\n"
          ]
        }
      ],
      "execution_count": 61,
      "metadata": {
        "collapsed": false,
        "outputHidden": false,
        "inputHidden": false
      }
    },
    {
      "cell_type": "markdown",
      "source": [
        "## Chi-Squared Test"
      ],
      "metadata": {}
    },
    {
      "cell_type": "code",
      "source": [
        "# Chi-Squared Test\n",
        "from scipy.stats import chi2_contingency\n",
        "from scipy.stats import chi2\n",
        "\n",
        "stat, p_value, dof, expected = chi2_contingency(df[['Open','Low','High','Adj Close','Volume']])"
      ],
      "outputs": [],
      "execution_count": 62,
      "metadata": {
        "collapsed": false,
        "outputHidden": false,
        "inputHidden": false
      }
    },
    {
      "cell_type": "code",
      "source": [
        "# interpret test-statistic\n",
        "print('Chi-Squared Test')\n",
        "print('-'*40)\n",
        "\n",
        "prob = 0.95\n",
        "critical = chi2.ppf(prob, dof)\n",
        "if abs(stat) >= critical:\n",
        "\tprint('Dependent (reject H0)')\n",
        "else:\n",
        "\tprint('Independent (fail to reject H0)')"
      ],
      "outputs": [
        {
          "output_type": "stream",
          "name": "stdout",
          "text": [
            "Chi-Squared Test\n",
            "----------------------------------------\n",
            "Dependent (reject H0)\n"
          ]
        }
      ],
      "execution_count": 63,
      "metadata": {
        "collapsed": false,
        "outputHidden": false,
        "inputHidden": false
      }
    },
    {
      "cell_type": "code",
      "source": [
        "# interpret p-value\n",
        "alpha = 1.0 - prob\n",
        "if p_value <= alpha:\n",
        "\tprint('Dependent (reject H0)')\n",
        "else:\n",
        "\tprint('Independent (fail to reject H0)')"
      ],
      "outputs": [
        {
          "output_type": "stream",
          "name": "stdout",
          "text": [
            "Dependent (reject H0)\n"
          ]
        }
      ],
      "execution_count": 64,
      "metadata": {
        "collapsed": false,
        "outputHidden": false,
        "inputHidden": false
      }
    },
    {
      "cell_type": "code",
      "source": [
        "print('dof=%d' % dof)\n",
        "print(expected)\n",
        "# interpret test-statistic\n",
        "prob = 0.95\n",
        "critical = chi2.ppf(prob, dof)\n",
        "print('probability=%.3f, critical=%.3f, stat=%.3f' % (prob, critical, stat))\n",
        "if abs(stat) >= critical:\n",
        "\tprint('Dependent (reject H0)')\n",
        "else:\n",
        "\tprint('Independent (fail to reject H0)')\n",
        "# interpret p-value\n",
        "alpha = 1.0 - prob\n",
        "print('significance=%.3f, p=%.3f' % (alpha, p_value))\n",
        "if p <= alpha:\n",
        "\tprint('Dependent (reject H0)')\n",
        "else:\n",
        "\tprint('Independent (fail to reject H0)')"
      ],
      "outputs": [
        {
          "output_type": "stream",
          "name": "stdout",
          "text": [
            "dof=5024\n",
            "[[  4.29482020e+00   4.19128857e+00   4.39401482e+00   4.29387501e+00\n",
            "    2.28871987e+07]\n",
            " [  7.95610731e+00   7.76431610e+00   8.13986425e+00   7.95435634e+00\n",
            "    4.23982845e+07]\n",
            " [  8.05627575e+00   7.86206987e+00   8.24234622e+00   8.05450274e+00\n",
            "    4.29320845e+07]\n",
            " ..., \n",
            " [  2.08993226e+01   2.03955201e+01   2.13820204e+01   2.08947231e+01\n",
            "    1.11372986e+08]\n",
            " [  2.04942584e+01   2.00002205e+01   2.09676007e+01   2.04897480e+01\n",
            "    1.09214389e+08]\n",
            " [  1.59001374e+01   1.55168462e+01   1.62673724e+01   1.58966382e+01\n",
            "    8.47322094e+07]]\n",
            "probability=0.950, critical=5190.009, stat=14246523.362\n",
            "Dependent (reject H0)\n",
            "significance=0.050, p=0.000\n",
            "Dependent (reject H0)\n"
          ]
        }
      ],
      "execution_count": 65,
      "metadata": {
        "collapsed": false,
        "outputHidden": false,
        "inputHidden": false
      }
    },
    {
      "cell_type": "markdown",
      "source": [
        "This part is to compare two samples or features; as a results, to check if they both independent samples."
      ],
      "metadata": {}
    },
    {
      "cell_type": "markdown",
      "source": [
        "## Parametric Statistical Hypothesis Tests"
      ],
      "metadata": {}
    },
    {
      "cell_type": "markdown",
      "source": [
        "T-test for the means of two independent samples of scores Two-sided test for the null hypothesis that 2 independent samples have identical average (expected) values"
      ],
      "metadata": {}
    },
    {
      "cell_type": "code",
      "source": [
        "# Parametric Statistical Hypothesis Tests\n",
        "# Student’s t-test\n",
        "from scipy.stats import ttest_ind\n",
        "\n",
        "stat, p_value = ttest_ind(df['Open'], df['Adj Close'])"
      ],
      "outputs": [],
      "execution_count": 66,
      "metadata": {
        "collapsed": false,
        "outputHidden": false,
        "inputHidden": false
      }
    },
    {
      "cell_type": "code",
      "source": [
        "print('Paired Students t-Test')\n",
        "print('-'*40)\n",
        "print('Statistics=%.3f, p=%.3f' % (stat, p_value))\n",
        "# interpret\n",
        "alpha = 0.05\n",
        "if p_value > alpha:\n",
        "\tprint('Same distributions (fail to reject H0)')\n",
        "else:\n",
        "\tprint('Different distributions (reject H0)')"
      ],
      "outputs": [
        {
          "output_type": "stream",
          "name": "stdout",
          "text": [
            "Paired Students t-Test\n",
            "----------------------------------------\n",
            "Statistics=0.007, p=0.994\n",
            "Same distributions (fail to reject H0)\n"
          ]
        }
      ],
      "execution_count": 67,
      "metadata": {
        "collapsed": false,
        "outputHidden": false,
        "inputHidden": false
      }
    },
    {
      "cell_type": "markdown",
      "source": [
        "## Paired Student’s t-test"
      ],
      "metadata": {}
    },
    {
      "cell_type": "code",
      "source": [
        "# Paired Student’s t-test\n",
        "from scipy.stats import ttest_rel\n",
        "\n",
        "stat, p_value = ttest_rel(df['Open'], df['Adj Close'])"
      ],
      "outputs": [],
      "execution_count": 68,
      "metadata": {
        "collapsed": false,
        "outputHidden": false,
        "inputHidden": false
      }
    },
    {
      "cell_type": "code",
      "source": [
        "print('Paired Students t-Test')\n",
        "print('-'*40)\n",
        "print('Statistics=%.3f, p=%.3f' % (stat, p))\n",
        "# interpret\n",
        "alpha = 0.05\n",
        "if p_value > alpha:\n",
        "\tprint('Same distributions (fail to reject H0)')\n",
        "else:\n",
        "\tprint('Different distributions (reject H0)')"
      ],
      "outputs": [
        {
          "output_type": "stream",
          "name": "stdout",
          "text": [
            "Paired Students t-Test\n",
            "----------------------------------------\n",
            "Statistics=0.171, p=0.000\n",
            "Same distributions (fail to reject H0)\n"
          ]
        }
      ],
      "execution_count": 69,
      "metadata": {
        "collapsed": false,
        "outputHidden": false,
        "inputHidden": false
      }
    },
    {
      "cell_type": "markdown",
      "source": [
        "## Analysis of Variance Test (ANOVA)"
      ],
      "metadata": {}
    },
    {
      "cell_type": "code",
      "source": [
        "# Analysis of Variance Test (ANOVA)\n",
        "from scipy.stats import f_oneway\n",
        "\n",
        "stat, p_value = f_oneway(df['Open'], df['Adj Close'], df['Volume'])"
      ],
      "outputs": [],
      "execution_count": 70,
      "metadata": {
        "collapsed": false,
        "outputHidden": false,
        "inputHidden": false
      }
    },
    {
      "cell_type": "code",
      "source": [
        "print('Analysis of Variance Test (ANOVA)')\n",
        "print('-'*40)\n",
        "print('Statistics=%.3f, p=%.3f' % (stat, p_value))\n",
        "# interpret\n",
        "alpha = 0.05\n",
        "if p_value > alpha:\n",
        "\tprint('Same distributions (fail to reject H0)')\n",
        "else:\n",
        "\tprint('Different distributions (reject H0)')"
      ],
      "outputs": [
        {
          "output_type": "stream",
          "name": "stdout",
          "text": [
            "Analysis of Variance Test (ANOVA)\n",
            "----------------------------------------\n",
            "Statistics=1424.935, p=0.000\n",
            "Different distributions (reject H0)\n"
          ]
        }
      ],
      "execution_count": 71,
      "metadata": {
        "collapsed": false,
        "outputHidden": false,
        "inputHidden": false
      }
    },
    {
      "cell_type": "markdown",
      "source": [
        "## Mann-Whitney U Test"
      ],
      "metadata": {}
    },
    {
      "cell_type": "code",
      "source": [
        "# Nonparametric Statistical Hypothesis Tests\n",
        "# Mann-Whitney U Test\n",
        "from scipy.stats import mannwhitneyu\n",
        "\n",
        "stat, p_value = mannwhitneyu(df['Open'], df['Adj Close'])"
      ],
      "outputs": [],
      "execution_count": 72,
      "metadata": {
        "collapsed": false,
        "outputHidden": false,
        "inputHidden": false
      }
    },
    {
      "cell_type": "code",
      "source": [
        "print('Mann-Whitney U Test')\n",
        "print('-'*40)\n",
        "print('Statistics=%.3f, p=%.3f' % (stat, p_value))\n",
        "# interpret\n",
        "alpha = 0.05\n",
        "if p_value > alpha:\n",
        "\tprint('Same distribution (fail to reject H0)')\n",
        "else:\n",
        "\tprint('Different distribution (reject H0)')"
      ],
      "outputs": [
        {
          "output_type": "stream",
          "name": "stdout",
          "text": [
            "Mann-Whitney U Test\n",
            "----------------------------------------\n",
            "Statistics=789756.500, p=0.494\n",
            "Same distribution (fail to reject H0)\n"
          ]
        }
      ],
      "execution_count": 73,
      "metadata": {
        "collapsed": false,
        "outputHidden": false,
        "inputHidden": false
      }
    },
    {
      "cell_type": "markdown",
      "source": [
        "## Wilcoxon Signed-Rank Test"
      ],
      "metadata": {}
    },
    {
      "cell_type": "code",
      "source": [
        "# Wilcoxon Signed-Rank Test\n",
        "from scipy.stats import wilcoxon\n",
        "\n",
        "stat, p_value = wilcoxon(df['Open'], df['Adj Close'])"
      ],
      "outputs": [],
      "execution_count": 74,
      "metadata": {
        "collapsed": false,
        "outputHidden": false,
        "inputHidden": false
      }
    },
    {
      "cell_type": "code",
      "source": [
        "print('Wilcoxon Signed-Rank Test')\n",
        "print('-'*40)\n",
        "print('Statistics=%.3f, p=%.3f' % (stat, p_value))\n",
        "# interpret\n",
        "alpha = 0.05\n",
        "if p_value > alpha:\n",
        "\tprint('Same distribution (fail to reject H0)')\n",
        "else:\n",
        "\tprint('Different distribution (reject H0)')"
      ],
      "outputs": [
        {
          "output_type": "stream",
          "name": "stdout",
          "text": [
            "Wilcoxon Signed-Rank Test\n",
            "----------------------------------------\n",
            "Statistics=364609.000, p=0.849\n",
            "Same distribution (fail to reject H0)\n"
          ]
        }
      ],
      "execution_count": 75,
      "metadata": {
        "collapsed": false,
        "outputHidden": false,
        "inputHidden": false
      }
    },
    {
      "cell_type": "markdown",
      "source": [
        "## Kruskal-Wallis Test"
      ],
      "metadata": {}
    },
    {
      "cell_type": "code",
      "source": [
        "# Kruskal-Wallis Test\n",
        "from scipy.stats import kruskal\n",
        "\n",
        "stat, p_value = kruskal(df['Open'], df['Adj Close'], df['Volume'])"
      ],
      "outputs": [],
      "execution_count": 76,
      "metadata": {
        "collapsed": false,
        "outputHidden": false,
        "inputHidden": false
      }
    },
    {
      "cell_type": "code",
      "source": [
        "print('Kruskal-Wallis Test')\n",
        "print('-'*40)\n",
        "print('Statistics=%.3f, p=%.3f' % (stat, p_value))\n",
        "# interpret\n",
        "alpha = 0.05\n",
        "if p_value > alpha:\n",
        "\tprint('Same distributions (fail to reject H0)')\n",
        "else:\n",
        "\tprint('Different distributions (reject H0)')"
      ],
      "outputs": [
        {
          "output_type": "stream",
          "name": "stdout",
          "text": [
            "Kruskal-Wallis Test\n",
            "----------------------------------------\n",
            "Statistics=2505.346, p=0.000\n",
            "Different distributions (reject H0)\n"
          ]
        }
      ],
      "execution_count": 77,
      "metadata": {
        "collapsed": false,
        "outputHidden": false,
        "inputHidden": false
      }
    },
    {
      "cell_type": "markdown",
      "source": [
        "## Friedman Test"
      ],
      "metadata": {}
    },
    {
      "cell_type": "code",
      "source": [
        "from scipy.stats import friedmanchisquare\n",
        "\n",
        "stat, p_value = friedmanchisquare(df['Open'], df['Adj Close'], df['Volume'])"
      ],
      "outputs": [],
      "execution_count": 78,
      "metadata": {
        "collapsed": false,
        "outputHidden": false,
        "inputHidden": false
      }
    },
    {
      "cell_type": "code",
      "source": [
        "print('Friedman Test')\n",
        "print('-'*40)\n",
        "print('Statistics=%.3f, p=%.3f' % (stat, p_value))\n",
        "# interpret\n",
        "alpha = 0.05\n",
        "if p_value > alpha:\n",
        "\tprint('Same distributions (fail to reject H0)')\n",
        "else:\n",
        "\tprint('Different distributions (reject H0)')"
      ],
      "outputs": [
        {
          "output_type": "stream",
          "name": "stdout",
          "text": [
            "Friedman Test\n",
            "----------------------------------------\n",
            "Statistics=1897.004, p=0.000\n",
            "Different distributions (reject H0)\n"
          ]
        }
      ],
      "execution_count": 79,
      "metadata": {
        "collapsed": false,
        "outputHidden": false,
        "inputHidden": false
      }
    },
    {
      "cell_type": "markdown",
      "source": [
        "## Levene Test"
      ],
      "metadata": {}
    },
    {
      "cell_type": "code",
      "source": [
        "# Levene Test\n",
        "from scipy.stats import levene\n",
        "\n",
        "stat, p_value = levene(df['Open'], df['Adj Close'])"
      ],
      "outputs": [],
      "execution_count": 80,
      "metadata": {
        "collapsed": false,
        "outputHidden": false,
        "inputHidden": false
      }
    },
    {
      "cell_type": "code",
      "source": [
        "print('Levene Test')\n",
        "print('-'*40)\n",
        "print('Statistics=%.3f, p=%.3f' % (stat, p_value))\n",
        "# interpret\n",
        "alpha = 0.05\n",
        "if p_value > alpha:\n",
        "\tprint('Same distributions (fail to reject H0)')\n",
        "else:\n",
        "\tprint('Different distributions (reject H0)')"
      ],
      "outputs": [
        {
          "output_type": "stream",
          "name": "stdout",
          "text": [
            "Levene Test\n",
            "----------------------------------------\n",
            "Statistics=0.000, p=0.983\n",
            "Same distributions (fail to reject H0)\n"
          ]
        }
      ],
      "execution_count": 81,
      "metadata": {
        "collapsed": false,
        "outputHidden": false,
        "inputHidden": false
      }
    },
    {
      "cell_type": "markdown",
      "source": [
        "## Mood's Test"
      ],
      "metadata": {}
    },
    {
      "cell_type": "code",
      "source": [
        "from scipy.stats import mood\n",
        "\n",
        "stat, p_value = mood(df['Open'], df['Adj Close'])"
      ],
      "outputs": [],
      "execution_count": 82,
      "metadata": {
        "collapsed": false,
        "outputHidden": false,
        "inputHidden": false
      }
    },
    {
      "cell_type": "code",
      "source": [
        "print('Mood Test')\n",
        "print('-'*40)\n",
        "print('Statistics=%.3f, p=%.3f' % (stat, p_value))\n",
        "# interpret\n",
        "alpha = 0.05\n",
        "if p_value > alpha:\n",
        "\tprint('Same distributions (fail to reject H0)')\n",
        "else:\n",
        "\tprint('Different distributions (reject H0)')"
      ],
      "outputs": [
        {
          "output_type": "stream",
          "name": "stdout",
          "text": [
            "Mood Test\n",
            "----------------------------------------\n",
            "Statistics=0.005, p=0.996\n",
            "Same distributions (fail to reject H0)\n"
          ]
        }
      ],
      "execution_count": 83,
      "metadata": {
        "collapsed": false,
        "outputHidden": false,
        "inputHidden": false
      }
    },
    {
      "cell_type": "markdown",
      "source": [
        "## Mood’s median test"
      ],
      "metadata": {}
    },
    {
      "cell_type": "code",
      "source": [
        "from scipy.stats import median_test\n",
        "\n",
        "stat, p_value, med, tbl = median_test(df['Open'], df['Adj Close'], df['Volume'])"
      ],
      "outputs": [],
      "execution_count": 84,
      "metadata": {
        "collapsed": false,
        "outputHidden": false,
        "inputHidden": false
      }
    },
    {
      "cell_type": "code",
      "source": [
        "print('Mood’s median test')\n",
        "print('-'*40)\n",
        "print('Statistics=%.3f, p=%.3f' % (stat, p_value))\n",
        "# interpret\n",
        "alpha = 0.05\n",
        "if p_value > alpha:\n",
        "\tprint('Same distributions (fail to reject H0)')\n",
        "else:\n",
        "\tprint('Different distributions (reject H0)')"
      ],
      "outputs": [
        {
          "output_type": "stream",
          "name": "stdout",
          "text": [
            "Mood’s median test\n",
            "----------------------------------------\n",
            "Statistics=1880.581, p=0.000\n",
            "Different distributions (reject H0)\n"
          ]
        }
      ],
      "execution_count": 85,
      "metadata": {
        "collapsed": false,
        "outputHidden": false,
        "inputHidden": false
      }
    },
    {
      "cell_type": "code",
      "source": [
        "stat, p_value, med, tbl = median_test(df['Open'], df['Adj Close'], df['Volume'],lambda_=\"log-likelihood\")"
      ],
      "outputs": [],
      "execution_count": 86,
      "metadata": {
        "collapsed": false,
        "outputHidden": false,
        "inputHidden": false
      }
    },
    {
      "cell_type": "code",
      "source": [
        "print('Mood’s median test with lambda')\n",
        "print('-'*40)\n",
        "print('Statistics=%.3f, p=%.3f' % (stat, p_value))\n",
        "# interpret\n",
        "alpha = 0.05\n",
        "if p_value > alpha:\n",
        "\tprint('Same distributions (fail to reject H0)')\n",
        "else:\n",
        "\tprint('Different distributions (reject H0)')"
      ],
      "outputs": [
        {
          "output_type": "stream",
          "name": "stdout",
          "text": [
            "Mood’s median test with lambda\n",
            "----------------------------------------\n",
            "Statistics=2383.028, p=0.000\n",
            "Different distributions (reject H0)\n"
          ]
        }
      ],
      "execution_count": 87,
      "metadata": {
        "collapsed": false,
        "outputHidden": false,
        "inputHidden": false
      }
    },
    {
      "cell_type": "markdown",
      "source": [
        "## Kolmogorov-Smirnov Test"
      ],
      "metadata": {}
    },
    {
      "cell_type": "code",
      "source": [
        "# Kolmogorov-Smirnov test\n",
        "from scipy.stats import ks_2samp\n",
        "\n",
        "stat, p_value = ks_2samp(df['Open'], df['Adj Close'])"
      ],
      "outputs": [],
      "execution_count": 88,
      "metadata": {
        "collapsed": false,
        "outputHidden": false,
        "inputHidden": false
      }
    },
    {
      "cell_type": "code",
      "source": [
        "print('Kolmogorov-Smirnov Test')\n",
        "print('-'*40)\n",
        "print('Statistics=%.3f, p=%.3f' % (stat, p_value))\n",
        "# interpret\n",
        "alpha = 0.05\n",
        "if p_value > alpha:\n",
        "\tprint('Same distributions (fail to reject H0)')\n",
        "else:\n",
        "\tprint('Different distributions (reject H0)')"
      ],
      "outputs": [
        {
          "output_type": "stream",
          "name": "stdout",
          "text": [
            "Kolmogorov-Smirnov Test\n",
            "----------------------------------------\n",
            "Statistics=0.006, p=1.000\n",
            "Same distributions (fail to reject H0)\n"
          ]
        }
      ],
      "execution_count": 89,
      "metadata": {
        "collapsed": false,
        "outputHidden": false,
        "inputHidden": false
      }
    },
    {
      "cell_type": "markdown",
      "source": [
        "## Box-Cox Power Transformation"
      ],
      "metadata": {}
    },
    {
      "cell_type": "code",
      "source": [
        "from scipy.stats import boxcox\n",
        "\n",
        "df['boxcox'], lam = boxcox(df['Adj Close'])"
      ],
      "outputs": [],
      "execution_count": 90,
      "metadata": {
        "collapsed": false,
        "outputHidden": false,
        "inputHidden": false
      }
    },
    {
      "cell_type": "code",
      "source": [
        "print('Lambda: %f' % lam)"
      ],
      "outputs": [
        {
          "output_type": "stream",
          "name": "stdout",
          "text": [
            "Lambda: -0.119624\n"
          ]
        }
      ],
      "execution_count": 91,
      "metadata": {
        "collapsed": false,
        "outputHidden": false,
        "inputHidden": false
      }
    },
    {
      "cell_type": "code",
      "source": [
        "# Plot line\n",
        "plt.title('Stock Box-Cox Power Transformation')\n",
        "plt.plot(df['boxcox'])\n",
        "plt.show()"
      ],
      "outputs": [
        {
          "output_type": "display_data",
          "data": {
            "image/png": "[encoded data removed]",
            "text/plain": [
              "<Figure size 432x288 with 1 Axes>"
            ]
          },
          "metadata": {}
        }
      ],
      "execution_count": 92,
      "metadata": {
        "collapsed": false,
        "outputHidden": false,
        "inputHidden": false
      }
    },
    {
      "cell_type": "code",
      "source": [
        "# Plot histogram\n",
        "plt.title('Stock Box-Cox Power Transformation in Histogram')\n",
        "plt.hist(df['boxcox'])\n",
        "plt.grid()\n",
        "plt.show()"
      ],
      "outputs": [
        {
          "output_type": "display_data",
          "data": {
            "image/png": "[encoded data removed]",
            "text/plain": [
              "<Figure size 432x288 with 1 Axes>"
            ]
          },
          "metadata": {}
        }
      ],
      "execution_count": 93,
      "metadata": {
        "collapsed": false,
        "outputHidden": false,
        "inputHidden": false
      }
    }
  ],
  "metadata": {
    "kernel_info": {
      "name": "python3"
    },
    "language_info": {
      "nbconvert_exporter": "python",
      "version": "3.5.5",
      "mimetype": "text/x-python",
      "name": "python",
      "codemirror_mode": {
        "version": 3,
        "name": "ipython"
      },
      "file_extension": ".py",
      "pygments_lexer": "ipython3"
    },
    "kernelspec": {
      "name": "python3",
      "language": "python",
      "display_name": "Python 3"
    },
    "nteract": {
      "version": "0.14.4"
    }
  },
  "nbformat": 4,
  "nbformat_minor": 0
}