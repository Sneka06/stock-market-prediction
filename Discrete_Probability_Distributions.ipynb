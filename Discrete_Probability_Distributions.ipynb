{
  "cells": [
    {
      "cell_type": "markdown",
      "source": [
        "# Discrete Probability Distributions for Machine Learning"
      ],
      "metadata": {
        "nteract": {
          "transient": {
            "deleting": false
          }
        }
      }
    },
    {
      "cell_type": "code",
      "source": [
        "import pandas as pd\n",
        "import numpy as np\n",
        "import matplotlib.pyplot as plt\n",
        "import seaborn as sns\n",
        "\n",
        "import warnings\n",
        "warnings.filterwarnings(\"ignore\")\n",
        "\n",
        "import yfinance as yf\n",
        "yf.pdr_override()"
      ],
      "outputs": [],
      "execution_count": 1,
      "metadata": {
        "collapsed": true,
        "jupyter": {
          "source_hidden": false,
          "outputs_hidden": false
        },
        "nteract": {
          "transient": {
            "deleting": false
          }
        },
        "execution": {
          "iopub.status.busy": "2022-05-10T00:54:25.600Z",
          "iopub.execute_input": "2022-05-10T00:54:25.606Z",
          "shell.execute_reply": "2022-05-10T00:54:26.269Z",
          "iopub.status.idle": "2022-05-10T00:54:26.277Z"
        }
      }
    },
    {
      "cell_type": "code",
      "source": [
        "# input\n",
        "start = '2021-01-01'\n",
        "end = '2022-01-01'\n",
        "symbol = 'AMD'\n",
        "\n",
        "# Read data \n",
        "dataset = yf.download(symbol,start,end)\n",
        "\n",
        "# View Columns\n",
        "dataset.head()"
      ],
      "outputs": [
        {
          "output_type": "stream",
          "name": "stdout",
          "text": [
            "[*********************100%***********************]  1 of 1 completed\n"
          ]
        },
        {
          "output_type": "execute_result",
          "execution_count": 2,
          "data": {
            "text/plain": "                 Open       High        Low      Close  Adj Close    Volume\nDate                                                                       \n2021-01-04  92.110001  96.059998  90.919998  92.300003  92.300003  51802600\n2021-01-05  92.099998  93.209999  91.410004  92.769997  92.769997  34208000\n2021-01-06  91.620003  92.279999  89.459999  90.330002  90.330002  51911700\n2021-01-07  91.330002  95.510002  91.199997  95.160004  95.160004  42897200\n2021-01-08  95.980003  96.400002  93.269997  94.580002  94.580002  39816400",
            "text/html": "<div>\n<style scoped>\n    .dataframe tbody tr th:only-of-type {\n        vertical-align: middle;\n    }\n\n    .dataframe tbody tr th {\n        vertical-align: top;\n    }\n\n    .dataframe thead th {\n        text-align: right;\n    }\n</style>\n<table border=\"1\" class=\"dataframe\">\n  <thead>\n    <tr style=\"text-align: right;\">\n      <th></th>\n      <th>Open</th>\n      <th>High</th>\n      <th>Low</th>\n      <th>Close</th>\n      <th>Adj Close</th>\n      <th>Volume</th>\n    </tr>\n    <tr>\n      <th>Date</th>\n      <th></th>\n      <th></th>\n      <th></th>\n      <th></th>\n      <th></th>\n      <th></th>\n    </tr>\n  </thead>\n  <tbody>\n    <tr>\n      <th>2021-01-04</th>\n      <td>92.110001</td>\n      <td>96.059998</td>\n      <td>90.919998</td>\n      <td>92.300003</td>\n      <td>92.300003</td>\n      <td>51802600</td>\n    </tr>\n    <tr>\n      <th>2021-01-05</th>\n      <td>92.099998</td>\n      <td>93.209999</td>\n      <td>91.410004</td>\n      <td>92.769997</td>\n      <td>92.769997</td>\n      <td>34208000</td>\n    </tr>\n    <tr>\n      <th>2021-01-06</th>\n      <td>91.620003</td>\n      <td>92.279999</td>\n      <td>89.459999</td>\n      <td>90.330002</td>\n      <td>90.330002</td>\n      <td>51911700</td>\n    </tr>\n    <tr>\n      <th>2021-01-07</th>\n      <td>91.330002</td>\n      <td>95.510002</td>\n      <td>91.199997</td>\n      <td>95.160004</td>\n      <td>95.160004</td>\n      <td>42897200</td>\n    </tr>\n    <tr>\n      <th>2021-01-08</th>\n      <td>95.980003</td>\n      <td>96.400002</td>\n      <td>93.269997</td>\n      <td>94.580002</td>\n      <td>94.580002</td>\n      <td>39816400</td>\n    </tr>\n  </tbody>\n</table>\n</div>"
          },
          "metadata": {}
        }
      ],
      "execution_count": 2,
      "metadata": {
        "collapsed": true,
        "jupyter": {
          "source_hidden": false,
          "outputs_hidden": false
        },
        "nteract": {
          "transient": {
            "deleting": false
          }
        },
        "execution": {
          "iopub.status.busy": "2022-05-10T00:54:26.286Z",
          "iopub.execute_input": "2022-05-10T00:54:26.291Z",
          "iopub.status.idle": "2022-05-10T00:54:27.087Z",
          "shell.execute_reply": "2022-05-10T00:54:27.374Z"
        }
      }
    },
    {
      "cell_type": "code",
      "source": [
        "dataset.shape"
      ],
      "outputs": [
        {
          "output_type": "execute_result",
          "execution_count": 3,
          "data": {
            "text/plain": "(252, 6)"
          },
          "metadata": {}
        }
      ],
      "execution_count": 3,
      "metadata": {
        "collapsed": true,
        "jupyter": {
          "source_hidden": false,
          "outputs_hidden": false
        },
        "nteract": {
          "transient": {
            "deleting": false
          }
        },
        "execution": {
          "iopub.status.busy": "2022-05-10T00:54:27.093Z",
          "iopub.execute_input": "2022-05-10T00:54:27.098Z",
          "iopub.status.idle": "2022-05-10T00:54:27.109Z",
          "shell.execute_reply": "2022-05-10T00:54:27.378Z"
        }
      }
    },
    {
      "cell_type": "code",
      "source": [
        "x = np.array(dataset['Adj Close']).squeeze()"
      ],
      "outputs": [],
      "execution_count": 4,
      "metadata": {
        "collapsed": true,
        "jupyter": {
          "source_hidden": false,
          "outputs_hidden": false
        },
        "nteract": {
          "transient": {
            "deleting": false
          }
        },
        "execution": {
          "iopub.status.busy": "2022-05-10T00:54:27.117Z",
          "iopub.execute_input": "2022-05-10T00:54:27.122Z",
          "iopub.status.idle": "2022-05-10T00:54:27.130Z",
          "shell.execute_reply": "2022-05-10T00:54:27.381Z"
        }
      }
    },
    {
      "cell_type": "code",
      "source": [
        "import collections\n",
        "\n",
        "repeat_numbers = [item for item, count in collections.Counter(x).items() if count > 1]"
      ],
      "outputs": [],
      "execution_count": 5,
      "metadata": {
        "collapsed": true,
        "jupyter": {
          "source_hidden": false,
          "outputs_hidden": false
        },
        "nteract": {
          "transient": {
            "deleting": false
          }
        },
        "execution": {
          "iopub.status.busy": "2022-05-10T00:54:27.137Z",
          "iopub.execute_input": "2022-05-10T00:54:27.142Z",
          "iopub.status.idle": "2022-05-10T00:54:27.150Z",
          "shell.execute_reply": "2022-05-10T00:54:27.384Z"
        }
      }
    },
    {
      "cell_type": "code",
      "source": [
        "repeat_numbers"
      ],
      "outputs": [
        {
          "output_type": "execute_result",
          "execution_count": 6,
          "data": {
            "text/plain": "[79.05999755859375, 82.76000213623047, 78.55000305175781, 106.1500015258789]"
          },
          "metadata": {}
        }
      ],
      "execution_count": 6,
      "metadata": {
        "collapsed": true,
        "jupyter": {
          "source_hidden": false,
          "outputs_hidden": false
        },
        "nteract": {
          "transient": {
            "deleting": false
          }
        },
        "execution": {
          "iopub.status.busy": "2022-05-10T00:54:27.157Z",
          "iopub.execute_input": "2022-05-10T00:54:27.162Z",
          "iopub.status.idle": "2022-05-10T00:54:27.172Z",
          "shell.execute_reply": "2022-05-10T00:54:27.387Z"
        }
      }
    },
    {
      "cell_type": "code",
      "source": [
        "from scipy.stats import binom"
      ],
      "outputs": [],
      "execution_count": 7,
      "metadata": {
        "collapsed": true,
        "jupyter": {
          "source_hidden": false,
          "outputs_hidden": false
        },
        "nteract": {
          "transient": {
            "deleting": false
          }
        },
        "execution": {
          "iopub.status.busy": "2022-05-10T00:54:27.179Z",
          "iopub.execute_input": "2022-05-10T00:54:27.184Z",
          "shell.execute_reply": "2022-05-10T00:54:27.391Z",
          "iopub.status.idle": "2022-05-10T00:54:27.192Z"
        }
      }
    },
    {
      "cell_type": "code",
      "source": [
        "p = 0.5 # 50% Success\n",
        "k = 100 # Number of Trials\n",
        "\n",
        "# define the distribution\n",
        "dist = binom(k, p)\n",
        "for n in repeat_numbers:\n",
        "\tprint('P of {} success: {}'.format(n, round(dist.pmf(n)*100),6))"
      ],
      "outputs": [
        {
          "output_type": "stream",
          "name": "stdout",
          "text": [
            "P of 79.05999755859375 success: 0\n",
            "P of 82.76000213623047 success: 0\n",
            "P of 78.55000305175781 success: 0\n",
            "P of 106.1500015258789 success: 0\n"
          ]
        }
      ],
      "execution_count": 8,
      "metadata": {
        "collapsed": true,
        "jupyter": {
          "source_hidden": false,
          "outputs_hidden": false
        },
        "nteract": {
          "transient": {
            "deleting": false
          }
        },
        "execution": {
          "iopub.status.busy": "2022-05-10T00:54:27.199Z",
          "iopub.execute_input": "2022-05-10T00:54:27.204Z",
          "iopub.status.idle": "2022-05-10T00:54:27.216Z",
          "shell.execute_reply": "2022-05-10T00:54:27.394Z"
        }
      }
    },
    {
      "cell_type": "code",
      "source": [
        "p = 0.5 # 50% Success\n",
        "k = 100 # Number of Trials\n",
        "\n",
        "# define the distribution\n",
        "dist = binom(k, p)\n",
        "for n in repeat_numbers:\n",
        "\tprint('P of {} success: {}'.format(n, round(dist.cdf(n)*100),6))"
      ],
      "outputs": [
        {
          "output_type": "stream",
          "name": "stdout",
          "text": [
            "P of 79.05999755859375 success: 100\n",
            "P of 82.76000213623047 success: 100\n",
            "P of 78.55000305175781 success: 100\n",
            "P of 106.1500015258789 success: 100\n"
          ]
        }
      ],
      "execution_count": 9,
      "metadata": {
        "collapsed": true,
        "jupyter": {
          "source_hidden": false,
          "outputs_hidden": false
        },
        "nteract": {
          "transient": {
            "deleting": false
          }
        },
        "execution": {
          "iopub.status.busy": "2022-05-10T00:54:27.225Z",
          "iopub.execute_input": "2022-05-10T00:54:27.230Z",
          "iopub.status.idle": "2022-05-10T00:54:27.241Z",
          "shell.execute_reply": "2022-05-10T00:54:27.397Z"
        }
      }
    },
    {
      "cell_type": "code",
      "source": [
        "min_n = min(repeat_numbers)\n",
        "max_n = max(repeat_numbers)"
      ],
      "outputs": [],
      "execution_count": 10,
      "metadata": {
        "collapsed": true,
        "jupyter": {
          "source_hidden": false,
          "outputs_hidden": false
        },
        "nteract": {
          "transient": {
            "deleting": false
          }
        },
        "execution": {
          "iopub.status.busy": "2022-05-10T00:54:27.248Z",
          "iopub.execute_input": "2022-05-10T00:54:27.253Z",
          "iopub.status.idle": "2022-05-10T00:54:27.260Z",
          "shell.execute_reply": "2022-05-10T00:54:27.400Z"
        }
      }
    },
    {
      "cell_type": "code",
      "source": [
        "p = 0.5 # 50% Success\n",
        "k = 100 # Number of Trials\n",
        "\n",
        "# define the distribution\n",
        "dist = binom(k, p)\n",
        "for n in range(int(min_n), int(max_n), 2):\n",
        "\tprint('P of {} success: {}'.format(n, round(dist.pmf(n)*100),6))"
      ],
      "outputs": [
        {
          "output_type": "stream",
          "name": "stdout",
          "text": [
            "P of 78 success: 0\n",
            "P of 80 success: 0\n",
            "P of 82 success: 0\n",
            "P of 84 success: 0\n",
            "P of 86 success: 0\n",
            "P of 88 success: 0\n",
            "P of 90 success: 0\n",
            "P of 92 success: 0\n",
            "P of 94 success: 0\n",
            "P of 96 success: 0\n",
            "P of 98 success: 0\n",
            "P of 100 success: 0\n",
            "P of 102 success: 0\n",
            "P of 104 success: 0\n"
          ]
        }
      ],
      "execution_count": 11,
      "metadata": {
        "collapsed": true,
        "jupyter": {
          "source_hidden": false,
          "outputs_hidden": false
        },
        "nteract": {
          "transient": {
            "deleting": false
          }
        },
        "execution": {
          "iopub.status.busy": "2022-05-10T00:54:27.269Z",
          "iopub.execute_input": "2022-05-10T00:54:27.274Z",
          "iopub.status.idle": "2022-05-10T00:54:27.283Z",
          "shell.execute_reply": "2022-05-10T00:54:27.403Z"
        }
      }
    },
    {
      "cell_type": "code",
      "source": [
        "probabilities = [0.2, 0.3, 0.3, 0.2]\n",
        "\n",
        "np.random.choice(repeat_numbers, 10, p=probabilities)"
      ],
      "outputs": [
        {
          "output_type": "execute_result",
          "execution_count": 12,
          "data": {
            "text/plain": "array([ 78.55000305, 106.15000153, 106.15000153,  78.55000305,\n        79.05999756,  78.55000305,  82.76000214,  82.76000214,\n        82.76000214, 106.15000153])"
          },
          "metadata": {}
        }
      ],
      "execution_count": 12,
      "metadata": {
        "collapsed": true,
        "jupyter": {
          "source_hidden": false,
          "outputs_hidden": false
        },
        "nteract": {
          "transient": {
            "deleting": false
          }
        },
        "execution": {
          "iopub.status.busy": "2022-05-10T00:54:27.291Z",
          "iopub.execute_input": "2022-05-10T00:54:27.296Z",
          "iopub.status.idle": "2022-05-10T00:54:27.306Z",
          "shell.execute_reply": "2022-05-10T00:54:27.407Z"
        }
      }
    },
    {
      "cell_type": "code",
      "source": [
        "from scipy.stats import rv_discrete  \n",
        "\n",
        "distrib = rv_discrete(values=(repeat_numbers, probabilities))\n",
        "distrib.rvs(size=10)\n"
      ],
      "outputs": [
        {
          "output_type": "execute_result",
          "execution_count": 13,
          "data": {
            "text/plain": "array([106,  78, 106,  78,  79,  82, 106, 106,  82,  82])"
          },
          "metadata": {}
        }
      ],
      "execution_count": 13,
      "metadata": {
        "collapsed": true,
        "jupyter": {
          "source_hidden": false,
          "outputs_hidden": false
        },
        "nteract": {
          "transient": {
            "deleting": false
          }
        },
        "execution": {
          "iopub.status.busy": "2022-05-10T00:54:27.313Z",
          "iopub.execute_input": "2022-05-10T00:54:27.321Z",
          "iopub.status.idle": "2022-05-10T00:54:27.334Z",
          "shell.execute_reply": "2022-05-10T00:54:27.410Z"
        }
      }
    },
    {
      "cell_type": "code",
      "source": [
        "ax=sns.distplot(repeat_numbers,\n",
        "                kde=True,\n",
        "                color='blue',\n",
        "                hist_kws={\"linewidth\":10,'alpha':0.50})\n",
        "ax.set(xlabel='Binomial',ylabel='Frequency')"
      ],
      "outputs": [
        {
          "output_type": "execute_result",
          "execution_count": 14,
          "data": {
            "text/plain": "[Text(0.5, 0, 'Binomial'), Text(0, 0.5, 'Frequency')]"
          },
          "metadata": {}
        },
        {
          "output_type": "display_data",
          "data": {
            "text/plain": "<Figure size 432x288 with 1 Axes>",
            "image/png": "[encoded data removed]"
          },
          "metadata": {
            "needs_background": "light"
          }
        }
      ],
      "execution_count": 14,
      "metadata": {
        "collapsed": true,
        "jupyter": {
          "source_hidden": false,
          "outputs_hidden": false
        },
        "nteract": {
          "transient": {
            "deleting": false
          }
        },
        "execution": {
          "iopub.status.busy": "2022-05-10T00:54:27.341Z",
          "iopub.execute_input": "2022-05-10T00:54:27.346Z",
          "shell.execute_reply": "2022-05-10T00:54:27.413Z",
          "iopub.status.idle": "2022-05-10T00:54:27.419Z"
        }
      }
    },
    {
      "cell_type": "code",
      "source": [
        "import scipy.stats as stats\n",
        "\n",
        "binomial=stats.binom(n=0.05,p=0.002)\n",
        "plt.scatter(repeat_numbers,binomial.pmf(repeat_numbers),label=\"PMF\",color=\"Orange\")\n",
        "plt.title(\"Binomial Distribution\")\n",
        "plt.ylabel(\"Density\")\n",
        "plt.legend()\n",
        "#plt.xticks(repeat_numbers)\n",
        "plt.show()"
      ],
      "outputs": [
        {
          "output_type": "display_data",
          "data": {
            "text/plain": "<Figure size 432x288 with 1 Axes>",
            "image/png": "[encoded data removed]"
          },
          "metadata": {
            "needs_background": "light"
          }
        }
      ],
      "execution_count": 15,
      "metadata": {
        "collapsed": true,
        "jupyter": {
          "source_hidden": false,
          "outputs_hidden": false
        },
        "nteract": {
          "transient": {
            "deleting": false
          }
        },
        "execution": {
          "iopub.status.busy": "2022-05-10T00:54:27.426Z",
          "iopub.execute_input": "2022-05-10T00:54:27.430Z",
          "iopub.status.idle": "2022-05-10T00:54:27.515Z",
          "shell.execute_reply": "2022-05-10T00:54:27.471Z"
        }
      }
    },
    {
      "cell_type": "code",
      "source": [
        "plt.hist(repeat_numbers,bins=14,density=True,align='left',rwidth=0.75,label=\"Sample\",alpha=0.75)\n",
        "plt.title(\"Binomial Distribution\")\n",
        "plt.ylabel(\"Density\")\n",
        "plt.legend()\n",
        "#plt.xticks(repeat_numbers)\n",
        "plt.show()"
      ],
      "outputs": [
        {
          "output_type": "display_data",
          "data": {
            "text/plain": "<Figure size 432x288 with 1 Axes>",
            "image/png": "[encoded data removed]"
          },
          "metadata": {
            "needs_background": "light"
          }
        }
      ],
      "execution_count": 16,
      "metadata": {
        "collapsed": true,
        "jupyter": {
          "source_hidden": false,
          "outputs_hidden": false
        },
        "nteract": {
          "transient": {
            "deleting": false
          }
        },
        "execution": {
          "iopub.status.busy": "2022-05-10T00:54:27.527Z",
          "iopub.execute_input": "2022-05-10T00:54:27.533Z",
          "iopub.status.idle": "2022-05-10T00:54:27.615Z",
          "shell.execute_reply": "2022-05-10T00:54:27.634Z"
        }
      }
    },
    {
      "cell_type": "code",
      "source": [
        "plt.hist(repeat_numbers,bins=14,density=True,align='left',rwidth=0.75,label=\"Sample\",alpha=0.75)\n",
        "plt.scatter(repeat_numbers,binomial.pmf(repeat_numbers),label=\"PMF\",color=\"Orange\")\n",
        "plt.title(\"Binomial Distribution\")\n",
        "plt.ylabel(\"Density\")\n",
        "plt.legend()\n",
        "#plt.xticks(repeat_numbers)\n",
        "plt.show()"
      ],
      "outputs": [
        {
          "output_type": "display_data",
          "data": {
            "text/plain": "<Figure size 432x288 with 1 Axes>",
            "image/png": "[encoded data removed]"
          },
          "metadata": {
            "needs_background": "light"
          }
        }
      ],
      "execution_count": 17,
      "metadata": {
        "collapsed": true,
        "jupyter": {
          "source_hidden": false,
          "outputs_hidden": false
        },
        "nteract": {
          "transient": {
            "deleting": false
          }
        },
        "execution": {
          "iopub.status.busy": "2022-05-10T00:54:27.624Z",
          "iopub.execute_input": "2022-05-10T00:54:27.628Z",
          "iopub.status.idle": "2022-05-10T00:54:27.734Z",
          "shell.execute_reply": "2022-05-10T00:54:27.820Z"
        }
      }
    },
    {
      "cell_type": "markdown",
      "source": [
        "# Calculate Returns "
      ],
      "metadata": {
        "nteract": {
          "transient": {
            "deleting": false
          }
        }
      }
    },
    {
      "cell_type": "code",
      "source": [
        "# View Columns\n",
        "dataset['Returns'] = dataset['Adj Close'].pct_change()\n",
        "dataset = dataset.dropna()\n",
        "dataset.head()"
      ],
      "outputs": [
        {
          "output_type": "execute_result",
          "execution_count": 18,
          "data": {
            "text/plain": "                 Open       High        Low      Close  Adj Close    Volume  \\\nDate                                                                          \n2021-01-05  92.099998  93.209999  91.410004  92.769997  92.769997  34208000   \n2021-01-06  91.620003  92.279999  89.459999  90.330002  90.330002  51911700   \n2021-01-07  91.330002  95.510002  91.199997  95.160004  95.160004  42897200   \n2021-01-08  95.980003  96.400002  93.269997  94.580002  94.580002  39816400   \n2021-01-11  94.029999  99.230003  93.760002  97.250000  97.250000  48600200   \n\n             Returns  \nDate                  \n2021-01-05  0.005092  \n2021-01-06 -0.026302  \n2021-01-07  0.053471  \n2021-01-08 -0.006095  \n2021-01-11  0.028230  ",
            "text/html": "<div>\n<style scoped>\n    .dataframe tbody tr th:only-of-type {\n        vertical-align: middle;\n    }\n\n    .dataframe tbody tr th {\n        vertical-align: top;\n    }\n\n    .dataframe thead th {\n        text-align: right;\n    }\n</style>\n<table border=\"1\" class=\"dataframe\">\n  <thead>\n    <tr style=\"text-align: right;\">\n      <th></th>\n      <th>Open</th>\n      <th>High</th>\n      <th>Low</th>\n      <th>Close</th>\n      <th>Adj Close</th>\n      <th>Volume</th>\n      <th>Returns</th>\n    </tr>\n    <tr>\n      <th>Date</th>\n      <th></th>\n      <th></th>\n      <th></th>\n      <th></th>\n      <th></th>\n      <th></th>\n      <th></th>\n    </tr>\n  </thead>\n  <tbody>\n    <tr>\n      <th>2021-01-05</th>\n      <td>92.099998</td>\n      <td>93.209999</td>\n      <td>91.410004</td>\n      <td>92.769997</td>\n      <td>92.769997</td>\n      <td>34208000</td>\n      <td>0.005092</td>\n    </tr>\n    <tr>\n      <th>2021-01-06</th>\n      <td>91.620003</td>\n      <td>92.279999</td>\n      <td>89.459999</td>\n      <td>90.330002</td>\n      <td>90.330002</td>\n      <td>51911700</td>\n      <td>-0.026302</td>\n    </tr>\n    <tr>\n      <th>2021-01-07</th>\n      <td>91.330002</td>\n      <td>95.510002</td>\n      <td>91.199997</td>\n      <td>95.160004</td>\n      <td>95.160004</td>\n      <td>42897200</td>\n      <td>0.053471</td>\n    </tr>\n    <tr>\n      <th>2021-01-08</th>\n      <td>95.980003</td>\n      <td>96.400002</td>\n      <td>93.269997</td>\n      <td>94.580002</td>\n      <td>94.580002</td>\n      <td>39816400</td>\n      <td>-0.006095</td>\n    </tr>\n    <tr>\n      <th>2021-01-11</th>\n      <td>94.029999</td>\n      <td>99.230003</td>\n      <td>93.760002</td>\n      <td>97.250000</td>\n      <td>97.250000</td>\n      <td>48600200</td>\n      <td>0.028230</td>\n    </tr>\n  </tbody>\n</table>\n</div>"
          },
          "metadata": {}
        }
      ],
      "execution_count": 18,
      "metadata": {
        "collapsed": true,
        "jupyter": {
          "source_hidden": false,
          "outputs_hidden": false
        },
        "nteract": {
          "transient": {
            "deleting": false
          }
        },
        "execution": {
          "iopub.status.busy": "2022-05-10T00:54:27.742Z",
          "iopub.execute_input": "2022-05-10T00:54:27.747Z",
          "iopub.status.idle": "2022-05-10T00:54:27.759Z",
          "shell.execute_reply": "2022-05-10T00:54:27.824Z"
        }
      }
    },
    {
      "cell_type": "code",
      "source": [
        "r = np.array(dataset['Returns']).squeeze()\n",
        "r"
      ],
      "outputs": [
        {
          "output_type": "execute_result",
          "execution_count": 19,
          "data": {
            "text/plain": "array([ 0.00509202, -0.02630155,  0.05347063, -0.00609502,  0.02823005,\n       -0.01943444, -0.03754197, -0.01078664, -0.02841725,  0.01405734,\n       -0.00782557,  0.03132393,  0.013766  ,  0.01444117,  0.00616171,\n       -0.0619787 , -0.01485817, -0.02148077,  0.02358716,  0.01368922,\n       -0.01091606, -0.00056893,  0.00068312,  0.04061433, -0.0061222 ,\n        0.01583978,  0.00335685,  0.0119792 , -0.02463472, -0.01661925,\n       -0.01445411,  0.01060472, -0.04699709, -0.0073797 ,  0.02596182,\n       -0.05198993,  0.02535797,  0.02224585, -0.02616046, -0.03886838,\n       -0.03846155,  0.00990349, -0.05807435,  0.06179015, -0.01286135,\n        0.04785871, -0.00221593,  0.01789015,  0.0030303 , -0.00145018,\n       -0.0545806 ,  0.0120327 ,  0.01568436, -0.02391041, -0.0242408 ,\n       -0.00339961,  0.01561273, -0.00348798, -0.01477832,  0.03289474,\n        0.03299358,  0.00419292,  0.00012283,  0.00933196,  0.01399029,\n       -0.00707854, -0.05050749,  0.02048868, -0.02045142,  0.05677911,\n       -0.0103602 , -0.01265978, -0.02268529,  0.02951942, -0.03124621,\n        0.04679996,  0.03202032, -0.0023417 , -0.01396553, -0.00130913,\n       -0.02729115, -0.03761333,  0.00076381, -0.00992239,  0.00077088,\n        0.01181151, -0.03578226,  0.01105414, -0.02850452, -0.02076639,\n        0.02052264,  0.00080447, -0.00281312,  0.02404622,  0.02400622,\n       -0.01140148,  0.00349882,  0.00542353,  0.00616486,  0.00102121,\n        0.02116812,  0.00911583,  0.0143547 , -0.02061733,  0.01619336,\n       -0.00281936, -0.00565457, -0.0114971 ,  0.02000999, -0.00306523,\n        0.00295173, -0.01324343, -0.00447372,  0.05554858,  0.00106438,\n       -0.02433556,  0.01198699,  0.00287147,  0.02720113, -0.00557486,\n        0.01705208,  0.02802015,  0.04926278, -0.00660069,  0.01489658,\n       -0.00242868, -0.04160051, -0.00883591,  0.01292627, -0.00099014,\n       -0.00605655, -0.01340571, -0.02380688, -0.01196366,  0.00803356,\n        0.00612149,  0.02640343,  0.02013192,  0.01030591, -0.00358114,\n       -0.0086038 ,  0.0757992 ,  0.05126107,  0.03147164,  0.02297763,\n        0.03617786,  0.05517057, -0.05405404, -0.01993768, -0.02297701,\n       -0.01022493,  0.01126969, -0.0109584 ,  0.0380282 , -0.02777024,\n        0.00074427, -0.03830416,  0.00251348,  0.00916109,  0.03936928,\n       -0.01029691,  0.0060381 , -0.00951068,  0.03850103, -0.00071815,\n       -0.00538985, -0.00659324, -0.00718248,  0.00659342, -0.00700506,\n       -0.02730191, -0.00018835, -0.00894964, -0.00380222,  0.00887405,\n       -0.00122959,  0.00587124, -0.02202979, -0.02242967,  0.01250612,\n        0.01517212,  0.01695731, -0.00329721,  0.02230624, -0.0613906 ,\n       -0.01152481,  0.02541109, -0.00437322, -0.02059542,  0.0146502 ,\n        0.01797468,  0.02711306, -0.01305777, -0.00361695,  0.00343906,\n        0.03922318,  0.02592519,  0.00116086,  0.03844093, -0.00085887,\n        0.00051575,  0.02525992,  0.00410624,  0.02119847,  0.00465838,\n       -0.00528757, -0.00915927, -0.0076758 ,  0.04158696,  0.01916469,\n        0.02272194,  0.0533977 , -0.00843639,  0.10136429, -0.00825789,\n       -0.0607709 ,  0.0438979 ,  0.01287586, -0.00946645,  0.04068531,\n       -0.00728108,  0.02431616,  0.0025158 , -0.01859597, -0.01704698,\n        0.0525614 , -0.01894807,  0.04586271, -0.02186405, -0.05847064,\n        0.01052909, -0.04426598, -0.03437259,  0.04163677,  0.00269244,\n       -0.04916   ,  0.00325849, -0.03428365,  0.01345294,  0.08038343,\n       -0.05365188, -0.0064195 , -0.01415606,  0.06222383, -0.00256496,\n        0.0157075 ,  0.05624744, -0.00783886, -0.03192948, -0.02097667,\n       -0.00861178])"
          },
          "metadata": {}
        }
      ],
      "execution_count": 19,
      "metadata": {
        "collapsed": true,
        "jupyter": {
          "source_hidden": false,
          "outputs_hidden": false
        },
        "nteract": {
          "transient": {
            "deleting": false
          }
        },
        "execution": {
          "iopub.status.busy": "2022-05-10T00:54:27.768Z",
          "iopub.execute_input": "2022-05-10T00:54:27.773Z",
          "iopub.status.idle": "2022-05-10T00:54:27.784Z",
          "shell.execute_reply": "2022-05-10T00:54:27.827Z"
        }
      }
    },
    {
      "cell_type": "code",
      "source": [
        "\n",
        "repeat_r = [item for item, count in collections.Counter(r).items() if count > -2]\n",
        "repeat_r\n"
      ],
      "outputs": [
        {
          "output_type": "execute_result",
          "execution_count": 21,
          "data": {
            "text/plain": "[0.0050920214059477775,\n -0.02630155115128041,\n 0.05347062695834204,\n -0.0060950169055702386,\n 0.028230049875814567,\n -0.01943444102466263,\n -0.03754196526993381,\n -0.010786640629078414,\n -0.028417246448264377,\n 0.014057339039104555,\n -0.007825567044426163,\n 0.03132392990757049,\n 0.013766001890469504,\n 0.01444117172830417,\n 0.006161710910212781,\n -0.06197870133381089,\n -0.014858169171954705,\n -0.021480773829153366,\n 0.023587158884369464,\n 0.013689218550202664,\n -0.010916061377903352,\n -0.0005689276607697691,\n 0.0006831191995666508,\n 0.04061433029410311,\n -0.006122199093914538,\n 0.015839783896212767,\n 0.0033568510353050307,\n 0.01197920286086629,\n -0.024634719433623387,\n -0.0166192505825693,\n -0.014454114036796195,\n 0.010604720756756114,\n -0.04699708638555955,\n -0.0073796985187249975,\n 0.02596182007431147,\n -0.051989925759517,\n 0.02535797153260111,\n 0.02224585499817411,\n -0.026160460148136888,\n -0.03886837929182929,\n -0.03846154571947191,\n 0.009903493801497243,\n -0.05807434734520478,\n 0.061790153480189236,\n -0.012861354284099846,\n 0.04785870581173479,\n -0.0022159337404534796,\n 0.017890152913581314,\n 0.003030303030302939,\n -0.0014501842487254502,\n -0.054580596112138724,\n 0.012032703263734179,\n 0.015684360377636652,\n -0.02391040753886764,\n -0.024240800753556058,\n -0.003399609372622958,\n 0.015612731859718343,\n -0.003487976484789934,\n -0.014778317327824864,\n 0.03289473684210531,\n 0.03299358392217355,\n 0.004192921231225721,\n 0.00012283109656130442,\n 0.009331955845442552,\n 0.013990286722309841,\n -0.007078540476204154,\n -0.050507493925569524,\n 0.020488681252680996,\n -0.020451419624868628,\n 0.056779107717333854,\n -0.01036020465268972,\n -0.012659779625198486,\n -0.02268529100529104,\n 0.02951941549615089,\n -0.03124620797312394,\n 0.04679995815702531,\n 0.032020317272548615,\n -0.0023416996728855555,\n -0.013965525809084278,\n -0.0013091286045190387,\n -0.02729115499444823,\n -0.0376133250614572,\n 0.0007638135743193164,\n -0.009922386124420979,\n 0.0007708795732008777,\n 0.01181150566381417,\n -0.0357822583705526,\n 0.011054138582699657,\n -0.02850452153082017,\n -0.020766386179429386,\n 0.020522644344727947,\n 0.0008044669652007563,\n -0.002813115608575778,\n 0.02404622322435168,\n 0.024006219612657365,\n -0.011401478573969781,\n 0.003498824398956435,\n 0.005423529903205937,\n 0.006164856457440804,\n 0.001021213106899177,\n 0.021168116562986006,\n 0.009115830555038507,\n 0.0143547048280539,\n -0.020617328488942488,\n 0.01619336162836449,\n -0.0028193595461043497,\n -0.005654567831602231,\n -0.01149709867960258,\n 0.02000998614858407,\n -0.0030652281447213214,\n 0.0029517341086022775,\n -0.0132434309091225,\n -0.004473724430104076,\n 0.05554858212879821,\n 0.001064379965512563,\n -0.024335559962848974,\n 0.011986990399100783,\n 0.0028714747369191773,\n 0.027201130847029464,\n -0.005574863368706495,\n 0.017052079393105934,\n 0.028020151133501203,\n 0.04926277734004958,\n -0.0066006892852940036,\n 0.014896575136823742,\n -0.0024286772434086723,\n -0.04160051079066274,\n -0.008835907263842424,\n 0.012926272450667131,\n -0.0009901426377812994,\n -0.006056551449727832,\n -0.013405706357577873,\n -0.02380688011150134,\n -0.011963659402695503,\n 0.008033559742805174,\n 0.0061214918929093365,\n 0.026403432850906183,\n 0.020131924266166834,\n 0.010305914382650938,\n -0.003581137553882896,\n -0.008603800023448183,\n 0.07579920486001579,\n 0.05126107043217365,\n 0.03147164244009604,\n 0.022977632130275705,\n 0.036177855146287685,\n 0.055170568755920746,\n -0.054054040165034456,\n -0.019937675960765566,\n -0.022977011763444022,\n -0.010224934517556017,\n 0.011269692997845304,\n -0.010958398048212747,\n 0.03802819766908749,\n -0.0277702361834119,\n 0.0007442705541653716,\n -0.03830415777894669,\n 0.0025134812519287397,\n 0.009161085878439001,\n 0.03936927909330867,\n -0.010296912308113915,\n 0.00603810047993969,\n -0.009510677559253167,\n 0.03850102556220647,\n -0.0007181492814980484,\n -0.005389853357581242,\n -0.006593238338919893,\n -0.007182479596970381,\n 0.006593417956269665,\n -0.007005064191166865,\n -0.027301908522896823,\n -0.0001883455157886127,\n -0.008949642618753195,\n -0.0038022234609110805,\n 0.008874048455098649,\n -0.0012295931020981365,\n 0.00587123821534874,\n -0.022029786672880136,\n -0.02242967138299079,\n 0.012506121170859252,\n 0.015172121797548233,\n 0.01695731288595126,\n -0.003297206491662319,\n 0.022306243310759033,\n -0.06139059536079783,\n -0.011524805039729302,\n 0.02541109208302994,\n -0.004373222263981624,\n -0.020595418967338186,\n 0.014650202056545325,\n 0.017974677093980818,\n 0.027113060354517993,\n -0.013057768243283974,\n -0.003616954713957954,\n 0.0034390581706347234,\n 0.039223178890633426,\n 0.025925193355801124,\n 0.0011608615527489707,\n 0.03844093340182453,\n -0.0008588720592543897,\n 0.0005157530959285506,\n 0.02525992316198722,\n 0.004106241986514547,\n 0.021198472058058693,\n 0.004658382575849718,\n -0.005287574426627084,\n -0.009159266669678146,\n -0.0076758028810346435,\n 0.04158695716872107,\n 0.019164687631955557,\n 0.02272194302504582,\n 0.05339769620689383,\n -0.008436390269886407,\n 0.10136429291056093,\n -0.008257894665175458,\n -0.06077090493575521,\n 0.04389790236643787,\n 0.012875864348618205,\n -0.009466454136603186,\n 0.04068531115835228,\n -0.007281079911916399,\n 0.02431616243966417,\n 0.0025158004057526107,\n -0.018595967579615014,\n -0.017046984203271998,\n 0.05256139927331449,\n -0.018948069932440692,\n 0.04586271051925017,\n -0.021864050798921175,\n -0.058470637067229214,\n 0.010529086305433921,\n -0.0442659841595372,\n -0.0343725931328136,\n 0.04163676575991748,\n 0.0026924361285129983,\n -0.04916000495458872,\n 0.0032584860851119224,\n -0.03428365135600575,\n 0.01345293729972119,\n 0.08038343219662858,\n -0.053651881299328075,\n -0.0064194993765622765,\n -0.014156057700487779,\n 0.062223834744846274,\n -0.0025649574848353174,\n 0.01570749534430904,\n 0.05624744255531566,\n -0.007838861810590347,\n -0.03192947818825009,\n -0.020976667513691094,\n -0.008611781278416442]"
          },
          "metadata": {}
        }
      ],
      "execution_count": 21,
      "metadata": {
        "collapsed": true,
        "jupyter": {
          "source_hidden": false,
          "outputs_hidden": false
        },
        "nteract": {
          "transient": {
            "deleting": false
          }
        },
        "execution": {
          "iopub.status.busy": "2022-05-10T00:55:50.381Z",
          "iopub.execute_input": "2022-05-10T00:55:50.388Z",
          "iopub.status.idle": "2022-05-10T00:55:50.405Z",
          "shell.execute_reply": "2022-05-10T00:55:50.421Z"
        }
      }
    },
    {
      "cell_type": "code",
      "source": [
        "def Average(lst):\n",
        "    return sum(lst) / len(lst)"
      ],
      "outputs": [],
      "execution_count": 26,
      "metadata": {
        "collapsed": true,
        "jupyter": {
          "source_hidden": false,
          "outputs_hidden": false
        },
        "nteract": {
          "transient": {
            "deleting": false
          }
        },
        "execution": {
          "iopub.status.busy": "2022-05-10T00:58:40.037Z",
          "iopub.execute_input": "2022-05-10T00:58:40.047Z",
          "iopub.status.idle": "2022-05-10T00:58:40.059Z",
          "shell.execute_reply": "2022-05-10T00:58:40.071Z"
        }
      }
    },
    {
      "cell_type": "code",
      "source": [
        "n = len(repeat_r)\n",
        "p = Average(repeat_r)\n",
        "k = np.arange(0,21)\n",
        "binomial = binom.pmf(k,n,p)\n",
        "\n",
        "plt.plot(k, binomial, 'o-')\n",
        "plt.title(\"Binomial: n=%i, p=%.2f\" % (n,p), fontsize=15)\n",
        "plt.xlabel(\"Number of successes\", fontsize=15)\n",
        "plt.ylabel(\"Probability of successes\", fontsize=15)\n",
        "plt.show()"
      ],
      "outputs": [
        {
          "output_type": "display_data",
          "data": {
            "text/plain": "<Figure size 432x288 with 1 Axes>",
            "image/png": "[encoded data removed]"
          },
          "metadata": {
            "needs_background": "light"
          }
        }
      ],
      "execution_count": 27,
      "metadata": {
        "collapsed": true,
        "jupyter": {
          "source_hidden": false,
          "outputs_hidden": false
        },
        "nteract": {
          "transient": {
            "deleting": false
          }
        },
        "execution": {
          "iopub.status.busy": "2022-05-10T00:58:40.727Z",
          "iopub.execute_input": "2022-05-10T00:58:40.734Z",
          "iopub.status.idle": "2022-05-10T00:58:40.808Z",
          "shell.execute_reply": "2022-05-10T00:58:40.823Z"
        }
      }
    },
    {
      "cell_type": "code",
      "source": [
        "ax=sns.distplot(repeat_r,\n",
        "                kde=True,\n",
        "                color='blue',\n",
        "                hist_kws={\"linewidth\":10,'alpha':0.50})\n",
        "ax.set(xlabel='Binomial',ylabel='Frequency')"
      ],
      "outputs": [
        {
          "output_type": "execute_result",
          "execution_count": 28,
          "data": {
            "text/plain": "[Text(0.5, 0, 'Binomial'), Text(0, 0.5, 'Frequency')]"
          },
          "metadata": {}
        },
        {
          "output_type": "display_data",
          "data": {
            "text/plain": "<Figure size 432x288 with 1 Axes>",
            "image/png": "[encoded data removed]"
          },
          "metadata": {
            "needs_background": "light"
          }
        }
      ],
      "execution_count": 28,
      "metadata": {
        "collapsed": true,
        "jupyter": {
          "source_hidden": false,
          "outputs_hidden": false
        },
        "nteract": {
          "transient": {
            "deleting": false
          }
        },
        "execution": {
          "iopub.status.busy": "2022-05-10T00:59:17.585Z",
          "iopub.execute_input": "2022-05-10T00:59:17.595Z",
          "shell.execute_reply": "2022-05-10T00:59:17.689Z",
          "iopub.status.idle": "2022-05-10T00:59:17.703Z"
        }
      }
    },
    {
      "cell_type": "code",
      "source": [
        "binomial=stats.binom(n=10,p=0.05)\n",
        "plt.scatter(repeat_r,binomial.pmf(repeat_r),label=\"PMF\",color=\"Orange\")\n",
        "plt.title(\"Binomial Distribution\")\n",
        "plt.ylabel(\"Density\")\n",
        "plt.legend()\n",
        "#plt.xticks(repeat_numbers)\n",
        "plt.show()"
      ],
      "outputs": [
        {
          "output_type": "display_data",
          "data": {
            "text/plain": "<Figure size 432x288 with 1 Axes>",
            "image/png": "[encoded data removed]"
          },
          "metadata": {
            "needs_background": "light"
          }
        }
      ],
      "execution_count": 30,
      "metadata": {
        "collapsed": true,
        "jupyter": {
          "source_hidden": false,
          "outputs_hidden": false
        },
        "nteract": {
          "transient": {
            "deleting": false
          }
        },
        "execution": {
          "iopub.status.busy": "2022-05-10T00:59:57.995Z",
          "iopub.execute_input": "2022-05-10T00:59:58.004Z",
          "iopub.status.idle": "2022-05-10T00:59:58.085Z",
          "shell.execute_reply": "2022-05-10T00:59:58.100Z"
        }
      }
    }
  ],
  "metadata": {
    "kernel_info": {
      "name": "python3"
    },
    "language_info": {
      "name": "python",
      "version": "3.6.13",
      "mimetype": "text/x-python",
      "codemirror_mode": {
        "name": "ipython",
        "version": 3
      },
      "pygments_lexer": "ipython3",
      "nbconvert_exporter": "python",
      "file_extension": ".py"
    },
    "kernelspec": {
      "argv": [
        "C:/Users/Tin Hang/Anaconda3\\python.exe",
        "-m",
        "ipykernel_launcher",
        "-f",
        "{connection_file}"
      ],
      "display_name": "Python 3",
      "language": "python",
      "name": "python3"
    },
    "nteract": {
      "version": "0.28.0"
    }
  },
  "nbformat": 4,
  "nbformat_minor": 0
}