{
  "cells": [
    {
      "cell_type": "markdown",
      "source": [
        "# Poisson Regression"
      ],
      "metadata": {}
    },
    {
      "cell_type": "code",
      "source": [
        "import numpy as np\n",
        "import matplotlib.pyplot as plt\n",
        "import pandas as pd\n",
        "\n",
        "import warnings\n",
        "warnings.filterwarnings(\"ignore\")\n",
        "\n",
        "import yfinance as yf\n",
        "yf.pdr_override()"
      ],
      "outputs": [],
      "execution_count": 1,
      "metadata": {
        "collapsed": false,
        "outputHidden": false,
        "inputHidden": false,
        "execution": {
          "iopub.status.busy": "2020-05-24T05:05:44.313Z",
          "iopub.execute_input": "2020-05-24T05:05:44.317Z",
          "iopub.status.idle": "2020-05-24T05:05:45.260Z",
          "shell.execute_reply": "2020-05-24T05:05:45.268Z"
        }
      }
    },
    {
      "cell_type": "code",
      "source": [
        "# input\n",
        "symbol = 'AMD'\n",
        "start = '2014-01-01'\n",
        "end = '2018-08-27'\n",
        "\n",
        "# Read data \n",
        "dataset = yf.download(symbol,start,end)\n",
        "\n",
        "# View Columns\n",
        "dataset.head()"
      ],
      "outputs": [
        {
          "output_type": "stream",
          "name": "stdout",
          "text": [
            "[*********************100%***********************]  1 of 1 completed\n"
          ]
        },
        {
          "output_type": "execute_result",
          "execution_count": 2,
          "data": {
            "text/plain": [
              "            Adj Close  Close  High   Low  Open    Volume\n",
              "Date                                                    \n",
              "2014-01-02       3.95   3.95  3.98  3.84  3.85  20548400\n",
              "2014-01-03       4.00   4.00  4.00  3.88  3.98  22887200\n",
              "2014-01-06       4.13   4.13  4.18  3.99  4.01  42398300\n",
              "2014-01-07       4.18   4.18  4.25  4.11  4.19  42932100\n",
              "2014-01-08       4.18   4.18  4.26  4.14  4.23  30678700"
            ],
            "text/html": [
              "<div>\n",
              "<style scoped>\n",
              "    .dataframe tbody tr th:only-of-type {\n",
              "        vertical-align: middle;\n",
              "    }\n",
              "\n",
              "    .dataframe tbody tr th {\n",
              "        vertical-align: top;\n",
              "    }\n",
              "\n",
              "    .dataframe thead th {\n",
              "        text-align: right;\n",
              "    }\n",
              "</style>\n",
              "<table border=\"1\" class=\"dataframe\">\n",
              "  <thead>\n",
              "    <tr style=\"text-align: right;\">\n",
              "      <th></th>\n",
              "      <th>Adj Close</th>\n",
              "      <th>Close</th>\n",
              "      <th>High</th>\n",
              "      <th>Low</th>\n",
              "      <th>Open</th>\n",
              "      <th>Volume</th>\n",
              "    </tr>\n",
              "    <tr>\n",
              "      <th>Date</th>\n",
              "      <th></th>\n",
              "      <th></th>\n",
              "      <th></th>\n",
              "      <th></th>\n",
              "      <th></th>\n",
              "      <th></th>\n",
              "    </tr>\n",
              "  </thead>\n",
              "  <tbody>\n",
              "    <tr>\n",
              "      <th>2014-01-02</th>\n",
              "      <td>3.95</td>\n",
              "      <td>3.95</td>\n",
              "      <td>3.98</td>\n",
              "      <td>3.84</td>\n",
              "      <td>3.85</td>\n",
              "      <td>20548400</td>\n",
              "    </tr>\n",
              "    <tr>\n",
              "      <th>2014-01-03</th>\n",
              "      <td>4.00</td>\n",
              "      <td>4.00</td>\n",
              "      <td>4.00</td>\n",
              "      <td>3.88</td>\n",
              "      <td>3.98</td>\n",
              "      <td>22887200</td>\n",
              "    </tr>\n",
              "    <tr>\n",
              "      <th>2014-01-06</th>\n",
              "      <td>4.13</td>\n",
              "      <td>4.13</td>\n",
              "      <td>4.18</td>\n",
              "      <td>3.99</td>\n",
              "      <td>4.01</td>\n",
              "      <td>42398300</td>\n",
              "    </tr>\n",
              "    <tr>\n",
              "      <th>2014-01-07</th>\n",
              "      <td>4.18</td>\n",
              "      <td>4.18</td>\n",
              "      <td>4.25</td>\n",
              "      <td>4.11</td>\n",
              "      <td>4.19</td>\n",
              "      <td>42932100</td>\n",
              "    </tr>\n",
              "    <tr>\n",
              "      <th>2014-01-08</th>\n",
              "      <td>4.18</td>\n",
              "      <td>4.18</td>\n",
              "      <td>4.26</td>\n",
              "      <td>4.14</td>\n",
              "      <td>4.23</td>\n",
              "      <td>30678700</td>\n",
              "    </tr>\n",
              "  </tbody>\n",
              "</table>\n",
              "</div>"
            ]
          },
          "metadata": {}
        }
      ],
      "execution_count": 2,
      "metadata": {
        "collapsed": false,
        "outputHidden": false,
        "inputHidden": false,
        "execution": {
          "iopub.status.busy": "2020-05-24T05:05:45.275Z",
          "iopub.execute_input": "2020-05-24T05:05:45.279Z",
          "iopub.status.idle": "2020-05-24T05:05:46.647Z",
          "shell.execute_reply": "2020-05-24T05:05:46.693Z"
        }
      }
    },
    {
      "cell_type": "code",
      "source": [
        "dataset['Increase_Decrease'] = np.where(dataset['Volume'].shift(-1) > dataset['Volume'],1,0)\n",
        "dataset['Buy_Sell_on_Open'] = np.where(dataset['Open'].shift(-1) > dataset['Open'],1,0)\n",
        "dataset['Buy_Sell'] = np.where(dataset['Adj Close'].shift(-1) > dataset['Adj Close'],1,0)\n",
        "dataset['Returns'] = dataset['Adj Close'].pct_change()\n",
        "dataset = dataset.dropna()"
      ],
      "outputs": [],
      "execution_count": 3,
      "metadata": {
        "collapsed": true,
        "outputExpanded": false,
        "jupyter": {
          "source_hidden": false,
          "outputs_hidden": false
        },
        "nteract": {
          "transient": {
            "deleting": false
          }
        },
        "execution": {
          "iopub.status.busy": "2020-05-24T05:05:46.658Z",
          "iopub.execute_input": "2020-05-24T05:05:46.664Z",
          "iopub.status.idle": "2020-05-24T05:05:46.671Z",
          "shell.execute_reply": "2020-05-24T05:05:46.696Z"
        }
      }
    },
    {
      "cell_type": "code",
      "source": [
        "dataset.tail()"
      ],
      "outputs": [
        {
          "output_type": "execute_result",
          "execution_count": 4,
          "data": {
            "text/plain": [
              "            Adj Close      Close   High        Low       Open     Volume  \\\n",
              "Date                                                                       \n",
              "2018-08-20  19.980000  19.980000  20.08  19.350000  19.790001   62983200   \n",
              "2018-08-21  20.400000  20.400000  20.42  19.860001  19.980000   55629000   \n",
              "2018-08-22  20.900000  20.900000  20.92  20.209999  20.280001   62002700   \n",
              "2018-08-23  22.290001  22.290001  22.32  21.139999  21.190001  113444100   \n",
              "2018-08-24  23.980000  23.980000  24.00  22.670000  22.910000  164328200   \n",
              "\n",
              "            Increase_Decrease  Buy_Sell_on_Open  Buy_Sell   Returns  \n",
              "Date                                                                 \n",
              "2018-08-20                  0                 1         1  0.010622  \n",
              "2018-08-21                  1                 1         1  0.021021  \n",
              "2018-08-22                  1                 1         1  0.024510  \n",
              "2018-08-23                  1                 1         1  0.066507  \n",
              "2018-08-24                  0                 0         0  0.075819  "
            ],
            "text/html": [
              "<div>\n",
              "<style scoped>\n",
              "    .dataframe tbody tr th:only-of-type {\n",
              "        vertical-align: middle;\n",
              "    }\n",
              "\n",
              "    .dataframe tbody tr th {\n",
              "        vertical-align: top;\n",
              "    }\n",
              "\n",
              "    .dataframe thead th {\n",
              "        text-align: right;\n",
              "    }\n",
              "</style>\n",
              "<table border=\"1\" class=\"dataframe\">\n",
              "  <thead>\n",
              "    <tr style=\"text-align: right;\">\n",
              "      <th></th>\n",
              "      <th>Adj Close</th>\n",
              "      <th>Close</th>\n",
              "      <th>High</th>\n",
              "      <th>Low</th>\n",
              "      <th>Open</th>\n",
              "      <th>Volume</th>\n",
              "      <th>Increase_Decrease</th>\n",
              "      <th>Buy_Sell_on_Open</th>\n",
              "      <th>Buy_Sell</th>\n",
              "      <th>Returns</th>\n",
              "    </tr>\n",
              "    <tr>\n",
              "      <th>Date</th>\n",
              "      <th></th>\n",
              "      <th></th>\n",
              "      <th></th>\n",
              "      <th></th>\n",
              "      <th></th>\n",
              "      <th></th>\n",
              "      <th></th>\n",
              "      <th></th>\n",
              "      <th></th>\n",
              "      <th></th>\n",
              "    </tr>\n",
              "  </thead>\n",
              "  <tbody>\n",
              "    <tr>\n",
              "      <th>2018-08-20</th>\n",
              "      <td>19.980000</td>\n",
              "      <td>19.980000</td>\n",
              "      <td>20.08</td>\n",
              "      <td>19.350000</td>\n",
              "      <td>19.790001</td>\n",
              "      <td>62983200</td>\n",
              "      <td>0</td>\n",
              "      <td>1</td>\n",
              "      <td>1</td>\n",
              "      <td>0.010622</td>\n",
              "    </tr>\n",
              "    <tr>\n",
              "      <th>2018-08-21</th>\n",
              "      <td>20.400000</td>\n",
              "      <td>20.400000</td>\n",
              "      <td>20.42</td>\n",
              "      <td>19.860001</td>\n",
              "      <td>19.980000</td>\n",
              "      <td>55629000</td>\n",
              "      <td>1</td>\n",
              "      <td>1</td>\n",
              "      <td>1</td>\n",
              "      <td>0.021021</td>\n",
              "    </tr>\n",
              "    <tr>\n",
              "      <th>2018-08-22</th>\n",
              "      <td>20.900000</td>\n",
              "      <td>20.900000</td>\n",
              "      <td>20.92</td>\n",
              "      <td>20.209999</td>\n",
              "      <td>20.280001</td>\n",
              "      <td>62002700</td>\n",
              "      <td>1</td>\n",
              "      <td>1</td>\n",
              "      <td>1</td>\n",
              "      <td>0.024510</td>\n",
              "    </tr>\n",
              "    <tr>\n",
              "      <th>2018-08-23</th>\n",
              "      <td>22.290001</td>\n",
              "      <td>22.290001</td>\n",
              "      <td>22.32</td>\n",
              "      <td>21.139999</td>\n",
              "      <td>21.190001</td>\n",
              "      <td>113444100</td>\n",
              "      <td>1</td>\n",
              "      <td>1</td>\n",
              "      <td>1</td>\n",
              "      <td>0.066507</td>\n",
              "    </tr>\n",
              "    <tr>\n",
              "      <th>2018-08-24</th>\n",
              "      <td>23.980000</td>\n",
              "      <td>23.980000</td>\n",
              "      <td>24.00</td>\n",
              "      <td>22.670000</td>\n",
              "      <td>22.910000</td>\n",
              "      <td>164328200</td>\n",
              "      <td>0</td>\n",
              "      <td>0</td>\n",
              "      <td>0</td>\n",
              "      <td>0.075819</td>\n",
              "    </tr>\n",
              "  </tbody>\n",
              "</table>\n",
              "</div>"
            ]
          },
          "metadata": {}
        }
      ],
      "execution_count": 4,
      "metadata": {
        "collapsed": true,
        "outputExpanded": false,
        "jupyter": {
          "source_hidden": false,
          "outputs_hidden": false
        },
        "nteract": {
          "transient": {
            "deleting": false
          }
        },
        "execution": {
          "iopub.status.busy": "2020-05-24T05:05:46.703Z",
          "iopub.execute_input": "2020-05-24T05:05:46.710Z",
          "iopub.status.idle": "2020-05-24T05:05:46.725Z",
          "shell.execute_reply": "2020-05-24T05:05:47.298Z"
        }
      }
    },
    {
      "cell_type": "code",
      "source": [
        "X = dataset.iloc[ : , 6:8].values\n",
        "y = dataset.iloc[ : , 8].values"
      ],
      "outputs": [],
      "execution_count": 5,
      "metadata": {
        "collapsed": true,
        "outputExpanded": false,
        "jupyter": {
          "source_hidden": false,
          "outputs_hidden": false
        },
        "nteract": {
          "transient": {
            "deleting": false
          }
        },
        "execution": {
          "iopub.status.busy": "2020-05-24T05:05:46.733Z",
          "iopub.execute_input": "2020-05-24T05:05:46.739Z",
          "iopub.status.idle": "2020-05-24T05:05:46.750Z",
          "shell.execute_reply": "2020-05-24T05:05:47.301Z"
        }
      }
    },
    {
      "cell_type": "code",
      "source": [
        "from sklearn.model_selection import train_test_split  \n",
        "X_train, X_test, y_train, y_test = train_test_split(X, y, test_size=0.20)  "
      ],
      "outputs": [],
      "execution_count": 6,
      "metadata": {
        "collapsed": true,
        "outputExpanded": false,
        "jupyter": {
          "source_hidden": false,
          "outputs_hidden": false
        },
        "nteract": {
          "transient": {
            "deleting": false
          }
        },
        "execution": {
          "iopub.status.busy": "2020-05-24T05:05:46.757Z",
          "iopub.execute_input": "2020-05-24T05:05:46.762Z",
          "iopub.status.idle": "2020-05-24T05:05:47.258Z",
          "shell.execute_reply": "2020-05-24T05:05:47.303Z"
        }
      }
    },
    {
      "cell_type": "code",
      "source": [
        "print(X_train.shape)\n",
        "print(y_train.shape)\n",
        "print(X_test.shape)\n",
        "print(y_test.shape)"
      ],
      "outputs": [
        {
          "output_type": "stream",
          "name": "stdout",
          "text": [
            "(936, 2)\n",
            "(936,)\n",
            "(234, 2)\n",
            "(234,)\n"
          ]
        }
      ],
      "execution_count": 7,
      "metadata": {
        "collapsed": true,
        "outputExpanded": false,
        "jupyter": {
          "source_hidden": false,
          "outputs_hidden": false
        },
        "nteract": {
          "transient": {
            "deleting": false
          }
        },
        "execution": {
          "iopub.status.busy": "2020-05-24T05:05:47.265Z",
          "iopub.execute_input": "2020-05-24T05:05:47.269Z",
          "iopub.status.idle": "2020-05-24T05:05:47.278Z",
          "shell.execute_reply": "2020-05-24T05:05:47.305Z"
        }
      }
    },
    {
      "cell_type": "code",
      "source": [
        "import statsmodels.api as sm\n",
        "from statsmodels.formula.api import poisson\n",
        "from statsmodels.formula.api import negativebinomial"
      ],
      "outputs": [],
      "execution_count": 8,
      "metadata": {
        "collapsed": true,
        "outputExpanded": false,
        "jupyter": {
          "source_hidden": false,
          "outputs_hidden": false
        },
        "nteract": {
          "transient": {
            "deleting": false
          }
        },
        "execution": {
          "iopub.status.busy": "2020-05-24T05:05:47.284Z",
          "iopub.execute_input": "2020-05-24T05:05:47.287Z",
          "iopub.status.idle": "2020-05-24T05:05:47.828Z",
          "shell.execute_reply": "2020-05-24T05:05:47.838Z"
        }
      }
    },
    {
      "cell_type": "code",
      "source": [
        "m1 = poisson('Increase_Decrease ~ Returns', data =dataset).fit()\n",
        "print(m1.summary())"
      ],
      "outputs": [
        {
          "output_type": "stream",
          "name": "stdout",
          "text": [
            "Optimization terminated successfully.\n",
            "         Current function value: 0.812951\n",
            "         Iterations 4\n",
            "                          Poisson Regression Results                          \n",
            "==============================================================================\n",
            "Dep. Variable:      Increase_Decrease   No. Observations:                 1170\n",
            "Model:                        Poisson   Df Residuals:                     1168\n",
            "Method:                           MLE   Df Model:                            1\n",
            "Date:                Sat, 23 May 2020   Pseudo R-squ.:               0.0001306\n",
            "Time:                        22:05:47   Log-Likelihood:                -951.15\n",
            "converged:                       True   LL-Null:                       -951.28\n",
            "                                        LLR p-value:                    0.6181\n",
            "==============================================================================\n",
            "                 coef    std err          z      P>|z|      [0.025      0.975]\n",
            "------------------------------------------------------------------------------\n",
            "Intercept     -0.7896      0.043    -18.156      0.000      -0.875      -0.704\n",
            "Returns        0.5577      1.108      0.503      0.615      -1.615       2.730\n",
            "==============================================================================\n"
          ]
        }
      ],
      "execution_count": 9,
      "metadata": {
        "collapsed": true,
        "outputExpanded": false,
        "jupyter": {
          "source_hidden": false,
          "outputs_hidden": false
        },
        "nteract": {
          "transient": {
            "deleting": false
          }
        },
        "execution": {
          "iopub.status.busy": "2020-05-24T05:05:47.847Z",
          "iopub.execute_input": "2020-05-24T05:05:47.851Z",
          "iopub.status.idle": "2020-05-24T05:05:47.868Z",
          "shell.execute_reply": "2020-05-24T05:05:48.197Z"
        }
      }
    },
    {
      "cell_type": "code",
      "source": [
        "model_fit1 = dataset\n",
        "preds_1 = m1.predict()\n",
        "model_fit1['preds'] = preds_1\n",
        "\n",
        "print(model_fit1.head(5))"
      ],
      "outputs": [
        {
          "output_type": "stream",
          "name": "stdout",
          "text": [
            "            Adj Close  Close  High   Low  Open    Volume  Increase_Decrease  \\\n",
            "Date                                                                          \n",
            "2014-01-03       4.00   4.00  4.00  3.88  3.98  22887200                  1   \n",
            "2014-01-06       4.13   4.13  4.18  3.99  4.01  42398300                  1   \n",
            "2014-01-07       4.18   4.18  4.25  4.11  4.19  42932100                  0   \n",
            "2014-01-08       4.18   4.18  4.26  4.14  4.23  30678700                  0   \n",
            "2014-01-09       4.09   4.09  4.23  4.05  4.20  30667600                  0   \n",
            "\n",
            "            Buy_Sell_on_Open  Buy_Sell   Returns     preds  \n",
            "Date                                                        \n",
            "2014-01-03                 1         1  0.012658  0.457245  \n",
            "2014-01-06                 1         1  0.032500  0.462334  \n",
            "2014-01-07                 1         0  0.012106  0.457105  \n",
            "2014-01-08                 0         0  0.000000  0.454029  \n",
            "2014-01-09                 0         1 -0.021531  0.448609  \n"
          ]
        }
      ],
      "execution_count": 10,
      "metadata": {
        "collapsed": true,
        "outputExpanded": false,
        "jupyter": {
          "source_hidden": false,
          "outputs_hidden": false
        },
        "nteract": {
          "transient": {
            "deleting": false
          }
        },
        "execution": {
          "iopub.status.busy": "2020-05-24T05:05:47.877Z",
          "iopub.execute_input": "2020-05-24T05:05:47.880Z",
          "iopub.status.idle": "2020-05-24T05:05:47.938Z",
          "shell.execute_reply": "2020-05-24T05:05:48.200Z"
        }
      }
    },
    {
      "cell_type": "code",
      "source": [
        "columns = ['Adj Close', 'High', 'Low', 'Open']\n",
        "X = [s for s in dataset[columns].values]\n",
        "X = sm.add_constant(X, prepend = False)\n",
        "Y = [s for s in dataset['Returns'].values]"
      ],
      "outputs": [],
      "execution_count": 11,
      "metadata": {
        "collapsed": true,
        "outputExpanded": false,
        "jupyter": {
          "source_hidden": false,
          "outputs_hidden": false
        },
        "nteract": {
          "transient": {
            "deleting": false
          }
        },
        "execution": {
          "iopub.status.busy": "2020-05-24T05:05:47.947Z",
          "iopub.execute_input": "2020-05-24T05:05:47.951Z",
          "iopub.status.idle": "2020-05-24T05:05:47.959Z",
          "shell.execute_reply": "2020-05-24T05:05:48.202Z"
        }
      }
    },
    {
      "cell_type": "code",
      "source": [
        "m2 = sm.Poisson(Y, X).fit()\n",
        "print(m2.summary())"
      ],
      "outputs": [
        {
          "output_type": "stream",
          "name": "stdout",
          "text": [
            "Warning: Maximum number of iterations has been exceeded.\n",
            "         Current function value: 6812363.638260\n",
            "         Iterations: 35\n",
            "                          Poisson Regression Results                          \n",
            "==============================================================================\n",
            "Dep. Variable:                      y   No. Observations:                 1170\n",
            "Model:                        Poisson   Df Residuals:                     1165\n",
            "Method:                           MLE   Df Model:                            4\n",
            "Date:                Sat, 23 May 2020   Pseudo R-squ.:              -4.317e+08\n",
            "Time:                        22:05:47   Log-Likelihood:            -7.9705e+09\n",
            "converged:                      False   LL-Null:                       -18.462\n",
            "                                        LLR p-value:                     1.000\n",
            "==============================================================================\n",
            "                 coef    std err          z      P>|z|      [0.025      0.975]\n",
            "------------------------------------------------------------------------------\n",
            "x1            46.6108      0.018   2624.528      0.000      46.576      46.646\n",
            "x2             7.1890      0.013    540.065      0.000       7.163       7.215\n",
            "x3            -7.7512      0.003  -2643.728      0.000      -7.757      -7.745\n",
            "x4           -46.2801      0.004  -1.11e+04      0.000     -46.288     -46.272\n",
            "const        -40.7364      0.005  -7809.609      0.000     -40.747     -40.726\n",
            "==============================================================================\n"
          ]
        },
        {
          "output_type": "stream",
          "name": "stderr",
          "text": [
            "C:\\Users\\Tin Hang\\Anaconda3\\envs\\py35\\lib\\site-packages\\statsmodels\\base\\model.py:508: ConvergenceWarning: Maximum Likelihood optimization failed to converge. Check mle_retvals\n",
            "  \"Check mle_retvals\", ConvergenceWarning)\n"
          ]
        }
      ],
      "execution_count": 12,
      "metadata": {
        "collapsed": true,
        "outputExpanded": false,
        "jupyter": {
          "source_hidden": false,
          "outputs_hidden": false
        },
        "nteract": {
          "transient": {
            "deleting": false
          }
        },
        "execution": {
          "iopub.status.busy": "2020-05-24T05:05:47.966Z",
          "iopub.execute_input": "2020-05-24T05:05:47.969Z",
          "iopub.status.idle": "2020-05-24T05:05:48.004Z",
          "shell.execute_reply": "2020-05-24T05:05:48.204Z"
        }
      }
    },
    {
      "cell_type": "code",
      "source": [
        "preds = m1.predict()\n",
        "plt.plot(range(len(Y)), Y, 'r*-', range(len(Y)), preds, 'bo-')\n",
        "plt.title('True values vs fitted values')\n",
        "plt.legend(['Real Values', 'Fitted Values'])\n",
        "plt.show()"
      ],
      "outputs": [
        {
          "output_type": "display_data",
          "data": {
            "text/plain": [
              "<Figure size 432x288 with 1 Axes>"
            ],
            "image/png": "[encoded data removed]"
          },
          "metadata": {
            "needs_background": "light"
          }
        }
      ],
      "execution_count": 13,
      "metadata": {
        "collapsed": true,
        "outputExpanded": false,
        "jupyter": {
          "source_hidden": false,
          "outputs_hidden": false
        },
        "nteract": {
          "transient": {
            "deleting": false
          }
        },
        "execution": {
          "iopub.status.busy": "2020-05-24T05:05:48.011Z",
          "iopub.execute_input": "2020-05-24T05:05:48.028Z",
          "iopub.status.idle": "2020-05-24T05:05:48.188Z",
          "shell.execute_reply": "2020-05-24T05:05:48.206Z"
        }
      }
    }
  ],
  "metadata": {
    "kernel_info": {
      "name": "python3"
    },
    "language_info": {
      "name": "python",
      "file_extension": ".py",
      "pygments_lexer": "ipython3",
      "nbconvert_exporter": "python",
      "mimetype": "text/x-python",
      "codemirror_mode": {
        "name": "ipython",
        "version": 3
      },
      "version": "3.5.5"
    },
    "kernelspec": {
      "name": "python3",
      "language": "python",
      "display_name": "Python 3"
    },
    "nteract": {
      "version": "0.23.1"
    }
  },
  "nbformat": 4,
  "nbformat_minor": 4
}