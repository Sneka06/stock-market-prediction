{
  "cells": [
    {
      "cell_type": "markdown",
      "source": [
        "# Stock Linear Regression"
      ],
      "metadata": {}
    },
    {
      "cell_type": "code",
      "source": [
        "# Library\n",
        "import pandas as pd\n",
        "import numpy as np\n",
        "\n",
        "from sklearn.linear_model import LinearRegression\n",
        "import math\n",
        "\n",
        "import matplotlib.pyplot as plt\n",
        "import seaborn as sns\n",
        "\n",
        "import warnings\n",
        "warnings.filterwarnings(\"ignore\")\n",
        "\n",
        "import fix_yahoo_finance as yf\n",
        "yf.pdr_override()"
      ],
      "outputs": [],
      "execution_count": 1,
      "metadata": {
        "collapsed": false,
        "outputHidden": false,
        "inputHidden": false
      }
    },
    {
      "cell_type": "code",
      "source": [
        "stock_name = 'AMD'\n",
        "start = '2010-01-01' \n",
        "end = '2018-09-27'\n",
        "df = yf.download(stock_name, start, end)\n",
        "df = df.reset_index()"
      ],
      "outputs": [
        {
          "output_type": "stream",
          "name": "stdout",
          "text": [
            "[*********************100%***********************]  1 of 1 downloaded\n"
          ]
        }
      ],
      "execution_count": 2,
      "metadata": {
        "collapsed": false,
        "outputHidden": false,
        "inputHidden": false
      }
    },
    {
      "cell_type": "code",
      "source": [
        "X = df.index.values\n",
        "y = df['Adj Close'].values"
      ],
      "outputs": [],
      "execution_count": 3,
      "metadata": {
        "collapsed": false,
        "outputHidden": false,
        "inputHidden": false
      }
    },
    {
      "cell_type": "code",
      "source": [
        "X.shape"
      ],
      "outputs": [
        {
          "output_type": "execute_result",
          "execution_count": 4,
          "data": {
            "text/plain": [
              "(2200,)"
            ]
          },
          "metadata": {}
        }
      ],
      "execution_count": 4,
      "metadata": {
        "collapsed": false,
        "outputHidden": false,
        "inputHidden": false
      }
    },
    {
      "cell_type": "code",
      "source": [
        "X = X.reshape((2200,-1))"
      ],
      "outputs": [],
      "execution_count": 5,
      "metadata": {
        "collapsed": false,
        "outputHidden": false,
        "inputHidden": false
      }
    },
    {
      "cell_type": "code",
      "source": [
        "lr = LinearRegression(fit_intercept=True)\n",
        "lr.fit(X, y)"
      ],
      "outputs": [
        {
          "output_type": "execute_result",
          "execution_count": 6,
          "data": {
            "text/plain": [
              "LinearRegression(copy_X=True, fit_intercept=True, n_jobs=None,\n",
              "         normalize=False)"
            ]
          },
          "metadata": {}
        }
      ],
      "execution_count": 6,
      "metadata": {
        "collapsed": false,
        "outputHidden": false,
        "inputHidden": false
      }
    },
    {
      "cell_type": "code",
      "source": [
        "df.data = df[['Open','High','Low','Volume']]\n",
        "df.target = df['Adj Close']"
      ],
      "outputs": [],
      "execution_count": 7,
      "metadata": {
        "collapsed": false,
        "outputHidden": false,
        "inputHidden": false
      }
    },
    {
      "cell_type": "code",
      "source": [
        "## Degrees of freedom on dependent variable variance\n",
        "df_v = X.shape[0] - 1\n",
        "print('Degrees of freedom on variable:', df_v)\n",
        "## Degrees of freedom of error variance\n",
        "df_e = X.shape[0] - X.shape[1] - 1\n",
        "print('Degrees of freedom of error:', df_e)"
      ],
      "outputs": [
        {
          "output_type": "stream",
          "name": "stdout",
          "text": [
            "Degrees of freedom on variable: 2199\n",
            "Degrees of freedom of error: 2198\n"
          ]
        }
      ],
      "execution_count": 8,
      "metadata": {
        "collapsed": false,
        "outputHidden": false,
        "inputHidden": false
      }
    },
    {
      "cell_type": "markdown",
      "source": [
        "Sum of Squared Errors (SSE) is a measurement of model's predictions from the actual values"
      ],
      "metadata": {}
    },
    {
      "cell_type": "code",
      "source": [
        "model = LinearRegression(fit_intercept=True)\n",
        "model.fit(X, y)\n",
        "squared_errors = (y - model.predict(X)) ** 2\n",
        "sse = np.sum(squared_errors)\n",
        "print('Sum of Squared Errors (SSE):', round(sse,4))"
      ],
      "outputs": [
        {
          "output_type": "stream",
          "name": "stdout",
          "text": [
            "Sum of Squared Errors (SSE): 39802.0693\n"
          ]
        }
      ],
      "execution_count": 9,
      "metadata": {
        "collapsed": false,
        "outputHidden": false,
        "inputHidden": false
      }
    },
    {
      "cell_type": "markdown",
      "source": [
        "Total Sum of Squares (SST) is a measurement of the variance in the target variable."
      ],
      "metadata": {}
    },
    {
      "cell_type": "code",
      "source": [
        "avg_y = np.mean(y)\n",
        "squared_errors = (y - avg_y) ** 2\n",
        "sst = np.sum(squared_errors)\n",
        "print('Total Sum of Squares (SST):', round(sst,4))"
      ],
      "outputs": [
        {
          "output_type": "stream",
          "name": "stdout",
          "text": [
            "Total Sum of Squares (SST): 45736.2484\n"
          ]
        }
      ],
      "execution_count": 10,
      "metadata": {
        "collapsed": false,
        "outputHidden": false,
        "inputHidden": false
      }
    },
    {
      "cell_type": "markdown",
      "source": [
        "R^2 is the measurement of the variances in dependent variable that is predictable from the indepdented variable. \n",
        "\nIs a goodness-of-fit measure for linear regression models. It measures the strength of the relationship between the model and the dependent variable. The scale between 0 to 100%. "
      ],
      "metadata": {}
    },
    {
      "cell_type": "code",
      "source": [
        "r_squared = 1 - (sse/sst)\n",
        "print('R^2:', round(r_squared,4))"
      ],
      "outputs": [
        {
          "output_type": "stream",
          "name": "stdout",
          "text": [
            "R^2: 0.1297\n"
          ]
        }
      ],
      "execution_count": 11,
      "metadata": {
        "collapsed": false,
        "outputHidden": false,
        "inputHidden": false
      }
    },
    {
      "cell_type": "markdown",
      "source": [
        "Adjusted R^2 is the measurement that increases if the new term improves the model more than would be expected by chance."
      ],
      "metadata": {}
    },
    {
      "cell_type": "code",
      "source": [
        "adj_r = 1 - (sse/df_e) / (sst/df_v)\n",
        "print('Adjusted R^2:', round(adj_r,4))"
      ],
      "outputs": [
        {
          "output_type": "stream",
          "name": "stdout",
          "text": [
            "Adjusted R^2: 0.1294\n"
          ]
        }
      ],
      "execution_count": 12,
      "metadata": {
        "collapsed": false,
        "outputHidden": false,
        "inputHidden": false
      }
    },
    {
      "cell_type": "code",
      "source": [
        "print('             Summary Key Metric              ')\n",
        "print('__________________________________________')\n",
        "print('Sum of Squared Errors (SSE): ', round(sse,4))\n",
        "print('Total Sum of Squares (SST):  ', round(sst,4))\n",
        "print('R^2:                         ', round(r_squared,4))\n",
        "print('Adjusted R^2:                ', round(adj_r,4))"
      ],
      "outputs": [
        {
          "output_type": "stream",
          "name": "stdout",
          "text": [
            "             Summary Key Metric              \n",
            "__________________________________________\n",
            "Sum of Squared Errors (SSE):  39802.0693\n",
            "Total Sum of Squares (SST):   45736.2484\n",
            "R^2:                          0.1297\n",
            "Adjusted R^2:                 0.1294\n"
          ]
        }
      ],
      "execution_count": 13,
      "metadata": {
        "collapsed": false,
        "outputHidden": false,
        "inputHidden": false
      }
    },
    {
      "cell_type": "code",
      "source": [
        "class Stats:\n",
        "    \n",
        "    def __init__(self, X, y, model):\n",
        "        self.data = X\n",
        "        self.target = y\n",
        "        self.model = model\n",
        "        ## degrees of freedom population dep. variable variance\n",
        "        self._dft = X.shape[0] - 1   \n",
        "        ## degrees of freedom population error variance\n",
        "        self._dfe = X.shape[0] - X.shape[1] - 1  \n",
        "    \n",
        "    def sse(self):\n",
        "        '''returns sum of squared errors (model vs actual)'''\n",
        "        squared_errors = (self.target - self.model.predict(self.data)) ** 2\n",
        "        return np.sum(squared_errors)\n",
        "        \n",
        "    def sst(self):\n",
        "        '''returns total sum of squared errors (actual vs avg(actual))'''\n",
        "        avg_y = np.mean(self.target)\n",
        "        squared_errors = (self.target - avg_y) ** 2\n",
        "        return np.sum(squared_errors)\n",
        "    \n",
        "    def r_squared(self):\n",
        "        '''returns calculated value of r^2'''\n",
        "        return 1 - self.sse()/self.sst()\n",
        "    \n",
        "    def adj_r_squared(self):\n",
        "        '''returns calculated value of adjusted r^2'''\n",
        "        return 1 - (self.sse()/self._dfe) / (self.sst()/self._dft)"
      ],
      "outputs": [],
      "execution_count": 14,
      "metadata": {
        "collapsed": false,
        "outputHidden": false,
        "inputHidden": false
      }
    },
    {
      "cell_type": "code",
      "source": [
        "def pretty_print_stats(stats_obj):\n",
        "    '''returns report of statistics for a given model object'''\n",
        "    items = ( ('sse:', stats_obj.sse()), ('sst:', stats_obj.sst()), \n",
        "             ('r^2:', stats_obj.r_squared()), ('adj_r^2:', stats_obj.adj_r_squared()) )\n",
        "    for item in items:\n",
        "        print('{0:8} {1:.4f}'.format(item[0], item[1]))"
      ],
      "outputs": [],
      "execution_count": 15,
      "metadata": {
        "collapsed": false,
        "outputHidden": false,
        "inputHidden": false
      }
    },
    {
      "cell_type": "code",
      "source": [
        "stats = Stats(X, y, lr)\n",
        "pretty_print_stats(stats)"
      ],
      "outputs": [
        {
          "output_type": "stream",
          "name": "stdout",
          "text": [
            "sse:     39802.0693\n",
            "sst:     45736.2484\n",
            "r^2:     0.1297\n",
            "adj_r^2: 0.1294\n"
          ]
        }
      ],
      "execution_count": 16,
      "metadata": {
        "collapsed": false,
        "outputHidden": false,
        "inputHidden": false
      }
    },
    {
      "cell_type": "code",
      "source": [
        "stock_name = 'AMD'\n",
        "start = '2010-01-01' \n",
        "end = '2018-09-27'\n",
        "df = yf.download(stock_name, start, end)\n",
        "df = df.reset_index()"
      ],
      "outputs": [
        {
          "output_type": "stream",
          "name": "stdout",
          "text": [
            "[*********************100%***********************]  1 of 1 downloaded\n"
          ]
        }
      ],
      "execution_count": 17,
      "metadata": {
        "collapsed": false,
        "outputHidden": false,
        "inputHidden": false
      }
    },
    {
      "cell_type": "code",
      "source": [
        "X = df.index.values\n",
        "y = df['Adj Close'].values"
      ],
      "outputs": [],
      "execution_count": 18,
      "metadata": {
        "collapsed": false,
        "outputHidden": false,
        "inputHidden": false
      }
    },
    {
      "cell_type": "code",
      "source": [
        "x_reshape = X.reshape((2200,-1))"
      ],
      "outputs": [],
      "execution_count": 19,
      "metadata": {
        "collapsed": false,
        "outputHidden": false,
        "inputHidden": false
      }
    },
    {
      "cell_type": "code",
      "source": [
        "# Linear Model\n",
        "linear = LinearRegression()\n",
        "linear.fit(x_reshape, y)"
      ],
      "outputs": [
        {
          "output_type": "execute_result",
          "execution_count": 20,
          "data": {
            "text/plain": [
              "LinearRegression(copy_X=True, fit_intercept=True, n_jobs=None,\n",
              "         normalize=False)"
            ]
          },
          "metadata": {}
        }
      ],
      "execution_count": 20,
      "metadata": {
        "collapsed": false,
        "outputHidden": false,
        "inputHidden": false
      }
    },
    {
      "cell_type": "code",
      "source": [
        "# Non Linear Model\n",
        "y_nonlinear = [x**3 + np.random.rand(1)*10 for x in range(2200)]\n",
        "nonlinear = LinearRegression()\n",
        "nonlinear.fit(x_reshape, y_nonlinear)"
      ],
      "outputs": [
        {
          "output_type": "execute_result",
          "execution_count": 21,
          "data": {
            "text/plain": [
              "LinearRegression(copy_X=True, fit_intercept=True, n_jobs=None,\n",
              "         normalize=False)"
            ]
          },
          "metadata": {}
        }
      ],
      "execution_count": 21,
      "metadata": {
        "collapsed": false,
        "outputHidden": false,
        "inputHidden": false
      }
    },
    {
      "cell_type": "code",
      "source": [
        "fig, axes = plt.subplots(1, 2, sharex=False, sharey=False)\n",
        "fig.suptitle('[Residual Plots]')\n",
        "fig.set_size_inches(15,8)\n",
        "axes[0].plot(linear.predict(x_reshape), y-linear.predict(x_reshape), 'bo')\n",
        "axes[0].axhline(y=0, color='k')\n",
        "axes[0].grid()\n",
        "axes[0].set_title('Linear')\n",
        "axes[0].set_xlabel('predicted values')\n",
        "axes[0].set_ylabel('residuals')\n",
        "axes[1].plot(nonlinear.predict(x_reshape), y_nonlinear-nonlinear.predict(x_reshape), 'ro')\n",
        "axes[1].axhline(y=0, color='k')\n",
        "axes[1].grid()\n",
        "axes[1].set_title('Non-Linear')\n",
        "axes[1].set_xlabel('predicted values')"
      ],
      "outputs": [
        {
          "output_type": "execute_result",
          "execution_count": 22,
          "data": {
            "text/plain": [
              "Text(0.5,0,'predicted values')"
            ]
          },
          "metadata": {}
        },
        {
          "output_type": "display_data",
          "data": {
            "text/plain": [
              "<Figure size 1080x576 with 2 Axes>"
            ],
            "image/png": "[encoded data removed]"
          },
          "metadata": {}
        }
      ],
      "execution_count": 22,
      "metadata": {
        "collapsed": false,
        "outputHidden": false,
        "inputHidden": false
      }
    },
    {
      "cell_type": "code",
      "source": [
        "s1 = Stats(x_reshape, y_nonlinear, nonlinear)\n",
        "pretty_print_stats(s1)"
      ],
      "outputs": [
        {
          "output_type": "stream",
          "name": "stdout",
          "text": [
            "sse:     3204194240724972077056.0000\n",
            "sst:     20015608785841416044544.0000\n",
            "r^2:     0.8399\n",
            "adj_r^2: 0.8398\n"
          ]
        }
      ],
      "execution_count": 23,
      "metadata": {
        "collapsed": false,
        "outputHidden": false,
        "inputHidden": false
      }
    },
    {
      "cell_type": "code",
      "source": [
        "s1 = Stats(x_reshape, y, linear)\n",
        "pretty_print_stats(s1)"
      ],
      "outputs": [
        {
          "output_type": "stream",
          "name": "stdout",
          "text": [
            "sse:     39802.0693\n",
            "sst:     45736.2484\n",
            "r^2:     0.1297\n",
            "adj_r^2: 0.1294\n"
          ]
        }
      ],
      "execution_count": 24,
      "metadata": {
        "collapsed": false,
        "outputHidden": false,
        "inputHidden": false
      }
    },
    {
      "cell_type": "code",
      "source": [
        "residuals_linear = y - linear.predict(x_reshape)\n",
        "residuals_nlinear = y_nonlinear - nonlinear.predict(x_reshape)\n",
        "\n",
        "sns.distplot(residuals_linear);\n",
        "plt.title('Linear')"
      ],
      "outputs": [
        {
          "output_type": "execute_result",
          "execution_count": 25,
          "data": {
            "text/plain": [
              "Text(0.5,1,'Linear')"
            ]
          },
          "metadata": {}
        },
        {
          "output_type": "display_data",
          "data": {
            "text/plain": [
              "<Figure size 432x288 with 1 Axes>"
            ],
            "image/png": "[encoded data removed]"
          },
          "metadata": {}
        }
      ],
      "execution_count": 25,
      "metadata": {
        "collapsed": false,
        "outputHidden": false,
        "inputHidden": false
      }
    },
    {
      "cell_type": "code",
      "source": [
        "sns.distplot(residuals_nlinear)\n",
        "plt.title('Non-Linear')"
      ],
      "outputs": [
        {
          "output_type": "execute_result",
          "execution_count": 26,
          "data": {
            "text/plain": [
              "Text(0.5,1,'Non-Linear')"
            ]
          },
          "metadata": {}
        },
        {
          "output_type": "display_data",
          "data": {
            "text/plain": [
              "<Figure size 432x288 with 1 Axes>"
            ],
            "image/png": "[encoded data removed]"
          },
          "metadata": {}
        }
      ],
      "execution_count": 26,
      "metadata": {
        "collapsed": false,
        "outputHidden": false,
        "inputHidden": false
      }
    },
    {
      "cell_type": "code",
      "source": [
        "from scipy.stats import normaltest\n",
        "normaltest(residuals_linear)"
      ],
      "outputs": [
        {
          "output_type": "execute_result",
          "execution_count": 27,
          "data": {
            "text/plain": [
              "NormaltestResult(statistic=556.59256449981638, pvalue=1.3723354580523852e-121)"
            ]
          },
          "metadata": {}
        }
      ],
      "execution_count": 27,
      "metadata": {
        "collapsed": false,
        "outputHidden": false,
        "inputHidden": false
      }
    },
    {
      "cell_type": "code",
      "source": [
        "normaltest(residuals_nlinear)"
      ],
      "outputs": [
        {
          "output_type": "execute_result",
          "execution_count": 28,
          "data": {
            "text/plain": [
              "NormaltestResult(statistic=array([ 235.33885248]), pvalue=array([  7.88528682e-52]))"
            ]
          },
          "metadata": {}
        }
      ],
      "execution_count": 28,
      "metadata": {
        "collapsed": false,
        "outputHidden": false,
        "inputHidden": false
      }
    }
  ],
  "metadata": {
    "kernel_info": {
      "name": "python3"
    },
    "language_info": {
      "mimetype": "text/x-python",
      "codemirror_mode": {
        "name": "ipython",
        "version": 3
      },
      "name": "python",
      "nbconvert_exporter": "python",
      "pygments_lexer": "ipython3",
      "file_extension": ".py",
      "version": "3.5.5"
    },
    "kernelspec": {
      "name": "python3",
      "language": "python",
      "display_name": "Python 3"
    },
    "nteract": {
      "version": "0.12.2"
    }
  },
  "nbformat": 4,
  "nbformat_minor": 4
}