{
  "cells": [
    {
      "cell_type": "markdown",
      "source": [
        "# Descriptive Statistics Analysis"
      ],
      "metadata": {}
    },
    {
      "cell_type": "code",
      "source": [
        "import numpy as np\n",
        "import pandas as pd\n",
        "import matplotlib.pyplot as plt\n",
        "import statistics as sc\n",
        "from scipy import stats\n",
        "import math\n",
        "\n",
        "import warnings\n",
        "warnings.filterwarnings(\"ignore\")\n",
        "\n",
        "# fix_yahoo_finance is used to fetch data \n",
        "import fix_yahoo_finance as yf\n",
        "yf.pdr_override()"
      ],
      "outputs": [],
      "execution_count": 1,
      "metadata": {
        "collapsed": false,
        "outputHidden": false,
        "inputHidden": false
      }
    },
    {
      "cell_type": "code",
      "source": [
        "# input\n",
        "symbol = 'AMD'\n",
        "start = '2007-01-01'\n",
        "end = '2018-12-31'\n",
        "\n",
        "# Read data \n",
        "dataset = yf.download(symbol,start,end)\n",
        "\n",
        "# View Columns\n",
        "dataset.head()"
      ],
      "outputs": [
        {
          "output_type": "stream",
          "name": "stdout",
          "text": [
            "[*********************100%***********************]  1 of 1 downloaded\n"
          ]
        },
        {
          "output_type": "execute_result",
          "execution_count": 2,
          "data": {
            "text/html": [
              "<div>\n",
              "<style scoped>\n",
              "    .dataframe tbody tr th:only-of-type {\n",
              "        vertical-align: middle;\n",
              "    }\n",
              "\n",
              "    .dataframe tbody tr th {\n",
              "        vertical-align: top;\n",
              "    }\n",
              "\n",
              "    .dataframe thead th {\n",
              "        text-align: right;\n",
              "    }\n",
              "</style>\n",
              "<table border=\"1\" class=\"dataframe\">\n",
              "  <thead>\n",
              "    <tr style=\"text-align: right;\">\n",
              "      <th></th>\n",
              "      <th>Open</th>\n",
              "      <th>High</th>\n",
              "      <th>Low</th>\n",
              "      <th>Close</th>\n",
              "      <th>Adj Close</th>\n",
              "      <th>Volume</th>\n",
              "    </tr>\n",
              "    <tr>\n",
              "      <th>Date</th>\n",
              "      <th></th>\n",
              "      <th></th>\n",
              "      <th></th>\n",
              "      <th></th>\n",
              "      <th></th>\n",
              "      <th></th>\n",
              "    </tr>\n",
              "  </thead>\n",
              "  <tbody>\n",
              "    <tr>\n",
              "      <th>2007-01-03</th>\n",
              "      <td>20.080000</td>\n",
              "      <td>20.400000</td>\n",
              "      <td>19.350000</td>\n",
              "      <td>19.520000</td>\n",
              "      <td>19.520000</td>\n",
              "      <td>28350300</td>\n",
              "    </tr>\n",
              "    <tr>\n",
              "      <th>2007-01-04</th>\n",
              "      <td>19.660000</td>\n",
              "      <td>19.860001</td>\n",
              "      <td>19.320000</td>\n",
              "      <td>19.790001</td>\n",
              "      <td>19.790001</td>\n",
              "      <td>23652500</td>\n",
              "    </tr>\n",
              "    <tr>\n",
              "      <th>2007-01-05</th>\n",
              "      <td>19.540001</td>\n",
              "      <td>19.910000</td>\n",
              "      <td>19.540001</td>\n",
              "      <td>19.709999</td>\n",
              "      <td>19.709999</td>\n",
              "      <td>15902400</td>\n",
              "    </tr>\n",
              "    <tr>\n",
              "      <th>2007-01-08</th>\n",
              "      <td>19.709999</td>\n",
              "      <td>19.860001</td>\n",
              "      <td>19.370001</td>\n",
              "      <td>19.469999</td>\n",
              "      <td>19.469999</td>\n",
              "      <td>15814800</td>\n",
              "    </tr>\n",
              "    <tr>\n",
              "      <th>2007-01-09</th>\n",
              "      <td>19.450001</td>\n",
              "      <td>19.709999</td>\n",
              "      <td>19.370001</td>\n",
              "      <td>19.650000</td>\n",
              "      <td>19.650000</td>\n",
              "      <td>14494200</td>\n",
              "    </tr>\n",
              "  </tbody>\n",
              "</table>\n",
              "</div>"
            ],
            "text/plain": [
              "                 Open       High        Low      Close  Adj Close    Volume\n",
              "Date                                                                       \n",
              "2007-01-03  20.080000  20.400000  19.350000  19.520000  19.520000  28350300\n",
              "2007-01-04  19.660000  19.860001  19.320000  19.790001  19.790001  23652500\n",
              "2007-01-05  19.540001  19.910000  19.540001  19.709999  19.709999  15902400\n",
              "2007-01-08  19.709999  19.860001  19.370001  19.469999  19.469999  15814800\n",
              "2007-01-09  19.450001  19.709999  19.370001  19.650000  19.650000  14494200"
            ]
          },
          "metadata": {}
        }
      ],
      "execution_count": 2,
      "metadata": {
        "collapsed": false,
        "outputHidden": false,
        "inputHidden": false
      }
    },
    {
      "cell_type": "code",
      "source": [
        "dataset.tail()"
      ],
      "outputs": [
        {
          "output_type": "execute_result",
          "execution_count": 3,
          "data": {
            "text/html": [
              "<div>\n",
              "<style scoped>\n",
              "    .dataframe tbody tr th:only-of-type {\n",
              "        vertical-align: middle;\n",
              "    }\n",
              "\n",
              "    .dataframe tbody tr th {\n",
              "        vertical-align: top;\n",
              "    }\n",
              "\n",
              "    .dataframe thead th {\n",
              "        text-align: right;\n",
              "    }\n",
              "</style>\n",
              "<table border=\"1\" class=\"dataframe\">\n",
              "  <thead>\n",
              "    <tr style=\"text-align: right;\">\n",
              "      <th></th>\n",
              "      <th>Open</th>\n",
              "      <th>High</th>\n",
              "      <th>Low</th>\n",
              "      <th>Close</th>\n",
              "      <th>Adj Close</th>\n",
              "      <th>Volume</th>\n",
              "    </tr>\n",
              "    <tr>\n",
              "      <th>Date</th>\n",
              "      <th></th>\n",
              "      <th></th>\n",
              "      <th></th>\n",
              "      <th></th>\n",
              "      <th></th>\n",
              "      <th></th>\n",
              "    </tr>\n",
              "  </thead>\n",
              "  <tbody>\n",
              "    <tr>\n",
              "      <th>2018-12-24</th>\n",
              "      <td>16.520000</td>\n",
              "      <td>17.219999</td>\n",
              "      <td>16.370001</td>\n",
              "      <td>16.650000</td>\n",
              "      <td>16.650000</td>\n",
              "      <td>62933100</td>\n",
              "    </tr>\n",
              "    <tr>\n",
              "      <th>2018-12-26</th>\n",
              "      <td>16.879999</td>\n",
              "      <td>17.910000</td>\n",
              "      <td>16.030001</td>\n",
              "      <td>17.900000</td>\n",
              "      <td>17.900000</td>\n",
              "      <td>108811800</td>\n",
              "    </tr>\n",
              "    <tr>\n",
              "      <th>2018-12-27</th>\n",
              "      <td>17.430000</td>\n",
              "      <td>17.740000</td>\n",
              "      <td>16.440001</td>\n",
              "      <td>17.490000</td>\n",
              "      <td>17.490000</td>\n",
              "      <td>111373000</td>\n",
              "    </tr>\n",
              "    <tr>\n",
              "      <th>2018-12-28</th>\n",
              "      <td>17.530001</td>\n",
              "      <td>18.309999</td>\n",
              "      <td>17.139999</td>\n",
              "      <td>17.820000</td>\n",
              "      <td>17.820000</td>\n",
              "      <td>109214400</td>\n",
              "    </tr>\n",
              "    <tr>\n",
              "      <th>2018-12-31</th>\n",
              "      <td>18.150000</td>\n",
              "      <td>18.510000</td>\n",
              "      <td>17.850000</td>\n",
              "      <td>18.459999</td>\n",
              "      <td>18.459999</td>\n",
              "      <td>84732200</td>\n",
              "    </tr>\n",
              "  </tbody>\n",
              "</table>\n",
              "</div>"
            ],
            "text/plain": [
              "                 Open       High        Low      Close  Adj Close     Volume\n",
              "Date                                                                        \n",
              "2018-12-24  16.520000  17.219999  16.370001  16.650000  16.650000   62933100\n",
              "2018-12-26  16.879999  17.910000  16.030001  17.900000  17.900000  108811800\n",
              "2018-12-27  17.430000  17.740000  16.440001  17.490000  17.490000  111373000\n",
              "2018-12-28  17.530001  18.309999  17.139999  17.820000  17.820000  109214400\n",
              "2018-12-31  18.150000  18.510000  17.850000  18.459999  18.459999   84732200"
            ]
          },
          "metadata": {}
        }
      ],
      "execution_count": 3,
      "metadata": {
        "collapsed": false,
        "outputHidden": false,
        "inputHidden": false
      }
    },
    {
      "cell_type": "code",
      "source": [
        "sample = round(dataset['Adj Close'],2)"
      ],
      "outputs": [],
      "execution_count": 4,
      "metadata": {
        "collapsed": false,
        "outputHidden": false,
        "inputHidden": false
      }
    },
    {
      "cell_type": "markdown",
      "source": [
        "Sample statistic ia a summary measure of sample such as mean, variance, and standaardeviation. \n",
        "\n",
        "Mean is a measurement of central location or average values.\n",
        "\n",
        "Variance is a measurement of variability computed by taking the positive sqaure root of the variance. \n",
        "\n",
        "Median is the middle value when the data are arranged in ascending order. \n",
        "\n",
        "Mode is the value that occurs the most frequency. "
      ],
      "metadata": {}
    },
    {
      "cell_type": "code",
      "source": [
        "print('Sample Statistics:')\n",
        "print('Sample Mean: ', sample.mean())\n",
        "print('Sample Variance: ', sample.var())\n",
        "print('Sample Standarad Deviation: ', sample.std())\n",
        "print('Sample Median: ', sc.median(sample))\n",
        "print('Sample Mode: ', sc.mode(sample))"
      ],
      "outputs": [
        {
          "output_type": "stream",
          "name": "stdout",
          "text": [
            "Sample Statistics:\n",
            "Sample Mean:  7.307850993377494\n",
            "Sample Variance:  25.379943078153996\n",
            "Sample Standarad Deviation:  5.037851037709829\n",
            "Sample Median:  6.12\n"
          ]
        },
        {
          "output_type": "error",
          "ename": "StatisticsError",
          "evalue": "no unique mode; found 3 equally common values",
          "traceback": [
            "\u001b[1;31m---------------------------------------------------------------------------\u001b[0m",
            "\u001b[1;31mStatisticsError\u001b[0m                           Traceback (most recent call last)",
            "\u001b[1;32m<ipython-input-5-01c17f9f8d3e>\u001b[0m in \u001b[0;36m<module>\u001b[1;34m()\u001b[0m\n\u001b[0;32m      4\u001b[0m \u001b[0mprint\u001b[0m\u001b[1;33m(\u001b[0m\u001b[1;34m'Sample Standarad Deviation: '\u001b[0m\u001b[1;33m,\u001b[0m \u001b[0msample\u001b[0m\u001b[1;33m.\u001b[0m\u001b[0mstd\u001b[0m\u001b[1;33m(\u001b[0m\u001b[1;33m)\u001b[0m\u001b[1;33m)\u001b[0m\u001b[1;33m\u001b[0m\u001b[0m\n\u001b[0;32m      5\u001b[0m \u001b[0mprint\u001b[0m\u001b[1;33m(\u001b[0m\u001b[1;34m'Sample Median: '\u001b[0m\u001b[1;33m,\u001b[0m \u001b[0msc\u001b[0m\u001b[1;33m.\u001b[0m\u001b[0mmedian\u001b[0m\u001b[1;33m(\u001b[0m\u001b[0msample\u001b[0m\u001b[1;33m)\u001b[0m\u001b[1;33m)\u001b[0m\u001b[1;33m\u001b[0m\u001b[0m\n\u001b[1;32m----> 6\u001b[1;33m \u001b[0mprint\u001b[0m\u001b[1;33m(\u001b[0m\u001b[1;34m'Sample Mode: '\u001b[0m\u001b[1;33m,\u001b[0m \u001b[0msc\u001b[0m\u001b[1;33m.\u001b[0m\u001b[0mmode\u001b[0m\u001b[1;33m(\u001b[0m\u001b[0msample\u001b[0m\u001b[1;33m)\u001b[0m\u001b[1;33m)\u001b[0m\u001b[1;33m\u001b[0m\u001b[0m\n\u001b[0m",
            "\u001b[1;32m~\\Anaconda3\\envs\\py35\\lib\\statistics.py\u001b[0m in \u001b[0;36mmode\u001b[1;34m(data)\u001b[0m\n\u001b[0;32m    472\u001b[0m     \u001b[1;32melif\u001b[0m \u001b[0mtable\u001b[0m\u001b[1;33m:\u001b[0m\u001b[1;33m\u001b[0m\u001b[0m\n\u001b[0;32m    473\u001b[0m         raise StatisticsError(\n\u001b[1;32m--> 474\u001b[1;33m                 \u001b[1;34m'no unique mode; found %d equally common values'\u001b[0m \u001b[1;33m%\u001b[0m \u001b[0mlen\u001b[0m\u001b[1;33m(\u001b[0m\u001b[0mtable\u001b[0m\u001b[1;33m)\u001b[0m\u001b[1;33m\u001b[0m\u001b[0m\n\u001b[0m\u001b[0;32m    475\u001b[0m                 )\n\u001b[0;32m    476\u001b[0m     \u001b[1;32melse\u001b[0m\u001b[1;33m:\u001b[0m\u001b[1;33m\u001b[0m\u001b[0m\n",
            "\u001b[1;31mStatisticsError\u001b[0m: no unique mode; found 3 equally common values"
          ]
        }
      ],
      "execution_count": 5,
      "metadata": {
        "collapsed": false,
        "outputHidden": false,
        "inputHidden": false
      }
    },
    {
      "cell_type": "markdown",
      "source": [
        "Pecentile is a value that at least p percent of the observations are less than or equal to this value and at least (100 - p) percent of the observations are greater than or equal to this value. "
      ],
      "metadata": {}
    },
    {
      "cell_type": "code",
      "source": [
        "p = np.percentile(sample, 50)\n",
        "\n",
        "print('Sample percentile of 50th: ', p)"
      ],
      "outputs": [
        {
          "output_type": "stream",
          "name": "stdout",
          "text": [
            "Sample percentile of 50th:  6.12\n"
          ]
        }
      ],
      "execution_count": 6,
      "metadata": {
        "collapsed": false,
        "outputHidden": false,
        "inputHidden": false
      }
    },
    {
      "cell_type": "markdown",
      "source": [
        "The 25th percentiles is first quartile.\n",
        "\n",
        "The 50th percentiles(median) is second quartile.\n",
        "\n",
        "The 75th percentiles is third quartile."
      ],
      "metadata": {}
    },
    {
      "cell_type": "code",
      "source": [
        "sample.quantile([0.25,0.5,0.75])"
      ],
      "outputs": [
        {
          "output_type": "execute_result",
          "execution_count": 7,
          "data": {
            "text/plain": [
              "0.25    3.6175\n",
              "0.50    6.1200\n",
              "0.75    9.7275\n",
              "Name: Adj Close, dtype: float64"
            ]
          },
          "metadata": {}
        }
      ],
      "execution_count": 7,
      "metadata": {
        "collapsed": false,
        "outputHidden": false,
        "inputHidden": false
      }
    },
    {
      "cell_type": "markdown",
      "source": [
        "Range is a measure of variability. The difference between the largest values and smallest value."
      ],
      "metadata": {}
    },
    {
      "cell_type": "code",
      "source": [
        "print('Range: ', sample.max()-sample.min())"
      ],
      "outputs": [
        {
          "output_type": "stream",
          "name": "stdout",
          "text": [
            "Range:  31.1\n"
          ]
        }
      ],
      "execution_count": 8,
      "metadata": {
        "collapsed": false,
        "outputHidden": false,
        "inputHidden": false
      }
    },
    {
      "cell_type": "markdown",
      "source": [
        "Interquartile is a measure of variability. The difference between the third and first quartiles."
      ],
      "metadata": {}
    },
    {
      "cell_type": "code",
      "source": [
        "from scipy.stats import iqr\n",
        "\n",
        "print('Interquartile range (IQR): ', iqr(sample))"
      ],
      "outputs": [
        {
          "output_type": "stream",
          "name": "stdout",
          "text": [
            "Interquartile range (IQR):  6.11\n"
          ]
        }
      ],
      "execution_count": 9,
      "metadata": {
        "collapsed": false,
        "outputHidden": false,
        "inputHidden": false
      }
    },
    {
      "cell_type": "code",
      "source": [
        "#75th percentile\n",
        "q3 = sample.quantile(0.75)\n",
        "q3"
      ],
      "outputs": [
        {
          "output_type": "execute_result",
          "execution_count": 10,
          "data": {
            "text/plain": [
              "9.7275000000000009"
            ]
          },
          "metadata": {}
        }
      ],
      "execution_count": 10,
      "metadata": {
        "collapsed": false,
        "outputHidden": false,
        "inputHidden": false
      }
    },
    {
      "cell_type": "code",
      "source": [
        "#25th percentile\n",
        "q1 = sample.quantile(0.25)\n",
        "q1"
      ],
      "outputs": [
        {
          "output_type": "execute_result",
          "execution_count": 11,
          "data": {
            "text/plain": [
              "3.6174999999999997"
            ]
          },
          "metadata": {}
        }
      ],
      "execution_count": 11,
      "metadata": {
        "collapsed": false,
        "outputHidden": false,
        "inputHidden": false
      }
    },
    {
      "cell_type": "code",
      "source": [
        "#interquartile range\n",
        "IQR = q3  - q1\n",
        "IQR"
      ],
      "outputs": [
        {
          "output_type": "execute_result",
          "execution_count": 12,
          "data": {
            "text/plain": [
              "6.1100000000000012"
            ]
          },
          "metadata": {}
        }
      ],
      "execution_count": 12,
      "metadata": {
        "collapsed": false,
        "outputHidden": false,
        "inputHidden": false
      }
    },
    {
      "cell_type": "markdown",
      "source": [
        "Harmonic Mean is also a mathematical average but is limited in its application."
      ],
      "metadata": {}
    },
    {
      "cell_type": "code",
      "source": [
        "print('Sample Harmonifc Mean: ', stats.hmean(sample))"
      ],
      "outputs": [
        {
          "output_type": "stream",
          "name": "stdout",
          "text": [
            "Sample Harmonifc Mean:  4.79047881844\n"
          ]
        }
      ],
      "execution_count": 13,
      "metadata": {
        "collapsed": false,
        "outputHidden": false,
        "inputHidden": false
      }
    },
    {
      "cell_type": "code",
      "source": [
        "plt.boxplot(sample)\n",
        "plt.show()"
      ],
      "outputs": [
        {
          "output_type": "display_data",
          "data": {
            "text/plain": [
              "<Figure size 432x288 with 1 Axes>"
            ],
            "image/png": "[encoded data removed]"
          },
          "metadata": {}
        }
      ],
      "execution_count": 14,
      "metadata": {
        "collapsed": false,
        "outputHidden": false,
        "inputHidden": false
      }
    },
    {
      "cell_type": "code",
      "source": [
        "# calculate summary statistics\n",
        "data_mean, data_std = sample.mean(), sample.std()\n",
        "# identify outliers\n",
        "cut_off = data_std * 3\n",
        "lower, upper = data_mean - cut_off, data_mean + cut_off\n",
        "# identify outliers\n",
        "outliers = [x for x in sample if x < lower or x > upper]\n",
        "print('Identified outliers: %d' % len(outliers))\n",
        "# remove outliers\n",
        "outliers_removed = [x for x in sample if x >= lower and x <= upper]\n",
        "print('Non-outlier observations: %d' % len(outliers_removed))"
      ],
      "outputs": [
        {
          "output_type": "stream",
          "name": "stdout",
          "text": [
            "Identified outliers: 44\n",
            "Non-outlier observations: 2976\n"
          ]
        }
      ],
      "execution_count": 15,
      "metadata": {
        "collapsed": false,
        "outputHidden": false,
        "inputHidden": false
      }
    },
    {
      "cell_type": "code",
      "source": [
        "from numpy import percentile\n",
        "\n",
        "q25, q75 = percentile(sample, 25), percentile(sample, 75)\n",
        "iqr = q75 - q25\n",
        "print('Percentiles: 25th=%.3f, 75th=%.3f, IQR=%.3f' % (q25, q75, iqr))\n",
        "# calculate the outlier cutoff\n",
        "cut_off = iqr * 1.5\n",
        "lower, upper = q25 - cut_off, q75 + cut_off\n",
        "# identify outliers\n",
        "outliers = [x for x in sample if x < lower or x > upper]\n",
        "print('Identified outliers: %d' % len(outliers))\n",
        "# remove outliers\n",
        "outliers_removed = [x for x in sample if x >= lower and x <= upper]\n",
        "print('Non-outlier observations: %d' % len(outliers_removed))"
      ],
      "outputs": [
        {
          "output_type": "stream",
          "name": "stdout",
          "text": [
            "Percentiles: 25th=3.617, 75th=9.728, IQR=6.110\n",
            "Identified outliers: 97\n",
            "Non-outlier observations: 2923\n"
          ]
        }
      ],
      "execution_count": 16,
      "metadata": {
        "collapsed": false,
        "outputHidden": false,
        "inputHidden": false
      }
    },
    {
      "cell_type": "code",
      "source": [
        "print('Skewness: ', sample.skew())"
      ],
      "outputs": [
        {
          "output_type": "stream",
          "name": "stdout",
          "text": [
            "Skewness:  1.56889940428\n"
          ]
        }
      ],
      "execution_count": 17,
      "metadata": {
        "collapsed": false,
        "outputHidden": false,
        "inputHidden": false
      }
    },
    {
      "cell_type": "code",
      "source": [
        "print('Five-number Summary: ')\n",
        "print(sample.describe())"
      ],
      "outputs": [
        {
          "output_type": "stream",
          "name": "stdout",
          "text": [
            "Five-number Summary: \n",
            "count    3020.000000\n",
            "mean        7.307851\n",
            "std         5.037851\n",
            "min         1.620000\n",
            "25%         3.617500\n",
            "50%         6.120000\n",
            "75%         9.727500\n",
            "max        32.720000\n",
            "Name: Adj Close, dtype: float64\n"
          ]
        }
      ],
      "execution_count": 18,
      "metadata": {
        "collapsed": false,
        "outputHidden": false,
        "inputHidden": false
      }
    },
    {
      "cell_type": "markdown",
      "source": [
        "Z-score is a standardized value and denote the number of standard deviations from the mean. "
      ],
      "metadata": {}
    },
    {
      "cell_type": "code",
      "source": [
        "from scipy import stats\n",
        "\n",
        "print('Z-scores:')\n",
        "stats.zscore(sample)"
      ],
      "outputs": [
        {
          "output_type": "stream",
          "name": "stdout",
          "text": [
            "Z-scores:\n"
          ]
        },
        {
          "output_type": "execute_result",
          "execution_count": 19,
          "data": {
            "text/plain": [
              "array([ 2.42448046,  2.47808361,  2.4622012 , ...,  2.02146414,\n",
              "        2.08697911,  2.21403844])"
            ]
          },
          "metadata": {}
        }
      ],
      "execution_count": 19,
      "metadata": {
        "collapsed": false,
        "outputHidden": false,
        "inputHidden": false
      }
    },
    {
      "cell_type": "markdown",
      "source": [
        "Coefficient of variation is a measure of relative variability computed by dividing the standard deviation by the mean and multiplying by 100. "
      ],
      "metadata": {}
    },
    {
      "cell_type": "code",
      "source": [
        "print('Coefficient of variation:')\n",
        "stats.variation(sample)"
      ],
      "outputs": [
        {
          "output_type": "stream",
          "name": "stdout",
          "text": [
            "Coefficient of variation:\n"
          ]
        },
        {
          "output_type": "execute_result",
          "execution_count": 20,
          "data": {
            "text/plain": [
              "0.68926102788890209"
            ]
          },
          "metadata": {}
        }
      ],
      "execution_count": 20,
      "metadata": {
        "collapsed": false,
        "outputHidden": false,
        "inputHidden": false
      }
    },
    {
      "cell_type": "code",
      "source": [
        "fig1, ax1 = plt.subplots()\n",
        "ax1.set_title('Sample Box plot')\n",
        "ax1.boxplot(sample)"
      ],
      "outputs": [
        {
          "output_type": "execute_result",
          "execution_count": 21,
          "data": {
            "text/plain": [
              "{'boxes': [<matplotlib.lines.Line2D at 0x1619a737898>],\n",
              " 'caps': [<matplotlib.lines.Line2D at 0x1619a73c390>,\n",
              "  <matplotlib.lines.Line2D at 0x1619a73c7f0>],\n",
              " 'fliers': [<matplotlib.lines.Line2D at 0x1619a7410b8>],\n",
              " 'means': [],\n",
              " 'medians': [<matplotlib.lines.Line2D at 0x1619a73cc18>],\n",
              " 'whiskers': [<matplotlib.lines.Line2D at 0x1619a7379e8>,\n",
              "  <matplotlib.lines.Line2D at 0x1619a737ef0>]}"
            ]
          },
          "metadata": {}
        },
        {
          "output_type": "display_data",
          "data": {
            "text/plain": [
              "<Figure size 432x288 with 1 Axes>"
            ],
            "image/png": "[encoded data removed]"
          },
          "metadata": {}
        }
      ],
      "execution_count": 21,
      "metadata": {
        "collapsed": false,
        "outputHidden": false,
        "inputHidden": false
      }
    },
    {
      "cell_type": "code",
      "source": [
        "red_square = dict(markerfacecolor='r', marker='s')\n",
        "fig5, ax5 = plt.subplots()\n",
        "ax5.set_title('Horizontal Boxes')\n",
        "ax5.boxplot(sample, vert=False, flierprops=red_square)"
      ],
      "outputs": [
        {
          "output_type": "execute_result",
          "execution_count": 22,
          "data": {
            "text/plain": [
              "{'boxes': [<matplotlib.lines.Line2D at 0x1619a77b6a0>],\n",
              " 'caps': [<matplotlib.lines.Line2D at 0x1619a780160>,\n",
              "  <matplotlib.lines.Line2D at 0x1619a7805c0>],\n",
              " 'fliers': [<matplotlib.lines.Line2D at 0x1619a780e80>],\n",
              " 'means': [],\n",
              " 'medians': [<matplotlib.lines.Line2D at 0x1619a780a20>],\n",
              " 'whiskers': [<matplotlib.lines.Line2D at 0x1619a77b7f0>,\n",
              "  <matplotlib.lines.Line2D at 0x1619a77bcf8>]}"
            ]
          },
          "metadata": {}
        },
        {
          "output_type": "display_data",
          "data": {
            "text/plain": [
              "<Figure size 432x288 with 1 Axes>"
            ],
            "image/png": "[encoded data removed]"
          },
          "metadata": {}
        }
      ],
      "execution_count": 22,
      "metadata": {
        "collapsed": false,
        "outputHidden": false,
        "inputHidden": false
      }
    },
    {
      "cell_type": "code",
      "source": [
        "print('Empirical rule:')\n",
        "final_list = [x for x in sample if (x > sample.mean() - 2 * sample.std())]\n",
        "final_list = [x for x in final_list if (x < sample.mean() + 2 * sample.std())]\n",
        "print(final_list)"
      ],
      "outputs": [
        {
          "output_type": "stream",
          "name": "stdout",
          "text": [
            "Empirical rule:\n",
            "[16.03, 16.05, 16.22, 15.95, 15.79, 15.55, 15.77, 15.69, 15.6, 15.32, 15.5, 15.13, 14.9, 14.69, 14.6, 14.95, 14.83, 14.94, 14.92, 14.56, 14.54, 14.69, 15.68, 15.08, 15.07, 14.79, 14.18, 13.95, 14.09, 14.1, 14.19, 14.2, 14.17, 13.94, 14.13, 13.93, 14.01, 13.72, 13.41, 13.6, 13.35, 13.5, 13.55, 13.5, 13.38, 13.08, 13.06, 12.83, 12.9, 12.71, 12.86, 13.35, 13.27, 13.19, 13.66, 13.57, 13.52, 13.47, 13.91, 14.28, 14.16, 14.04, 14.57, 14.65, 14.5, 14.32, 13.82, 13.54, 13.63, 13.69, 13.53, 13.28, 13.18, 13.57, 14.05, 14.68, 15.36, 15.4, 15.58, 15.43, 15.59, 15.43, 15.42, 15.21, 14.88, 14.76, 14.6, 14.37, 14.27, 14.31, 14.17, 13.98, 13.63, 13.68, 14.07, 13.91, 13.8, 13.96, 13.78, 13.63, 13.51, 13.57, 13.64, 14.72, 14.57, 14.28, 14.18, 14.58, 14.49, 14.3, 14.36, 14.36, 14.19, 14.39, 14.57, 14.43, 14.65, 15.36, 15.43, 15.72, 15.84, 15.46, 15.78, 15.5, 15.36, 15.21, 15.58, 14.73, 13.87, 13.79, 13.54, 13.41, 13.4, 12.85, 12.77, 12.63, 13.42, 13.08, 13.01, 12.84, 12.54, 11.95, 11.64, 11.89, 12.1, 12.17, 12.01, 12.06, 12.13, 11.98, 11.66, 12.3, 12.42, 13.0, 13.17, 12.9, 12.94, 12.61, 12.94, 12.97, 12.83, 12.73, 12.69, 12.84, 13.3, 13.1, 13.35, 13.24, 13.48, 13.81, 13.75, 13.28, 13.2, 13.23, 13.2, 13.23, 13.35, 13.63, 13.63, 13.79, 14.02, 13.8, 13.94, 13.98, 13.96, 14.11, 14.55, 13.8, 13.75, 13.73, 13.12, 12.75, 12.89, 12.88, 13.0, 13.08, 12.8, 13.17, 13.42, 13.43, 13.01, 12.51, 12.37, 11.95, 12.4, 12.28, 12.7, 12.64, 12.07, 11.28, 10.83, 10.78, 10.27, 10.15, 10.35, 10.14, 9.76, 9.66, 9.25, 8.91, 9.07, 9.05, 9.18, 9.07, 8.97, 8.84, 8.43, 7.95, 7.68, 7.98, 7.97, 7.79, 7.77, 7.77, 7.53, 7.32, 7.5, 7.14, 6.77, 6.25, 6.08, 6.0, 5.53, 5.96, 6.25, 6.41, 6.12, 6.57, 6.34, 7.07, 6.83, 7.56, 7.58, 7.15, 7.46, 7.61, 7.61, 7.59, 8.0, 7.92, 7.21, 6.74, 6.59, 6.34, 6.28, 6.41, 6.7, 6.53, 6.45, 6.5, 6.83, 6.96, 6.71, 6.97, 7.13, 7.28, 7.02, 7.21, 6.76, 6.76, 6.84, 6.49, 6.49, 6.16, 6.48, 6.43, 6.73, 6.38, 6.34, 6.39, 6.15, 6.11, 6.21, 6.3, 6.22, 6.16, 5.91, 5.89, 6.07, 6.19, 6.26, 6.23, 6.34, 6.03, 6.26, 6.27, 6.01, 5.86, 5.78, 6.07, 6.19, 6.11, 6.14, 5.96, 5.92, 6.03, 6.06, 6.0, 6.02, 5.96, 6.22, 6.16, 6.53, 7.12, 6.91, 6.93, 6.94, 7.16, 7.19, 7.16, 7.41, 7.26, 7.1, 7.12, 7.08, 7.07, 6.88, 6.92, 6.82, 6.77, 6.88, 6.8, 6.81, 7.19, 7.78, 7.43, 7.68, 7.43, 6.96, 7.14, 7.52, 7.71, 7.72, 7.29, 7.33, 6.99, 6.55, 6.24, 6.43, 6.13, 5.95, 5.83, 5.65, 5.44, 5.3, 5.38, 5.53, 5.06, 4.96, 4.84, 4.82, 4.72, 5.06, 5.3, 4.65, 4.59, 4.41, 4.67, 4.37, 4.36, 4.19, 4.21, 4.23, 4.21, 4.28, 4.48, 4.6, 4.8, 5.03, 5.13, 5.11, 5.21, 5.15, 5.3, 5.64, 5.91, 5.58, 5.7, 5.76, 5.81, 5.93, 5.93, 6.07, 6.25, 6.29, 6.34, 6.15, 5.84, 5.96, 6.07, 5.77, 5.78, 5.71, 5.75, 5.18, 5.26, 4.9, 5.3, 5.42, 4.99, 4.94, 4.88, 5.23, 5.16, 4.29, 5.25, 4.74, 4.14, 4.53, 4.23, 4.59, 4.05, 4.04, 3.81, 4.21, 4.27, 3.91, 4.12, 4.21, 4.11, 3.91, 3.62, 3.28, 3.03, 2.94, 2.84, 2.98, 3.56, 3.5, 3.61, 3.8, 3.55, 3.17, 3.16, 3.04, 2.96, 2.57, 2.7, 2.43, 2.5, 2.5, 2.12, 1.91, 1.82, 1.86, 1.8, 2.13, 2.36, 2.0, 2.03, 2.2, 2.08, 2.13, 2.1, 2.27, 2.2, 2.2, 2.28, 2.21, 2.25, 2.29, 2.23, 2.27, 2.02, 1.96, 1.99, 2.18, 2.1, 2.21, 2.16, 2.38, 2.67, 2.78, 2.66, 2.74, 2.69, 2.52, 2.38, 2.15, 2.26, 2.29, 2.0, 2.25, 2.02, 2.07, 2.01, 2.14, 2.35, 2.2, 2.19, 2.15, 2.21, 2.27, 2.36, 2.41, 2.36, 2.11, 2.15, 2.28, 2.42, 2.37, 2.2, 2.12, 2.03, 2.02, 2.12, 2.22, 2.09, 2.18, 2.01, 2.07, 2.3, 2.16, 2.14, 2.14, 2.32, 2.31, 2.4, 2.52, 2.48, 2.76, 2.97, 2.96, 2.67, 3.02, 3.14, 3.17, 3.56, 3.37, 3.19, 3.05, 3.02, 3.16, 3.43, 3.53, 3.44, 3.68, 3.75, 3.61, 3.63, 3.44, 3.57, 3.56, 3.31, 3.36, 3.33, 3.53, 3.51, 3.47, 3.41, 3.51, 3.61, 3.82, 4.26, 4.32, 4.31, 4.01, 3.93, 4.22, 4.35, 4.38, 4.24, 4.01, 4.14, 4.39, 4.5, 4.34, 4.26, 4.53, 4.71, 4.7, 4.54, 4.73, 4.56, 4.48, 4.65, 4.63, 4.61, 4.75, 4.82, 4.7, 4.47, 4.26, 4.13, 4.08, 3.85, 3.87, 3.62, 3.55, 3.66, 3.64, 3.62, 3.72, 3.87, 3.91, 3.78, 3.55, 3.43, 3.36, 3.48, 3.49, 3.56, 3.55, 3.86, 3.92, 4.0, 4.17, 4.08, 3.55, 3.59, 3.77, 3.8, 3.77, 3.71, 3.66, 3.66, 3.74, 3.76, 3.75, 3.71, 3.7, 3.68, 3.59, 3.59, 3.68, 3.69, 3.55, 3.56, 3.52, 3.52, 3.7, 4.0, 4.02, 4.06, 4.23, 4.47, 4.36, 4.22, 4.28, 4.53, 4.53, 5.19, 5.2, 5.38, 5.68, 5.72, 5.88, 5.69, 5.67, 5.7, 5.81, 6.08, 6.02, 5.66, 5.83, 5.94, 5.78, 5.66, 5.39, 5.31, 5.54, 5.64, 5.54, 5.51, 5.88, 6.14, 6.08, 6.25, 6.19, 5.74, 5.87, 5.98, 5.77, 5.83, 5.6, 5.42, 5.15, 4.85, 4.93, 4.6, 4.6, 4.64, 4.69, 4.83, 5.04, 5.21, 5.14, 5.32, 6.48, 6.53, 6.43, 6.62, 7.32, 7.05, 6.95, 7.0, 6.95, 7.11, 6.85, 7.01, 7.2, 7.3, 8.03, 7.86, 8.52, 8.67, 8.71, 8.58, 8.64, 8.68, 8.82, 9.15, 9.12, 9.05, 9.53, 9.43, 9.67, 9.91, 9.83, 9.75, 9.72, 9.68, 9.7, 9.71, 9.57, 9.47, 9.43, 9.14, 8.65, 9.15, 9.0, 8.84, 9.01, 8.87, 8.99, 7.88, 8.07, 8.09, 8.19, 7.88, 7.46, 7.98, 7.91, 7.81, 7.19, 7.35, 7.42, 7.54, 7.64, 7.84, 7.87, 8.06, 8.03, 7.95, 7.93, 7.9, 7.79, 8.05, 7.89, 7.91, 8.21, 8.38, 8.35, 8.5, 8.61, 8.64, 8.63, 8.92, 8.95, 8.93, 8.92, 9.4, 9.67, 9.39, 9.11, 9.31, 9.45, 9.23, 9.03, 9.02, 9.11, 9.27, 9.27, 9.37, 9.53, 9.35, 9.66, 9.42, 9.3, 9.42, 9.56, 9.89, 10.16, 9.81, 9.58, 9.77, 9.78, 9.86, 9.76, 9.97, 9.58, 9.55, 9.72, 9.07, 9.29, 8.68, 8.58, 8.27, 8.38, 8.99, 9.07, 9.49, 9.42, 8.8, 8.85, 8.42, 8.47, 8.09, 8.4, 8.09, 8.15, 8.22, 8.8, 8.57, 8.14, 8.54, 8.69, 8.11, 7.71, 7.77, 7.61, 8.01, 8.12, 8.28, 8.82, 8.9, 8.91, 8.83, 8.8, 8.58, 8.56, 8.13, 8.09, 8.05, 7.48, 7.32, 7.39, 7.17, 7.04, 7.39, 7.37, 7.34, 7.36, 7.52, 7.44, 7.41, 7.37, 7.44, 7.6, 7.4, 7.61, 7.82, 8.07, 8.21, 7.98, 7.78, 7.49, 7.65, 7.51, 7.52, 7.5, 7.45, 7.42, 6.83, 6.49, 6.57, 6.49, 6.62, 6.63, 6.57, 6.42, 6.25, 6.14, 5.99, 6.13, 5.87, 6.08, 5.78, 5.61, 5.76, 5.93, 6.09, 5.95, 5.83, 5.86, 5.81, 6.18, 6.27, 6.22, 6.15, 6.12, 6.09, 6.17, 6.26, 6.4, 6.84, 7.02, 6.95, 7.28, 7.11, 7.05, 6.94, 6.98, 6.86, 6.87, 7.05, 7.24, 7.3, 7.22, 7.14, 7.12, 6.96, 6.95, 6.82, 6.89, 6.89, 7.26, 7.2, 7.35, 7.63, 7.34, 7.36, 7.54, 7.64, 8.0, 8.04, 8.14, 7.91, 7.75, 7.63, 7.63, 7.57, 7.43, 7.33, 7.35, 7.47, 7.41, 7.32, 7.62, 7.55, 7.38, 7.29, 7.51, 7.54, 7.65, 7.82, 8.02, 8.17, 7.95, 8.07, 8.23, 8.05, 8.02, 8.03, 8.1, 8.24, 8.14, 8.11, 8.04, 8.05, 8.09, 8.08, 8.14, 8.18, 8.47, 8.77, 8.91, 8.69, 8.83, 9.19, 8.36, 8.39, 8.26, 8.2, 8.1, 7.93, 8.02, 7.54, 7.68, 7.48, 7.49, 7.75, 7.49, 7.83, 8.22, 8.29, 8.33, 8.4, 8.33, 8.24, 8.23, 8.22, 8.28, 8.63, 8.6, 8.99, 9.44, 9.18, 8.85, 8.55, 9.1, 9.29, 9.21, 9.03, 9.17, 9.28, 9.23, 8.84, 8.99, 8.67, 8.42, 8.65, 8.43, 8.28, 8.12, 8.31, 8.55, 8.55, 8.36, 8.59, 8.83, 8.88, 8.69, 8.68, 8.79, 8.6, 8.36, 8.1, 8.11, 8.43, 8.41, 8.47, 8.42, 8.26, 8.2, 8.19, 8.27, 8.2, 8.27, 8.63, 8.71, 8.7, 8.88, 8.95, 9.07, 9.1, 9.03, 8.8, 8.79, 8.87, 8.92, 8.94, 8.94, 8.88, 8.93, 8.9, 8.67, 8.54, 8.67, 8.64, 8.62, 8.49, 8.39, 8.43, 8.48, 8.49, 8.68, 8.37, 8.24, 7.97, 7.8, 7.71, 7.62, 7.64, 7.59, 7.54, 7.67, 7.5, 7.19, 7.0, 6.89, 7.22, 7.06, 7.06, 6.9, 6.92, 6.95, 6.89, 6.99, 7.11, 7.14, 7.0, 7.15, 6.95, 6.76, 6.43, 6.48, 6.44, 6.43, 6.18, 6.48, 6.6, 6.5, 7.75, 7.63, 7.66, 7.51, 7.42, 7.34, 7.22, 7.11, 7.16, 6.5, 6.56, 5.94, 6.18, 5.85, 6.17, 6.21, 6.43, 6.34, 6.14, 5.79, 5.98, 6.05, 6.5, 6.34, 6.37, 6.49, 6.83, 6.84, 6.83, 6.68, 6.32, 6.27, 6.76, 6.81, 6.52, 6.71, 6.96, 7.21, 7.34, 7.2, 6.92, 6.74, 6.48, 6.12, 6.17, 6.4, 6.49, 6.15, 5.31, 5.08, 4.53, 4.72, 4.83, 4.85, 4.73, 4.84, 4.86, 4.93, 4.97, 4.92, 4.67, 4.83, 4.73, 4.54, 4.72, 5.06, 4.91, 5.1, 5.54, 5.94, 5.83, 5.3, 5.46, 5.73, 5.67, 5.68, 5.75, 5.38, 5.66, 5.95, 5.79, 5.76, 5.68, 5.44, 5.47, 5.42, 5.3, 5.05, 4.99, 5.3, 5.32, 5.69, 5.7, 5.65, 5.76, 5.66, 5.72, 5.47, 5.54, 5.3, 5.18, 5.07, 5.04, 5.13, 4.86, 5.19, 5.08, 5.45, 5.41, 5.38, 5.28, 5.34, 5.4, 5.48, 5.46, 5.46, 5.43, 5.59, 5.71, 5.81, 5.82, 5.66, 5.73, 5.97, 6.22, 6.42, 6.52, 6.53, 6.73, 6.77, 6.82, 6.74, 6.71, 6.9, 6.93, 7.08, 6.92, 7.13, 7.25, 7.24, 7.05, 7.29, 7.32, 7.3, 7.59, 7.42, 7.28, 7.14, 7.29, 7.46, 7.47, 7.52, 7.35, 7.51, 7.46, 7.07, 6.9, 7.17, 7.47, 7.58, 7.5, 7.76, 7.76, 8.25, 8.2, 8.18, 8.06, 8.04, 8.03, 8.09, 8.24, 8.19, 8.08, 8.12, 8.02, 8.2, 7.98, 7.81, 7.87, 7.75, 7.53, 7.64, 7.92, 7.73, 7.7, 7.94, 7.97, 7.97, 7.76, 7.39, 7.31, 7.39, 7.45, 7.33, 7.36, 7.59, 7.63, 7.41, 7.18, 7.18, 7.03, 6.86, 6.78, 6.78, 6.75, 6.6, 6.39, 6.13, 6.01, 6.3, 6.16, 6.08, 6.02, 6.22, 6.46, 6.15, 6.08, 5.73, 5.63, 5.83, 6.02, 5.76, 5.91, 5.69, 5.91, 5.76, 5.76, 5.87, 5.93, 5.81, 6.06, 5.72, 5.73, 5.41, 5.44, 5.5, 5.41, 5.73, 5.75, 6.03, 5.88, 5.75, 5.62, 4.99, 4.89, 4.88, 4.9, 4.83, 4.87, 4.89, 4.86, 4.22, 4.15, 4.06, 4.01, 4.04, 4.09, 4.1, 4.06, 4.05, 3.97, 4.09, 4.01, 4.02, 4.4, 4.37, 4.34, 4.26, 4.12, 4.19, 4.17, 4.1, 4.09, 4.07, 4.01, 3.9, 3.94, 3.85, 3.79, 3.77, 3.7, 3.72, 3.64, 3.51, 3.66, 3.45, 3.47, 3.75, 3.89, 3.92, 3.9, 4.01, 3.62, 3.66, 3.59, 3.6, 3.46, 3.28, 3.32, 3.43, 3.37, 3.28, 3.27, 3.12, 3.22, 3.22, 3.19, 3.25, 3.15, 3.2, 2.74, 2.75, 2.68, 2.77, 2.62, 2.18, 2.1, 2.14, 2.08, 2.12, 2.07, 2.05, 2.14, 2.1, 2.11, 2.07, 2.01, 1.98, 2.03, 1.99, 2.09, 1.93, 1.87, 1.86, 1.92, 1.88, 1.87, 1.95, 1.87, 1.88, 1.96, 2.04, 2.2, 2.36, 2.26, 2.29, 2.34, 2.36, 2.32, 2.33, 2.37, 2.41, 2.39, 2.46, 2.52, 2.52, 2.4, 2.59, 2.48, 2.43, 2.39, 2.28, 2.4, 2.53, 2.49, 2.59, 2.67, 2.67, 2.63, 2.62, 2.67, 2.64, 2.68, 2.72, 2.74, 2.46, 2.45, 2.73, 2.79, 2.85, 2.82, 2.74, 2.65, 2.6, 2.6, 2.52, 2.6, 2.6, 2.57, 2.59, 2.67, 2.77, 2.75, 2.75, 2.71, 2.82, 2.7, 2.6, 2.61, 2.53, 2.46, 2.53, 2.49, 2.42, 2.4, 2.43, 2.43, 2.55, 2.56, 2.59, 2.61, 2.6, 2.63, 2.6, 2.65, 2.67, 2.75, 2.64, 2.54, 2.51, 2.54, 2.55, 2.55, 2.44, 2.39, 2.32, 2.33, 2.29, 2.59, 2.63, 2.61, 2.52, 2.48, 2.4, 2.44, 2.4, 2.51, 2.47, 2.46, 2.53, 2.61, 2.68, 2.64, 2.68, 2.82, 3.22, 3.41, 3.6, 3.61, 3.54, 3.83, 3.86, 3.95, 4.17, 4.26, 4.38, 3.83, 4.07, 4.1, 4.02, 3.96, 4.01, 4.05, 4.05, 3.98, 4.04, 4.0, 3.96, 4.01, 3.91, 3.94, 3.91, 4.06, 3.96, 3.9, 3.95, 3.94, 4.05, 4.09, 4.07, 3.87, 4.0, 4.05, 4.15, 4.14, 4.08, 4.08, 4.1, 3.97, 4.06, 4.07, 4.0, 4.05, 3.98, 4.45, 4.32, 4.4, 4.43, 4.38, 4.64, 4.03, 3.9, 3.66, 3.63, 3.7, 3.82, 3.75, 3.82, 3.77, 3.81, 3.8, 3.82, 3.72, 3.69, 3.71, 3.65, 3.65, 3.69, 3.82, 3.69, 3.66, 3.6, 3.63, 3.61, 3.63, 3.65, 3.58, 3.39, 3.42, 3.38, 3.27, 3.27, 3.31, 3.41, 3.57, 3.69, 3.87, 3.82, 3.75, 3.83, 3.82, 3.85, 3.93, 3.95, 3.83, 3.79, 3.8, 3.91, 3.89, 3.86, 3.81, 3.86, 3.9, 3.9, 3.91, 3.86, 3.72, 3.65, 3.79, 3.83, 3.97, 4.02, 4.09, 4.09, 3.53, 3.37, 3.18, 3.14, 3.23, 3.34, 3.32, 3.33, 3.3, 3.34, 3.31, 3.32, 3.33, 3.32, 3.28, 3.27, 3.34, 3.44, 3.54, 3.52, 3.5, 3.47, 3.42, 3.42, 3.37, 3.34, 3.39, 3.45, 3.56, 3.64, 3.66, 3.62, 3.57, 3.64, 3.66, 3.63, 3.72, 3.68, 3.69, 3.69, 3.59, 3.65, 3.65, 3.65, 3.69, 3.75, 3.77, 3.8, 3.78, 3.85, 3.87, 3.95, 4.0, 4.13, 4.18, 4.18, 4.09, 4.17, 4.13, 4.3, 4.47, 4.38, 4.18, 4.17, 3.67, 3.62, 3.47, 3.41, 3.54, 3.48, 3.48, 3.43, 3.33, 3.37, 3.31, 3.41, 3.47, 3.63, 3.7, 3.69, 3.7, 3.69, 3.7, 3.72, 3.69, 3.69, 3.71, 3.69, 3.7, 3.71, 3.71, 3.67, 3.7, 3.71, 3.73, 3.95, 3.81, 3.85, 3.91, 3.86, 3.85, 3.8, 3.89, 3.98, 4.05, 4.04, 4.05, 4.05, 4.05, 3.91, 3.88, 4.01, 4.07, 4.06, 4.0, 4.01, 3.88, 3.99, 3.98, 3.85, 3.65, 3.71, 3.79, 3.76, 3.69, 4.12, 4.3, 4.25, 4.28, 4.05, 3.96, 4.03, 4.09, 4.2, 4.12, 4.09, 4.01, 3.97, 3.93, 3.87, 3.97, 4.03, 3.98, 3.96, 4.02, 4.09, 4.05, 4.1, 4.01, 4.02, 4.04, 4.0, 4.03, 4.0, 3.97, 3.94, 4.04, 4.08, 4.06, 4.07, 4.2, 4.29, 4.29, 4.28, 4.44, 4.47, 4.4, 4.36, 4.1, 4.01, 3.94, 3.96, 4.03, 4.11, 4.19, 4.22, 4.34, 4.24, 4.26, 4.22, 4.23, 4.29, 4.37, 4.64, 4.53, 4.66, 4.57, 3.83, 3.78, 3.8, 3.76, 3.73, 3.76, 3.73, 3.79, 3.82, 3.91, 3.97, 4.0, 4.08, 4.12, 4.1, 4.12, 4.14, 4.08, 4.11, 4.08, 4.13, 4.21, 4.27, 4.28, 4.24, 4.25, 4.18, 4.19, 4.16, 4.14, 4.17, 4.16, 4.19, 4.15, 4.15, 4.13, 4.08, 4.08, 4.08, 3.96, 3.91, 3.81, 3.82, 3.88, 3.81, 3.76, 3.69, 3.7, 3.63, 3.6, 3.55, 3.41, 3.35, 3.39, 3.4, 3.36, 3.28, 3.28, 2.95, 2.72, 2.74, 2.62, 2.61, 2.64, 2.72, 2.67, 2.77, 2.64, 2.69, 2.68, 2.66, 2.72, 2.77, 2.75, 2.8, 2.87, 2.83, 2.8, 2.76, 2.78, 2.76, 2.73, 2.71, 2.66, 2.61, 2.67, 2.65, 2.63, 2.69, 2.77, 2.83, 2.83, 2.84, 2.79, 2.67, 2.68, 2.74, 2.69, 2.66, 2.58, 2.59, 2.48, 2.49, 2.52, 2.47, 2.5, 2.55, 2.55, 2.57, 2.66, 2.67, 2.65, 2.65, 2.66, 2.63, 2.67, 2.67, 2.66, 2.63, 2.58, 2.61, 2.63, 2.63, 2.66, 2.63, 2.52, 2.39, 2.24, 2.45, 2.47, 2.45, 2.61, 2.7, 2.63, 2.61, 2.57, 2.67, 2.76, 2.85, 3.31, 3.03, 3.04, 3.04, 3.07, 3.12, 3.15, 3.11, 3.08, 3.06, 3.06, 3.06, 3.11, 3.1, 3.08, 3.11, 3.21, 3.14, 3.05, 2.98, 2.92, 2.93, 2.92, 2.84, 2.76, 2.75, 2.76, 2.77, 2.75, 2.74, 2.8, 2.84, 2.79, 2.63, 2.65, 2.72, 2.7, 2.68, 2.69, 2.69, 2.7, 2.7, 2.71, 2.72, 2.76, 2.78, 2.67, 2.7, 2.87, 2.58, 2.49, 2.35, 2.28, 2.33, 2.3, 2.34, 2.31, 2.28, 2.26, 2.31, 2.31, 2.28, 2.29, 2.32, 2.31, 2.32, 2.35, 2.37, 2.33, 2.32, 2.35, 2.28, 2.32, 2.28, 2.28, 2.22, 2.28, 2.27, 2.28, 2.25, 2.3, 2.28, 2.33, 2.33, 2.31, 2.29, 2.32, 2.32, 2.31, 2.32, 2.35, 2.47, 2.52, 2.58, 2.62, 2.61, 2.62, 2.58, 2.47, 2.34, 2.4, 2.42, 2.53, 2.47, 2.09, 2.01, 1.98, 1.96, 1.96, 2.05, 1.96, 1.87, 1.79, 1.8, 1.8, 1.79, 1.76, 1.67, 1.62, 1.77, 1.96, 1.93, 1.93, 2.2, 2.13, 2.16, 2.11, 2.09, 1.93, 1.9, 1.9, 1.79, 1.84, 1.8, 1.8, 1.8, 1.7, 1.78, 1.75, 1.66, 1.72, 1.78, 1.85, 1.81, 1.71, 1.77, 1.79, 1.82, 1.88, 1.85, 1.84, 2.01, 1.82, 1.86, 1.89, 1.89, 1.87, 1.81, 1.73, 1.7, 1.72, 1.71, 1.66, 1.67, 1.72, 1.74, 1.83, 1.8, 1.83, 1.86, 1.93, 1.96, 1.87, 1.92, 1.95, 1.97, 1.94, 2.01, 2.02, 2.1, 2.14, 2.21, 2.15, 2.15, 2.18, 2.13, 2.12, 2.19, 2.28, 2.2, 2.2, 2.15, 2.11, 2.02, 2.07, 2.0, 1.99, 1.99, 1.98, 2.12, 2.14, 2.22, 2.22, 2.34, 2.38, 2.33, 2.36, 2.34, 2.27, 2.23, 2.28, 2.36, 2.39, 2.35, 2.45, 2.36, 2.34, 2.36, 2.54, 2.56, 2.45, 2.53, 2.77, 2.83, 2.92, 3.0, 3.0, 2.98, 2.87, 2.77, 2.75, 2.51, 2.28, 2.14, 2.34, 2.39, 2.25, 2.21, 2.03, 1.95, 1.8, 2.09, 2.02, 2.12, 2.07, 2.13, 2.08, 2.2, 2.14, 1.99, 2.07, 2.09, 1.98, 1.93, 1.9, 1.84, 1.86, 1.83, 1.83, 1.9, 1.91, 1.91, 2.01, 1.97, 2.02, 2.03, 2.07, 2.14, 2.18, 2.32, 2.46, 2.37, 2.47, 2.3, 2.26, 2.26, 2.52, 2.72, 2.49, 2.63, 2.8, 2.93, 2.8, 2.79, 2.68, 2.79, 2.78, 2.86, 2.86, 2.85, 2.83, 2.83, 2.76, 2.8, 2.64, 2.74, 2.76, 2.81, 2.8, 2.72, 2.7, 2.76, 2.62, 2.7, 2.62, 3.99, 3.45, 3.66, 3.73, 3.61, 3.55, 3.74, 3.6, 3.6, 3.66, 3.68, 3.65, 3.64, 3.65, 3.59, 3.67, 3.79, 3.79, 3.84, 3.77, 3.87, 4.04, 4.2, 4.18, 4.35, 4.6, 4.57, 4.43, 4.24, 4.16, 4.47, 4.51, 4.46, 4.52, 4.32, 4.4, 4.39, 4.42, 4.75, 5.26, 5.1, 5.45, 5.02, 5.21, 4.88, 4.72, 5.12, 5.13, 5.14, 5.07, 4.96, 5.04, 5.02, 5.1, 5.01, 5.14, 5.09, 5.17, 5.14, 5.51, 5.41, 5.41, 5.22, 5.84, 6.7, 6.98, 6.85, 6.82, 6.86, 6.64, 6.26, 6.3, 6.47, 6.61, 6.68, 6.6, 6.49, 6.58, 6.73, 6.95, 6.78, 6.68, 7.04, 7.62, 7.58, 7.67, 7.43, 7.47, 7.67, 7.59, 7.49, 7.4, 7.35, 7.51, 7.34, 6.84, 6.23, 5.9, 5.94, 5.74, 6.04, 6.02, 6.05, 6.16, 6.17, 6.29, 6.37, 6.55, 6.32, 6.54, 6.59, 6.67, 6.91, 6.95, 6.97, 6.78, 6.96, 6.75, 6.84, 6.5, 6.62, 6.49, 6.75, 6.67, 6.73, 6.77, 6.96, 6.52, 7.01, 7.5, 7.29, 7.11, 7.2, 7.23, 7.09, 6.76, 6.7, 6.56, 6.96, 7.0, 6.94, 6.3, 6.69, 6.79, 6.97, 7.67, 8.46, 8.71, 8.94, 8.69, 8.8, 8.77, 8.83, 8.93, 8.91, 8.39, 8.53, 8.68, 9.45, 9.56, 10.34, 10.34, 10.68, 10.54, 10.55, 10.86, 10.66, 10.95, 11.51, 11.47, 11.6, 11.58, 12.07, 11.55, 11.59, 11.34, 11.43, 11.43, 11.24, 11.32, 11.49, 11.44, 11.2, 10.76, 10.58, 9.82, 9.88, 9.77, 9.75, 9.91, 10.44, 10.35, 10.52, 10.67, 10.61, 10.37, 12.06, 12.28, 12.24, 13.63, 13.29, 13.56, 13.42, 13.58, 13.49, 13.26, 13.3, 12.97, 13.13, 14.0, 14.28, 14.32, 14.12, 15.2, 14.46, 14.96, 13.9, 13.03, 13.04, 13.05, 13.22, 13.33, 13.91, 14.28, 14.1, 13.98, 13.65, 13.49, 14.4, 13.82, 14.1, 13.79, 13.7, 13.7, 13.69, 13.71, 14.05, 14.55, 14.64, 14.16, 14.17, 13.27, 13.52, 13.1, 13.1, 12.76, 12.31, 12.79, 12.95, 12.84, 13.11, 13.0, 13.13, 13.49, 13.41, 13.62, 13.3, 13.62, 10.32, 10.39, 10.1, 10.19, 10.04, 10.18, 10.79, 11.07, 11.26, 11.42, 12.75, 11.2, 11.28, 11.41, 11.04, 10.89, 10.89, 10.98, 11.0, 11.12, 11.19, 10.93, 10.9, 11.24, 12.03, 12.38, 12.9, 12.28, 12.09, 11.96, 11.77, 11.5, 11.44, 11.93, 12.64, 13.98, 14.38, 14.17, 14.08, 13.4, 13.23, 12.6, 12.48, 12.15, 13.19, 13.02, 13.36, 13.81, 13.89, 14.29, 13.53, 13.92, 13.8, 13.48, 13.55, 13.8, 13.88, 14.16, 14.11, 14.76, 14.12, 13.95, 13.61, 13.71, 13.37, 13.24, 13.12, 13.43, 13.11, 12.83, 12.12, 12.23, 12.76, 13.02, 12.63, 12.34, 12.37, 12.05, 12.17, 12.48, 12.5, 12.43, 12.23, 12.15, 12.67, 13.0, 13.19, 12.92, 12.86, 12.63, 12.25, 12.55, 12.3, 12.22, 12.26, 12.52, 13.08, 13.12, 13.74, 13.41, 13.3, 12.61, 12.45, 12.74, 12.74, 12.75, 12.71, 13.42, 13.31, 13.34, 13.23, 13.47, 13.7, 13.88, 14.2, 14.22, 14.26, 14.16, 14.07, 13.95, 13.81, 14.1, 14.25, 12.33, 12.01, 11.84, 10.89, 10.99, 10.8, 10.85, 11.12, 11.93, 12.05, 11.71, 11.12, 11.26, 11.09, 11.12, 11.07, 11.25, 11.38, 11.34, 11.4, 11.37, 11.38, 11.55, 11.17, 10.83, 10.89, 10.73, 10.03, 9.91, 10.0, 10.04, 9.94, 10.16, 9.9, 10.11, 10.13, 10.29, 10.98, 10.95, 10.98, 10.89, 10.54, 10.46, 10.53, 10.55, 10.28, 10.98, 11.55, 12.12, 11.88, 12.28, 11.82, 11.96, 12.14, 12.02, 11.91, 12.18, 12.47, 12.59, 12.65, 12.94, 12.71, 12.41, 12.95, 13.32, 12.87, 13.74, 13.25, 12.45, 11.57, 11.65, 11.6, 11.22, 11.31, 11.68, 11.78, 12.2, 12.19, 11.82, 12.02, 11.72, 11.84, 12.07, 12.42, 12.53, 12.11, 11.9, 11.81, 11.91, 11.76, 12.24, 11.97, 11.7, 11.52, 11.64, 11.36, 11.46, 11.47, 11.43, 11.11, 11.26, 10.91, 10.63, 10.44, 10.0, 9.81, 10.05, 9.53, 9.55, 9.77, 10.02, 9.61, 9.53, 9.98, 9.82, 10.08, 9.93, 10.09, 10.52, 10.36, 10.11, 9.99, 10.04, 10.09, 9.71, 11.04, 11.11, 10.88, 11.13, 10.97, 10.93, 11.28, 11.59, 11.61, 11.95, 12.13, 11.95, 12.23, 12.45, 12.82, 12.82, 13.0, 12.99, 12.98, 13.1, 13.41, 13.54, 13.36, 13.82, 13.73, 14.4, 14.85, 14.85, 15.67, 14.89, 15.25, 15.73, 15.85, 16.32, 16.25, 16.34, 17.11, 16.69, 16.52, 15.65, 15.8, 15.11, 15.5, 14.97, 15.31, 14.99, 15.16, 15.0, 15.5, 16.36, 16.61, 16.55, 16.27, 16.56, 16.27, 16.58, 16.87, 16.85, 16.71, 16.5, 16.66, 16.19, 16.05, 16.85, 17.2, 16.93, 16.65]\n"
          ]
        }
      ],
      "execution_count": 23,
      "metadata": {
        "collapsed": false,
        "outputHidden": false,
        "inputHidden": false
      }
    },
    {
      "cell_type": "code",
      "source": [
        "plt.hist(final_list, 20,\n",
        "         density=True,\n",
        "         histtype='bar',\n",
        "         facecolor='b',\n",
        "         edgecolor='k',\n",
        "         alpha=0.5)\n",
        "plt.title('Empirical rule')\n",
        "plt.xlabel('Number of Sample')\n",
        "plt.ylabel('Probability')\n",
        "plt.show()"
      ],
      "outputs": [
        {
          "output_type": "display_data",
          "data": {
            "text/plain": [
              "<Figure size 432x288 with 1 Axes>"
            ],
            "image/png": "[encoded data removed]"
          },
          "metadata": {}
        }
      ],
      "execution_count": 24,
      "metadata": {
        "collapsed": false,
        "outputHidden": false,
        "inputHidden": false
      }
    },
    {
      "cell_type": "code",
      "source": [
        "mean = sample.mean()\n",
        "median = sample.median()\n",
        "mode = sample.mode()\n",
        "\n",
        "print('Mean: ',mean,'\\nMedian: ',median,'\\nMode: ',mode[0])\n",
        "plt.figure(figsize=(10,5))\n",
        "plt.hist(sample,bins=100,color='grey')\n",
        "plt.axvline(mean,color='red',label='Mean')\n",
        "plt.axvline(median,color='yellow',label='Median')\n",
        "plt.axvline(mode[0],color='green',label='Mode')\n",
        "plt.xlabel('Sample')\n",
        "plt.ylabel('Frequency')\n",
        "plt.legend()\n",
        "plt.show()"
      ],
      "outputs": [
        {
          "output_type": "stream",
          "name": "stdout",
          "text": [
            "Mean:  7.307850993377494 \n",
            "Median:  6.12 \n",
            "Mode:  2.28\n"
          ]
        },
        {
          "output_type": "display_data",
          "data": {
            "text/plain": [
              "<Figure size 720x360 with 1 Axes>"
            ],
            "image/png": "[encoded data removed]"
          },
          "metadata": {}
        }
      ],
      "execution_count": 25,
      "metadata": {
        "collapsed": false,
        "outputHidden": false,
        "inputHidden": false
      }
    },
    {
      "cell_type": "code",
      "source": [
        "import seaborn as sns\n",
        "\n",
        "sns.distplot(final_list , color=\"dodgerblue\", axlabel='Sample')"
      ],
      "outputs": [
        {
          "output_type": "execute_result",
          "execution_count": 26,
          "data": {
            "text/plain": [
              "<matplotlib.axes._subplots.AxesSubplot at 0x1619bbe2cf8>"
            ]
          },
          "metadata": {}
        },
        {
          "output_type": "display_data",
          "data": {
            "text/plain": [
              "<Figure size 432x288 with 1 Axes>"
            ],
            "image/png": "[encoded data removed]"
          },
          "metadata": {}
        }
      ],
      "execution_count": 26,
      "metadata": {
        "collapsed": false,
        "outputHidden": false,
        "inputHidden": false
      }
    },
    {
      "cell_type": "code",
      "source": [
        "#skewness\n",
        "print('Skewness:', sample.skew())"
      ],
      "outputs": [
        {
          "output_type": "stream",
          "name": "stdout",
          "text": [
            "Skewness: 1.56889940428\n"
          ]
        }
      ],
      "execution_count": 27,
      "metadata": {
        "collapsed": false,
        "outputHidden": false,
        "inputHidden": false
      }
    },
    {
      "cell_type": "code",
      "source": [
        "#kutosis\n",
        "print('Kutosis:', sample.kurt())"
      ],
      "outputs": [
        {
          "output_type": "stream",
          "name": "stdout",
          "text": [
            "Kutosis: 3.45949851138\n"
          ]
        }
      ],
      "execution_count": 28,
      "metadata": {
        "collapsed": false,
        "outputHidden": false,
        "inputHidden": false
      }
    },
    {
      "cell_type": "code",
      "source": [
        "#convert pandas DataFrame object to numpy array and sort\n",
        "h = np.asarray(sample)\n",
        "h = sorted(h)\n",
        " \n",
        "#use the scipy stats module to fit a normal distirbution with same mean and standard deviation\n",
        "fit = stats.norm.pdf(h, np.mean(h), np.std(h)) \n",
        " \n",
        "#plot both series on the histogram\n",
        "plt.plot(h,fit,'-',linewidth = 2,label=\"Normal distribution with same mean and var\")\n",
        "plt.hist(h,normed=True,bins = 100,label=\"Actual distribution\")      \n",
        "plt.legend()\n",
        "plt.show()"
      ],
      "outputs": [
        {
          "output_type": "stream",
          "name": "stderr",
          "text": [
            "C:\\Users\\Tin Hang\\Anaconda3\\envs\\py35\\lib\\site-packages\\matplotlib\\axes\\_axes.py:6462: UserWarning: The 'normed' kwarg is deprecated, and has been replaced by the 'density' kwarg.\n",
            "  warnings.warn(\"The 'normed' kwarg is deprecated, and has been \"\n"
          ]
        },
        {
          "output_type": "display_data",
          "data": {
            "text/plain": [
              "<Figure size 432x288 with 1 Axes>"
            ],
            "image/png": "[encoded data removed]"
          },
          "metadata": {}
        }
      ],
      "execution_count": 29,
      "metadata": {
        "collapsed": false,
        "outputHidden": false,
        "inputHidden": false
      }
    },
    {
      "cell_type": "code",
      "source": [
        "# Ordinary least squares\n",
        "from statsmodels.formula.api import ols\n",
        "\n",
        "mlr = ols(\"sample~Open+High+Low+Volume\", dataset).fit()\n",
        "print(mlr.summary())"
      ],
      "outputs": [
        {
          "output_type": "stream",
          "name": "stdout",
          "text": [
            "                            OLS Regression Results                            \n",
            "==============================================================================\n",
            "Dep. Variable:                 sample   R-squared:                       0.999\n",
            "Model:                            OLS   Adj. R-squared:                  0.999\n",
            "Method:                 Least Squares   F-statistic:                 1.502e+06\n",
            "Date:                Fri, 09 Aug 2019   Prob (F-statistic):               0.00\n",
            "Time:                        20:29:42   Log-Likelihood:                 2305.1\n",
            "No. Observations:                3020   AIC:                            -4600.\n",
            "Df Residuals:                    3015   BIC:                            -4570.\n",
            "Df Model:                           4                                         \n",
            "Covariance Type:            nonrobust                                         \n",
            "==============================================================================\n",
            "                 coef    std err          t      P>|t|      [0.025      0.975]\n",
            "------------------------------------------------------------------------------\n",
            "Intercept     -0.0054      0.004     -1.436      0.151      -0.013       0.002\n",
            "Open          -0.6001      0.013    -46.395      0.000      -0.625      -0.575\n",
            "High           0.8072      0.014     56.558      0.000       0.779       0.835\n",
            "Low            0.7939      0.013     62.343      0.000       0.769       0.819\n",
            "Volume     -3.217e-11   1.11e-10     -0.289      0.772    -2.5e-10    1.86e-10\n",
            "==============================================================================\n",
            "Omnibus:                      768.214   Durbin-Watson:                   2.192\n",
            "Prob(Omnibus):                  0.000   Jarque-Bera (JB):            55465.154\n",
            "Skew:                           0.070   Prob(JB):                         0.00\n",
            "Kurtosis:                      23.994   Cond. No.                     3.77e+08\n",
            "==============================================================================\n",
            "\n",
            "Warnings:\n",
            "[1] Standard Errors assume that the covariance matrix of the errors is correctly specified.\n",
            "[2] The condition number is large, 3.77e+08. This might indicate that there are\n",
            "strong multicollinearity or other numerical problems.\n"
          ]
        }
      ],
      "execution_count": 30,
      "metadata": {
        "collapsed": false,
        "outputHidden": false,
        "inputHidden": false
      }
    },
    {
      "cell_type": "code",
      "source": [
        "# One sample t-test\n",
        "from scipy.stats import ttest_1samp\n",
        "\n",
        "sample_mean = np.mean(sample)\n",
        "print(\"Sample Mean:\", sample_mean)\n",
        "tset, pval = ttest_1samp(sample, 8)\n",
        "\n",
        "print(\"p-values:\",pval)\n",
        "if pval < 0.05:    # alpha value is 0.05 or 5%\n",
        "   print(\"Rejecting null hypothesis\")\n",
        "else:\n",
        "  print(\"Accepting null hypothesis\")"
      ],
      "outputs": [
        {
          "output_type": "stream",
          "name": "stdout",
          "text": [
            "Sample Mean: 7.307850993377494\n",
            "p-values: 5.72226493771e-14\n",
            "Rejecting null hypothesis\n"
          ]
        }
      ],
      "execution_count": 31,
      "metadata": {
        "collapsed": false,
        "outputHidden": false,
        "inputHidden": false
      }
    },
    {
      "cell_type": "code",
      "source": [
        "# Two sampled T-test\n",
        "from scipy.stats import ttest_ind\n",
        "\n",
        "low_mean = np.mean(dataset['Low'])\n",
        "high_mean = np.mean(dataset['High'])\n",
        "print(\"Low mean value:\", low_mean)\n",
        "print(\"High mean value:\", high_mean)\n",
        "\n",
        "low_std = np.std(dataset['Low'])\n",
        "high_std = np.std(dataset['High'])\n",
        "print(\"week1 std value:\", low_std)\n",
        "print(\"week2 std value:\", high_std)\n",
        "\n",
        "ttest,pval = ttest_ind(dataset['Low'],dataset['High'])\n",
        "print(\"p-value:\",pval)\n",
        "\n",
        "if pval <0.05:\n",
        "  print(\"Reject null hypothesis\")\n",
        "else:\n",
        "  print(\"Accept null hypothesis\")"
      ],
      "outputs": [
        {
          "output_type": "stream",
          "name": "stdout",
          "text": [
            "Low mean value: 7.148288077152302\n",
            "High mean value: 7.472039734437109\n",
            "week1 std value: 4.91223413555167\n",
            "week2 std value: 5.157058804236294\n",
            "p-value: 0.0125284301319\n",
            "Reject null hypothesis\n"
          ]
        }
      ],
      "execution_count": 32,
      "metadata": {
        "collapsed": false,
        "outputHidden": false,
        "inputHidden": false
      }
    },
    {
      "cell_type": "code",
      "source": [
        "# Paired sampled t-test\n",
        "\n",
        "dataset[['Open','Close']].describe()\n",
        "ttest,pval = stats.ttest_rel(dataset['Open'], dataset['Close'])\n",
        "print('p-value:', pval)\n",
        "\n",
        "if pval<0.05:\n",
        "    print(\"Reject null hypothesis\")\n",
        "else:\n",
        "    print(\"Accept null hypothesis\")"
      ],
      "outputs": [
        {
          "output_type": "stream",
          "name": "stdout",
          "text": [
            "p-value: 0.0494388526567\n",
            "Reject null hypothesis\n"
          ]
        }
      ],
      "execution_count": 33,
      "metadata": {
        "collapsed": false,
        "outputHidden": false,
        "inputHidden": false
      }
    },
    {
      "cell_type": "code",
      "source": [
        "# One-sample Z test\n",
        "from scipy import stats\n",
        "from statsmodels.stats import weightstats as stests\n",
        "\n",
        "ztest ,pval = stests.ztest(sample, x2=None, value=156)\n",
        "print('p-value:',pval)\n",
        "\n",
        "if pval<0.05:\n",
        "    print(\"Reject null hypothesis\")\n",
        "else:\n",
        "    print(\"Accept null hypothesis\")"
      ],
      "outputs": [
        {
          "output_type": "stream",
          "name": "stdout",
          "text": [
            "p-value: 0.0\n",
            "Reject null hypothesis\n"
          ]
        }
      ],
      "execution_count": 34,
      "metadata": {
        "collapsed": false,
        "outputHidden": false,
        "inputHidden": false
      }
    },
    {
      "cell_type": "code",
      "source": [
        "# Two-sample Z test\n",
        "test ,pval1 = stests.ztest(dataset['High'], x2=dataset['Low'], value=0,alternative='two-sided')\n",
        "\n",
        "print('p-value:',pval)\n",
        "\n",
        "if pval<0.05:\n",
        "    print(\"Reject null hypothesis\")\n",
        "else:\n",
        "    print(\"Accept null hypothesis\")"
      ],
      "outputs": [
        {
          "output_type": "stream",
          "name": "stdout",
          "text": [
            "p-value: 0.0\n",
            "Reject null hypothesis\n"
          ]
        }
      ],
      "execution_count": 35,
      "metadata": {
        "collapsed": false,
        "outputHidden": false,
        "inputHidden": false
      }
    },
    {
      "cell_type": "code",
      "source": [
        "# One Way F-test(Anova)\n",
        "F, p = stats.f_oneway(dataset['Low'], dataset['High'], dataset['Volume'])\n",
        "\n",
        "print(\"p-value for significance is: \", p)\n",
        "\n",
        "if p<0.05:\n",
        "    print(\"Reject null hypothesis\")\n",
        "else:\n",
        "    print(\"Accept null hypothesis\")"
      ],
      "outputs": [
        {
          "output_type": "stream",
          "name": "stdout",
          "text": [
            "p-value for significance is:  0.0\n",
            "Reject null hypothesis\n"
          ]
        }
      ],
      "execution_count": 36,
      "metadata": {
        "collapsed": false,
        "outputHidden": false,
        "inputHidden": false
      }
    },
    {
      "cell_type": "code",
      "source": [
        "values = sample\n",
        "two_std_from_mean = np.mean(values) + np.std(values)*1.645\n",
        "kde = stats.gaussian_kde(values)\n",
        "pos = np.linspace(np.min(values), np.max(values), 10000)\n",
        "plt.plot(pos, kde(pos), color='blue')\n",
        "shade = np.linspace(two_std_from_mean, 40, 300)\n",
        "plt.fill_between(shade, kde(shade), alpha=0.45, color='blue')\n",
        "plt.title(\"Sampling Distribution for One-Tail Hypothesis Test\", y=1.015, fontsize=20)\n",
        "plt.xlabel(\"sample mean value\", labelpad=14)\n",
        "plt.ylabel(\"frequency of occurence\", labelpad=14)"
      ],
      "outputs": [
        {
          "output_type": "execute_result",
          "execution_count": 37,
          "data": {
            "text/plain": [
              "Text(0,0.5,'frequency of occurence')"
            ]
          },
          "metadata": {}
        },
        {
          "output_type": "display_data",
          "data": {
            "text/plain": [
              "<Figure size 432x288 with 1 Axes>"
            ],
            "image/png": "[encoded data removed]"
          },
          "metadata": {}
        }
      ],
      "execution_count": 37,
      "metadata": {
        "collapsed": false,
        "outputHidden": false,
        "inputHidden": false
      }
    },
    {
      "cell_type": "code",
      "source": [
        "symbol1 = '^GSPC' \n",
        "symbol2 = 'AMD'\n",
        "\n",
        "data1 = yf.download(symbol1,start,end)\n",
        "data2 = yf.download(symbol2,start,end)"
      ],
      "outputs": [
        {
          "output_type": "stream",
          "name": "stdout",
          "text": [
            "[*********************100%***********************]  1 of 1 downloaded\n",
            "[*********************100%***********************]  1 of 1 downloaded\n"
          ]
        }
      ],
      "execution_count": 38,
      "metadata": {
        "collapsed": false,
        "outputHidden": false,
        "inputHidden": false
      }
    },
    {
      "cell_type": "code",
      "source": [
        "# Student's t-test for independent samples\n",
        "from scipy.stats import ttest_ind\n",
        "\n",
        "# generate two independent samples\n",
        "data1 = data1['Adj Close']\n",
        "data2 = data2['Adj Close']\n",
        "# compare samples\n",
        "stat, p = ttest_ind(data1, data2)\n",
        "print('t=%.3f, p=%.3f' % (stat, p))"
      ],
      "outputs": [
        {
          "output_type": "stream",
          "name": "stdout",
          "text": [
            "t=170.409, p=0.000\n"
          ]
        }
      ],
      "execution_count": 39,
      "metadata": {
        "collapsed": false,
        "outputHidden": false,
        "inputHidden": false
      }
    },
    {
      "cell_type": "code",
      "source": [
        "# calculate sample standard deviations\n",
        "std1, std2 = np.std(data1, ddof=1), np.std(data2, ddof=1)"
      ],
      "outputs": [],
      "execution_count": 40,
      "metadata": {
        "collapsed": false,
        "outputHidden": false,
        "inputHidden": false
      }
    },
    {
      "cell_type": "code",
      "source": [
        "# calculate standard errors\n",
        "n1, n2 = len(data1), len(data2)\n",
        "se1, se2 = std1/math.sqrt(n1), std2/math.sqrt(n2)"
      ],
      "outputs": [],
      "execution_count": 41,
      "metadata": {
        "collapsed": false,
        "outputHidden": false,
        "inputHidden": false
      }
    },
    {
      "cell_type": "code",
      "source": [
        "# calculate standard errors\n",
        "se1, se2 = stats.sem(data1), stats.sem(data2)"
      ],
      "outputs": [],
      "execution_count": 42,
      "metadata": {
        "collapsed": false,
        "outputHidden": false,
        "inputHidden": false
      }
    },
    {
      "cell_type": "code",
      "source": [
        "# standard error on the difference between the samples\n",
        "sed = math.sqrt(se1**2.0 + se2**2.0)"
      ],
      "outputs": [],
      "execution_count": 43,
      "metadata": {
        "collapsed": false,
        "outputHidden": false,
        "inputHidden": false
      }
    },
    {
      "cell_type": "code",
      "source": [
        "# calculate the t statistic\n",
        "t_stat = (data1.mean() - data2.mean()) / sed"
      ],
      "outputs": [],
      "execution_count": 44,
      "metadata": {
        "collapsed": false,
        "outputHidden": false,
        "inputHidden": false
      }
    },
    {
      "cell_type": "code",
      "source": [
        "# degrees of freedom\n",
        "df = n1 + n2 - 2"
      ],
      "outputs": [],
      "execution_count": 45,
      "metadata": {
        "collapsed": false,
        "outputHidden": false,
        "inputHidden": false
      }
    },
    {
      "cell_type": "code",
      "source": [
        "from scipy.stats import t\n",
        "# calculate the critical value\n",
        "alpha = 0.05\n",
        "cv = t.ppf(1.0 - alpha, df)"
      ],
      "outputs": [],
      "execution_count": 46,
      "metadata": {
        "collapsed": false,
        "outputHidden": false,
        "inputHidden": false
      }
    },
    {
      "cell_type": "code",
      "source": [
        "# calculate the p-value\n",
        "p = (1 - t.cdf(abs(t_stat), df)) * 2"
      ],
      "outputs": [],
      "execution_count": 47,
      "metadata": {
        "collapsed": false,
        "outputHidden": false,
        "inputHidden": false
      }
    },
    {
      "cell_type": "code",
      "source": [
        "# function for calculating the t-test for two independent samples\n",
        "def independent_ttest(data1, data2, alpha):\n",
        "\t# calculate means\n",
        "\tmean1, mean2 = mean(data1), mean(data2)\n",
        "\t# calculate standard errors\n",
        "\tse1, se2 = sem(data1), sem(data2)\n",
        "\t# standard error on the difference between the samples\n",
        "\tsed = sqrt(se1**2.0 + se2**2.0)\n",
        "\t# calculate the t statistic\n",
        "\tt_stat = (mean1 - mean2) / sed\n",
        "\t# degrees of freedom\n",
        "\tdf = len(data1) + len(data2) - 2\n",
        "\t# calculate the critical value\n",
        "\tcv = t.ppf(1.0 - alpha, df)\n",
        "\t# calculate the p-value\n",
        "\tp = (1.0 - t.cdf(abs(t_stat), df)) * 2.0\n",
        "\t# return everything\n",
        "\treturn t_stat, df, cv, p"
      ],
      "outputs": [],
      "execution_count": 48,
      "metadata": {
        "collapsed": false,
        "outputHidden": false,
        "inputHidden": false
      }
    },
    {
      "cell_type": "code",
      "source": [
        "# interpret via critical value\n",
        "if abs(t_stat) <= cv:\n",
        "\tprint('Accept null hypothesis that the means are equal.')\n",
        "else:\n",
        "\tprint('Reject the null hypothesis that the means are equal.')"
      ],
      "outputs": [
        {
          "output_type": "stream",
          "name": "stdout",
          "text": [
            "Reject the null hypothesis that the means are equal.\n"
          ]
        }
      ],
      "execution_count": 49,
      "metadata": {
        "collapsed": false,
        "outputHidden": false,
        "inputHidden": false
      }
    },
    {
      "cell_type": "code",
      "source": [
        "# interpret via p-value\n",
        "if p > alpha:\n",
        "\tprint('Accept null hypothesis that the means are equal.')\n",
        "else:\n",
        "\tprint('Reject the null hypothesis that the means are equal.')"
      ],
      "outputs": [
        {
          "output_type": "stream",
          "name": "stdout",
          "text": [
            "Reject the null hypothesis that the means are equal.\n"
          ]
        }
      ],
      "execution_count": 50,
      "metadata": {
        "collapsed": false,
        "outputHidden": false,
        "inputHidden": false
      }
    },
    {
      "cell_type": "code",
      "source": [
        "# function for calculating the t-test for two dependent samples\n",
        "def dependent_ttest(data1, data2, alpha):\n",
        "\t# calculate means\n",
        "\tmean1, mean2 = np.mean(data1), np.mean(data2)\n",
        "\t# number of paired samples\n",
        "\tn = len(data1)\n",
        "\t# sum squared difference between observations\n",
        "\td1 = sum([(data1[i]-data2[i])**2 for i in range(n)])\n",
        "\t# sum difference between observations\n",
        "\td2 = sum([data1[i]-data2[i] for i in range(n)])\n",
        "\t# standard deviation of the difference between means\n",
        "\tsd = math.sqrt((d1 - (d2**2 / n)) / (n - 1))\n",
        "\t# standard error of the difference between the means\n",
        "\tsed = sd / math.sqrt(n)\n",
        "\t# calculate the t statistic\n",
        "\tt_stat = (mean1 - mean2) / sed\n",
        "\t# degrees of freedom\n",
        "\tdf = n - 1\n",
        "\t# calculate the critical value\n",
        "\tcv = t.ppf(1.0 - alpha, df)\n",
        "\t# calculate the p-value\n",
        "\tp = (1.0 - t.cdf(abs(t_stat), df)) * 2.0\n",
        "\t# return everything\n",
        "\treturn t_stat, df, cv, p"
      ],
      "outputs": [],
      "execution_count": 51,
      "metadata": {
        "collapsed": false,
        "outputHidden": false,
        "inputHidden": false
      }
    },
    {
      "cell_type": "code",
      "source": [
        "from scipy.stats import ttest_rel\n",
        "\n",
        "# compare samples\n",
        "stat, p = ttest_rel(data1, data2)\n",
        "print('Statistics=%.3f, p=%.3f' % (stat, p))"
      ],
      "outputs": [
        {
          "output_type": "stream",
          "name": "stdout",
          "text": [
            "Statistics=171.091, p=0.000\n"
          ]
        }
      ],
      "execution_count": 52,
      "metadata": {
        "collapsed": false,
        "outputHidden": false,
        "inputHidden": false
      }
    },
    {
      "cell_type": "code",
      "source": [
        "# calculate the t test\n",
        "alpha = 0.05\n",
        "t_stat, df, cv, p = dependent_ttest(data1, data2, alpha)\n",
        "print('t=%.3f, df=%d, cv=%.3f, p=%.3f' % (t_stat, df, cv, p))\n",
        "# interpret via critical value\n",
        "if abs(t_stat) <= cv:\n",
        "\tprint('Accept null hypothesis that the means are equal.')\n",
        "else:\n",
        "\tprint('Reject the null hypothesis that the means are equal.')\n",
        "# interpret via p-value\n",
        "if p > alpha:\n",
        "\tprint('Accept null hypothesis that the means are equal.')\n",
        "else:\n",
        "\tprint('Reject the null hypothesis that the means are equal.')"
      ],
      "outputs": [
        {
          "output_type": "stream",
          "name": "stdout",
          "text": [
            "t=171.091, df=3019, cv=1.645, p=0.000\n",
            "Reject the null hypothesis that the means are equal.\n",
            "Reject the null hypothesis that the means are equal.\n"
          ]
        }
      ],
      "execution_count": 53,
      "metadata": {
        "collapsed": false,
        "outputHidden": false,
        "inputHidden": false
      }
    }
  ],
  "metadata": {
    "kernel_info": {
      "name": "python3"
    },
    "language_info": {
      "codemirror_mode": {
        "version": 3,
        "name": "ipython"
      },
      "mimetype": "text/x-python",
      "file_extension": ".py",
      "version": "3.5.5",
      "pygments_lexer": "ipython3",
      "name": "python",
      "nbconvert_exporter": "python"
    },
    "kernelspec": {
      "name": "python3",
      "language": "python",
      "display_name": "Python 3"
    },
    "nteract": {
      "version": "0.14.5"
    }
  },
  "nbformat": 4,
  "nbformat_minor": 0
}