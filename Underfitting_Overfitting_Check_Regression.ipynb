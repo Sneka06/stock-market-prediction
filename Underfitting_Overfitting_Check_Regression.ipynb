{
  "cells": [
    {
      "cell_type": "markdown",
      "source": [
        "Check Underfitting and Overfitting for Stock"
      ],
      "metadata": {}
    },
    {
      "cell_type": "code",
      "source": [
        "# Library\n",
        "import pandas as pd\n",
        "import numpy as np\n",
        "\n",
        "from sklearn.linear_model import LinearRegression\n",
        "import math\n",
        "\n",
        "import matplotlib.pyplot as plt\n",
        "import seaborn as sns\n",
        "\n",
        "import warnings\n",
        "warnings.filterwarnings(\"ignore\")\n",
        "\n",
        "import fix_yahoo_finance as yf\n",
        "yf.pdr_override()"
      ],
      "outputs": [],
      "execution_count": 1,
      "metadata": {
        "collapsed": false,
        "outputHidden": false,
        "inputHidden": false
      }
    },
    {
      "cell_type": "code",
      "source": [
        "stock_name = 'AMD'\n",
        "start = '2018-01-01' \n",
        "end = '2018-09-14'\n",
        "df = yf.download(stock_name, start, end)\n",
        "df = df.reset_index()"
      ],
      "outputs": [
        {
          "output_type": "stream",
          "name": "stdout",
          "text": [
            "[*********************100%***********************]  1 of 1 downloaded\n"
          ]
        }
      ],
      "execution_count": 2,
      "metadata": {
        "collapsed": false,
        "outputHidden": false,
        "inputHidden": false
      }
    },
    {
      "cell_type": "code",
      "source": [
        "df.head()"
      ],
      "outputs": [
        {
          "output_type": "execute_result",
          "execution_count": 3,
          "data": {
            "text/plain": [
              "        Date   Open   High    Low  Close  Adj Close     Volume\n",
              "0 2018-01-02  10.42  11.02  10.34  10.98      10.98   44146300\n",
              "1 2018-01-03  11.61  12.14  11.36  11.55      11.55  154066700\n",
              "2 2018-01-04  12.10  12.43  11.97  12.12      12.12  109503000\n",
              "3 2018-01-05  12.19  12.22  11.66  11.88      11.88   63808900\n",
              "4 2018-01-08  12.01  12.30  11.85  12.28      12.28   63346000"
            ],
            "text/html": [
              "<div>\n",
              "<style scoped>\n",
              "    .dataframe tbody tr th:only-of-type {\n",
              "        vertical-align: middle;\n",
              "    }\n",
              "\n",
              "    .dataframe tbody tr th {\n",
              "        vertical-align: top;\n",
              "    }\n",
              "\n",
              "    .dataframe thead th {\n",
              "        text-align: right;\n",
              "    }\n",
              "</style>\n",
              "<table border=\"1\" class=\"dataframe\">\n",
              "  <thead>\n",
              "    <tr style=\"text-align: right;\">\n",
              "      <th></th>\n",
              "      <th>Date</th>\n",
              "      <th>Open</th>\n",
              "      <th>High</th>\n",
              "      <th>Low</th>\n",
              "      <th>Close</th>\n",
              "      <th>Adj Close</th>\n",
              "      <th>Volume</th>\n",
              "    </tr>\n",
              "  </thead>\n",
              "  <tbody>\n",
              "    <tr>\n",
              "      <th>0</th>\n",
              "      <td>2018-01-02</td>\n",
              "      <td>10.42</td>\n",
              "      <td>11.02</td>\n",
              "      <td>10.34</td>\n",
              "      <td>10.98</td>\n",
              "      <td>10.98</td>\n",
              "      <td>44146300</td>\n",
              "    </tr>\n",
              "    <tr>\n",
              "      <th>1</th>\n",
              "      <td>2018-01-03</td>\n",
              "      <td>11.61</td>\n",
              "      <td>12.14</td>\n",
              "      <td>11.36</td>\n",
              "      <td>11.55</td>\n",
              "      <td>11.55</td>\n",
              "      <td>154066700</td>\n",
              "    </tr>\n",
              "    <tr>\n",
              "      <th>2</th>\n",
              "      <td>2018-01-04</td>\n",
              "      <td>12.10</td>\n",
              "      <td>12.43</td>\n",
              "      <td>11.97</td>\n",
              "      <td>12.12</td>\n",
              "      <td>12.12</td>\n",
              "      <td>109503000</td>\n",
              "    </tr>\n",
              "    <tr>\n",
              "      <th>3</th>\n",
              "      <td>2018-01-05</td>\n",
              "      <td>12.19</td>\n",
              "      <td>12.22</td>\n",
              "      <td>11.66</td>\n",
              "      <td>11.88</td>\n",
              "      <td>11.88</td>\n",
              "      <td>63808900</td>\n",
              "    </tr>\n",
              "    <tr>\n",
              "      <th>4</th>\n",
              "      <td>2018-01-08</td>\n",
              "      <td>12.01</td>\n",
              "      <td>12.30</td>\n",
              "      <td>11.85</td>\n",
              "      <td>12.28</td>\n",
              "      <td>12.28</td>\n",
              "      <td>63346000</td>\n",
              "    </tr>\n",
              "  </tbody>\n",
              "</table>\n",
              "</div>"
            ]
          },
          "metadata": {}
        }
      ],
      "execution_count": 3,
      "metadata": {
        "collapsed": false,
        "outputHidden": false,
        "inputHidden": false
      }
    },
    {
      "cell_type": "code",
      "source": [
        "df.shape"
      ],
      "outputs": [
        {
          "output_type": "execute_result",
          "execution_count": 4,
          "data": {
            "text/plain": [
              "(178, 7)"
            ]
          },
          "metadata": {}
        }
      ],
      "execution_count": 4,
      "metadata": {
        "collapsed": false,
        "outputHidden": false,
        "inputHidden": false
      }
    },
    {
      "cell_type": "code",
      "source": [
        "X = df.index.values\n",
        "y = df['Adj Close'].values"
      ],
      "outputs": [],
      "execution_count": 5,
      "metadata": {
        "collapsed": false,
        "outputHidden": false,
        "inputHidden": false
      }
    },
    {
      "cell_type": "code",
      "source": [
        "X.shape"
      ],
      "outputs": [
        {
          "output_type": "execute_result",
          "execution_count": 6,
          "data": {
            "text/plain": [
              "(178,)"
            ]
          },
          "metadata": {}
        }
      ],
      "execution_count": 6,
      "metadata": {
        "collapsed": false,
        "outputHidden": false,
        "inputHidden": false
      }
    },
    {
      "cell_type": "code",
      "source": [
        "y.shape"
      ],
      "outputs": [
        {
          "output_type": "execute_result",
          "execution_count": 7,
          "data": {
            "text/plain": [
              "(178,)"
            ]
          },
          "metadata": {}
        }
      ],
      "execution_count": 7,
      "metadata": {
        "collapsed": false,
        "outputHidden": false,
        "inputHidden": false
      }
    },
    {
      "cell_type": "code",
      "source": [
        "X = X.reshape((178,-1))"
      ],
      "outputs": [],
      "execution_count": 8,
      "metadata": {
        "collapsed": false,
        "outputHidden": false,
        "inputHidden": false
      }
    },
    {
      "cell_type": "code",
      "source": [
        "plt.figure(figsize=(12,8))\n",
        "\n",
        "plt.plot(X, y, 'ro')\n",
        "plt.show()"
      ],
      "outputs": [
        {
          "output_type": "display_data",
          "data": {
            "text/plain": [
              "<Figure size 864x576 with 1 Axes>"
            ],
            "image/png": "[encoded data removed]"
          },
          "metadata": {}
        }
      ],
      "execution_count": 9,
      "metadata": {
        "collapsed": false,
        "outputHidden": false,
        "inputHidden": false
      }
    },
    {
      "cell_type": "code",
      "source": [
        "model = LinearRegression()\n",
        "model.fit(X, y)"
      ],
      "outputs": [
        {
          "output_type": "execute_result",
          "execution_count": 10,
          "data": {
            "text/plain": [
              "LinearRegression(copy_X=True, fit_intercept=True, n_jobs=1, normalize=False)"
            ]
          },
          "metadata": {}
        }
      ],
      "execution_count": 10,
      "metadata": {
        "collapsed": false,
        "outputHidden": false,
        "inputHidden": false
      }
    },
    {
      "cell_type": "code",
      "source": [
        " a = model.coef_ * X + model.intercept_\n",
        " a"
      ],
      "outputs": [
        {
          "output_type": "execute_result",
          "execution_count": 11,
          "data": {
            "text/plain": [
              "array([[ 8.10233949],\n",
              "       [ 8.17837349],\n",
              "       [ 8.25440749],\n",
              "       [ 8.33044149],\n",
              "       [ 8.40647548],\n",
              "       [ 8.48250948],\n",
              "       [ 8.55854348],\n",
              "       [ 8.63457748],\n",
              "       [ 8.71061148],\n",
              "       [ 8.78664547],\n",
              "       [ 8.86267947],\n",
              "       [ 8.93871347],\n",
              "       [ 9.01474747],\n",
              "       [ 9.09078147],\n",
              "       [ 9.16681546],\n",
              "       [ 9.24284946],\n",
              "       [ 9.31888346],\n",
              "       [ 9.39491746],\n",
              "       [ 9.47095146],\n",
              "       [ 9.54698545],\n",
              "       [ 9.62301945],\n",
              "       [ 9.69905345],\n",
              "       [ 9.77508745],\n",
              "       [ 9.85112145],\n",
              "       [ 9.92715544],\n",
              "       [10.00318944],\n",
              "       [10.07922344],\n",
              "       [10.15525744],\n",
              "       [10.23129144],\n",
              "       [10.30732543],\n",
              "       [10.38335943],\n",
              "       [10.45939343],\n",
              "       [10.53542743],\n",
              "       [10.61146143],\n",
              "       [10.68749542],\n",
              "       [10.76352942],\n",
              "       [10.83956342],\n",
              "       [10.91559742],\n",
              "       [10.99163142],\n",
              "       [11.06766541],\n",
              "       [11.14369941],\n",
              "       [11.21973341],\n",
              "       [11.29576741],\n",
              "       [11.37180141],\n",
              "       [11.4478354 ],\n",
              "       [11.5238694 ],\n",
              "       [11.5999034 ],\n",
              "       [11.6759374 ],\n",
              "       [11.7519714 ],\n",
              "       [11.82800539],\n",
              "       [11.90403939],\n",
              "       [11.98007339],\n",
              "       [12.05610739],\n",
              "       [12.13214139],\n",
              "       [12.20817538],\n",
              "       [12.28420938],\n",
              "       [12.36024338],\n",
              "       [12.43627738],\n",
              "       [12.51231138],\n",
              "       [12.58834537],\n",
              "       [12.66437937],\n",
              "       [12.74041337],\n",
              "       [12.81644737],\n",
              "       [12.89248137],\n",
              "       [12.96851536],\n",
              "       [13.04454936],\n",
              "       [13.12058336],\n",
              "       [13.19661736],\n",
              "       [13.27265136],\n",
              "       [13.34868535],\n",
              "       [13.42471935],\n",
              "       [13.50075335],\n",
              "       [13.57678735],\n",
              "       [13.65282135],\n",
              "       [13.72885534],\n",
              "       [13.80488934],\n",
              "       [13.88092334],\n",
              "       [13.95695734],\n",
              "       [14.03299134],\n",
              "       [14.10902533],\n",
              "       [14.18505933],\n",
              "       [14.26109333],\n",
              "       [14.33712733],\n",
              "       [14.41316133],\n",
              "       [14.48919532],\n",
              "       [14.56522932],\n",
              "       [14.64126332],\n",
              "       [14.71729732],\n",
              "       [14.79333132],\n",
              "       [14.86936531],\n",
              "       [14.94539931],\n",
              "       [15.02143331],\n",
              "       [15.09746731],\n",
              "       [15.17350131],\n",
              "       [15.2495353 ],\n",
              "       [15.3255693 ],\n",
              "       [15.4016033 ],\n",
              "       [15.4776373 ],\n",
              "       [15.5536713 ],\n",
              "       [15.62970529],\n",
              "       [15.70573929],\n",
              "       [15.78177329],\n",
              "       [15.85780729],\n",
              "       [15.93384129],\n",
              "       [16.00987528],\n",
              "       [16.08590928],\n",
              "       [16.16194328],\n",
              "       [16.23797728],\n",
              "       [16.31401128],\n",
              "       [16.39004527],\n",
              "       [16.46607927],\n",
              "       [16.54211327],\n",
              "       [16.61814727],\n",
              "       [16.69418127],\n",
              "       [16.77021526],\n",
              "       [16.84624926],\n",
              "       [16.92228326],\n",
              "       [16.99831726],\n",
              "       [17.07435126],\n",
              "       [17.15038525],\n",
              "       [17.22641925],\n",
              "       [17.30245325],\n",
              "       [17.37848725],\n",
              "       [17.45452125],\n",
              "       [17.53055524],\n",
              "       [17.60658924],\n",
              "       [17.68262324],\n",
              "       [17.75865724],\n",
              "       [17.83469124],\n",
              "       [17.91072523],\n",
              "       [17.98675923],\n",
              "       [18.06279323],\n",
              "       [18.13882723],\n",
              "       [18.21486123],\n",
              "       [18.29089522],\n",
              "       [18.36692922],\n",
              "       [18.44296322],\n",
              "       [18.51899722],\n",
              "       [18.59503122],\n",
              "       [18.67106521],\n",
              "       [18.74709921],\n",
              "       [18.82313321],\n",
              "       [18.89916721],\n",
              "       [18.97520121],\n",
              "       [19.0512352 ],\n",
              "       [19.1272692 ],\n",
              "       [19.2033032 ],\n",
              "       [19.2793372 ],\n",
              "       [19.3553712 ],\n",
              "       [19.43140519],\n",
              "       [19.50743919],\n",
              "       [19.58347319],\n",
              "       [19.65950719],\n",
              "       [19.73554119],\n",
              "       [19.81157518],\n",
              "       [19.88760918],\n",
              "       [19.96364318],\n",
              "       [20.03967718],\n",
              "       [20.11571118],\n",
              "       [20.19174517],\n",
              "       [20.26777917],\n",
              "       [20.34381317],\n",
              "       [20.41984717],\n",
              "       [20.49588117],\n",
              "       [20.57191516],\n",
              "       [20.64794916],\n",
              "       [20.72398316],\n",
              "       [20.80001716],\n",
              "       [20.87605116],\n",
              "       [20.95208515],\n",
              "       [21.02811915],\n",
              "       [21.10415315],\n",
              "       [21.18018715],\n",
              "       [21.25622115],\n",
              "       [21.33225514],\n",
              "       [21.40828914],\n",
              "       [21.48432314],\n",
              "       [21.56035714]])"
            ]
          },
          "metadata": {}
        }
      ],
      "execution_count": 11,
      "metadata": {
        "collapsed": false,
        "outputHidden": false,
        "inputHidden": false
      }
    },
    {
      "cell_type": "markdown",
      "source": [
        "Underfitted Model\n",
        "\n",
        "Low variances and High bias\n",
        "\n",
        "Too simple and not generalize well\n",
        "\nLess Features"
      ],
      "metadata": {}
    },
    {
      "cell_type": "code",
      "source": [
        "# Linear Regression\n",
        "# Underfitted \n",
        "plt.figure(figsize=(12,8))\n",
        "plt.plot(X, y, 'ro', X, a)\n",
        "axes = plt.gca()\n",
        "axes.set_ylim([0, 30])\n",
        "plt.show()"
      ],
      "outputs": [
        {
          "output_type": "display_data",
          "data": {
            "text/plain": [
              "<Figure size 864x576 with 1 Axes>"
            ],
            "image/png": "[encoded data removed]"
          },
          "metadata": {}
        }
      ],
      "execution_count": 12,
      "metadata": {
        "collapsed": false,
        "outputHidden": false,
        "inputHidden": false
      }
    },
    {
      "cell_type": "code",
      "source": [
        "print(model.score(X, y))"
      ],
      "outputs": [
        {
          "output_type": "stream",
          "name": "stdout",
          "text": [
            "0.6227203882581938\n"
          ]
        }
      ],
      "execution_count": 13,
      "metadata": {
        "collapsed": false,
        "outputHidden": false,
        "inputHidden": false
      }
    },
    {
      "cell_type": "code",
      "source": [
        "from sklearn.metrics import mean_squared_error\n",
        "from math import sqrt\n",
        "\n",
        "# Lesser the MSE => smaller is the error => better the estimator\n",
        "# [MAE] ≤ [RMSE]. The RMSE result will always be larger or equal to the MAE\n",
        "# 0 to 1000 - an RMSE of 0.7 is small error\n",
        "# 0 to 1 - an RMSE is not small error \n",
        "meanSquaredError = mean_squared_error(X, y)\n",
        "print(\"MSE:\", meanSquaredError)\n",
        "rootMeanSquaredError = sqrt(meanSquaredError)\n",
        "print(\"RMSE:\", rootMeanSquaredError)"
      ],
      "outputs": [
        {
          "output_type": "stream",
          "name": "stdout",
          "text": [
            "MSE: 7690.334086691011\n",
            "RMSE: 87.69454992581359\n"
          ]
        }
      ],
      "execution_count": 14,
      "metadata": {
        "collapsed": false,
        "outputHidden": false,
        "inputHidden": false
      }
    },
    {
      "cell_type": "code",
      "source": [
        "X = np.c_[X, X**2]\n",
        "X"
      ],
      "outputs": [
        {
          "output_type": "execute_result",
          "execution_count": 15,
          "data": {
            "text/plain": [
              "array([[    0,     0],\n",
              "       [    1,     1],\n",
              "       [    2,     4],\n",
              "       [    3,     9],\n",
              "       [    4,    16],\n",
              "       [    5,    25],\n",
              "       [    6,    36],\n",
              "       [    7,    49],\n",
              "       [    8,    64],\n",
              "       [    9,    81],\n",
              "       [   10,   100],\n",
              "       [   11,   121],\n",
              "       [   12,   144],\n",
              "       [   13,   169],\n",
              "       [   14,   196],\n",
              "       [   15,   225],\n",
              "       [   16,   256],\n",
              "       [   17,   289],\n",
              "       [   18,   324],\n",
              "       [   19,   361],\n",
              "       [   20,   400],\n",
              "       [   21,   441],\n",
              "       [   22,   484],\n",
              "       [   23,   529],\n",
              "       [   24,   576],\n",
              "       [   25,   625],\n",
              "       [   26,   676],\n",
              "       [   27,   729],\n",
              "       [   28,   784],\n",
              "       [   29,   841],\n",
              "       [   30,   900],\n",
              "       [   31,   961],\n",
              "       [   32,  1024],\n",
              "       [   33,  1089],\n",
              "       [   34,  1156],\n",
              "       [   35,  1225],\n",
              "       [   36,  1296],\n",
              "       [   37,  1369],\n",
              "       [   38,  1444],\n",
              "       [   39,  1521],\n",
              "       [   40,  1600],\n",
              "       [   41,  1681],\n",
              "       [   42,  1764],\n",
              "       [   43,  1849],\n",
              "       [   44,  1936],\n",
              "       [   45,  2025],\n",
              "       [   46,  2116],\n",
              "       [   47,  2209],\n",
              "       [   48,  2304],\n",
              "       [   49,  2401],\n",
              "       [   50,  2500],\n",
              "       [   51,  2601],\n",
              "       [   52,  2704],\n",
              "       [   53,  2809],\n",
              "       [   54,  2916],\n",
              "       [   55,  3025],\n",
              "       [   56,  3136],\n",
              "       [   57,  3249],\n",
              "       [   58,  3364],\n",
              "       [   59,  3481],\n",
              "       [   60,  3600],\n",
              "       [   61,  3721],\n",
              "       [   62,  3844],\n",
              "       [   63,  3969],\n",
              "       [   64,  4096],\n",
              "       [   65,  4225],\n",
              "       [   66,  4356],\n",
              "       [   67,  4489],\n",
              "       [   68,  4624],\n",
              "       [   69,  4761],\n",
              "       [   70,  4900],\n",
              "       [   71,  5041],\n",
              "       [   72,  5184],\n",
              "       [   73,  5329],\n",
              "       [   74,  5476],\n",
              "       [   75,  5625],\n",
              "       [   76,  5776],\n",
              "       [   77,  5929],\n",
              "       [   78,  6084],\n",
              "       [   79,  6241],\n",
              "       [   80,  6400],\n",
              "       [   81,  6561],\n",
              "       [   82,  6724],\n",
              "       [   83,  6889],\n",
              "       [   84,  7056],\n",
              "       [   85,  7225],\n",
              "       [   86,  7396],\n",
              "       [   87,  7569],\n",
              "       [   88,  7744],\n",
              "       [   89,  7921],\n",
              "       [   90,  8100],\n",
              "       [   91,  8281],\n",
              "       [   92,  8464],\n",
              "       [   93,  8649],\n",
              "       [   94,  8836],\n",
              "       [   95,  9025],\n",
              "       [   96,  9216],\n",
              "       [   97,  9409],\n",
              "       [   98,  9604],\n",
              "       [   99,  9801],\n",
              "       [  100, 10000],\n",
              "       [  101, 10201],\n",
              "       [  102, 10404],\n",
              "       [  103, 10609],\n",
              "       [  104, 10816],\n",
              "       [  105, 11025],\n",
              "       [  106, 11236],\n",
              "       [  107, 11449],\n",
              "       [  108, 11664],\n",
              "       [  109, 11881],\n",
              "       [  110, 12100],\n",
              "       [  111, 12321],\n",
              "       [  112, 12544],\n",
              "       [  113, 12769],\n",
              "       [  114, 12996],\n",
              "       [  115, 13225],\n",
              "       [  116, 13456],\n",
              "       [  117, 13689],\n",
              "       [  118, 13924],\n",
              "       [  119, 14161],\n",
              "       [  120, 14400],\n",
              "       [  121, 14641],\n",
              "       [  122, 14884],\n",
              "       [  123, 15129],\n",
              "       [  124, 15376],\n",
              "       [  125, 15625],\n",
              "       [  126, 15876],\n",
              "       [  127, 16129],\n",
              "       [  128, 16384],\n",
              "       [  129, 16641],\n",
              "       [  130, 16900],\n",
              "       [  131, 17161],\n",
              "       [  132, 17424],\n",
              "       [  133, 17689],\n",
              "       [  134, 17956],\n",
              "       [  135, 18225],\n",
              "       [  136, 18496],\n",
              "       [  137, 18769],\n",
              "       [  138, 19044],\n",
              "       [  139, 19321],\n",
              "       [  140, 19600],\n",
              "       [  141, 19881],\n",
              "       [  142, 20164],\n",
              "       [  143, 20449],\n",
              "       [  144, 20736],\n",
              "       [  145, 21025],\n",
              "       [  146, 21316],\n",
              "       [  147, 21609],\n",
              "       [  148, 21904],\n",
              "       [  149, 22201],\n",
              "       [  150, 22500],\n",
              "       [  151, 22801],\n",
              "       [  152, 23104],\n",
              "       [  153, 23409],\n",
              "       [  154, 23716],\n",
              "       [  155, 24025],\n",
              "       [  156, 24336],\n",
              "       [  157, 24649],\n",
              "       [  158, 24964],\n",
              "       [  159, 25281],\n",
              "       [  160, 25600],\n",
              "       [  161, 25921],\n",
              "       [  162, 26244],\n",
              "       [  163, 26569],\n",
              "       [  164, 26896],\n",
              "       [  165, 27225],\n",
              "       [  166, 27556],\n",
              "       [  167, 27889],\n",
              "       [  168, 28224],\n",
              "       [  169, 28561],\n",
              "       [  170, 28900],\n",
              "       [  171, 29241],\n",
              "       [  172, 29584],\n",
              "       [  173, 29929],\n",
              "       [  174, 30276],\n",
              "       [  175, 30625],\n",
              "       [  176, 30976],\n",
              "       [  177, 31329]], dtype=int64)"
            ]
          },
          "metadata": {}
        }
      ],
      "execution_count": 15,
      "metadata": {
        "collapsed": false,
        "outputHidden": false,
        "inputHidden": false
      }
    },
    {
      "cell_type": "code",
      "source": [
        "model.fit(X, y)\n",
        "x = np.arange(1, 179)\n",
        "x = np.c_[x, x**2]\n",
        "a = np.dot(X, model.coef_.transpose()) + model.intercept_"
      ],
      "outputs": [],
      "execution_count": 16,
      "metadata": {
        "collapsed": false,
        "outputHidden": false,
        "inputHidden": false
      }
    },
    {
      "cell_type": "code",
      "source": [
        "len(x)"
      ],
      "outputs": [
        {
          "output_type": "execute_result",
          "execution_count": 17,
          "data": {
            "text/plain": [
              "178"
            ]
          },
          "metadata": {}
        }
      ],
      "execution_count": 17,
      "metadata": {
        "collapsed": false,
        "outputHidden": false,
        "inputHidden": false
      }
    },
    {
      "cell_type": "markdown",
      "source": [
        "Fitting Model"
      ],
      "metadata": {}
    },
    {
      "cell_type": "code",
      "source": [
        "# Polynomial features\n",
        "plt.figure(figsize=(12,8))\n",
        "plt.plot(X[:, 0], y, 'ro', x[:, 0], a)\n",
        "plt.show()"
      ],
      "outputs": [
        {
          "output_type": "display_data",
          "data": {
            "text/plain": [
              "<Figure size 864x576 with 1 Axes>"
            ],
            "image/png": "[encoded data removed]"
          },
          "metadata": {}
        }
      ],
      "execution_count": 18,
      "metadata": {
        "collapsed": false,
        "outputHidden": false,
        "inputHidden": false
      }
    },
    {
      "cell_type": "code",
      "source": [
        "model.score(X, y)"
      ],
      "outputs": [
        {
          "output_type": "execute_result",
          "execution_count": 19,
          "data": {
            "text/plain": [
              "0.9172297439488537"
            ]
          },
          "metadata": {}
        }
      ],
      "execution_count": 19,
      "metadata": {
        "collapsed": false,
        "outputHidden": false,
        "inputHidden": false
      }
    },
    {
      "cell_type": "markdown",
      "source": [
        "Over-fitting Model\n",
        "\n",
        "Low bias and High variance\n",
        "\n",
        "Too complex and not likely to generalize well\n",
        "\n",
        "Required More Features\n",
        "\nLeads to small in-sample errors, but large out-of-sample errors."
      ],
      "metadata": {}
    },
    {
      "cell_type": "code",
      "source": [
        "X = np.arange(1, 179)\n",
        "X = np.c_[X, X**2, X**3, X**4, X**5, X**6, X**7, X**8, X**9]\n",
        "x = np.arange(1, 179)\n",
        "x = np.c_[x, x**2, x**3, x**4, x**5, x**6, x**7, x**8, x**9]\n",
        "\n",
        "model.fit(X, y)\n",
        "a = np.dot(x, model.coef_.transpose()) + model.intercept_\n",
        "\n",
        "plt.figure(figsize=(12,8))\n",
        "plt.plot(X[:, 0], y, 'ro', x[:, 0], a)\n",
        "axes = plt.gca()\n",
        "axes.set_ylim([0, 30])\n",
        "plt.show()"
      ],
      "outputs": [
        {
          "output_type": "display_data",
          "data": {
            "text/plain": [
              "<Figure size 864x576 with 1 Axes>"
            ],
            "image/png": "[encoded data removed]"
          },
          "metadata": {}
        }
      ],
      "execution_count": 20,
      "metadata": {
        "collapsed": false,
        "outputHidden": false,
        "inputHidden": false
      }
    },
    {
      "cell_type": "code",
      "source": [
        "model.score(X, y)"
      ],
      "outputs": [
        {
          "output_type": "execute_result",
          "execution_count": 21,
          "data": {
            "text/plain": [
              "0.9405459998434336"
            ]
          },
          "metadata": {}
        }
      ],
      "execution_count": 21,
      "metadata": {
        "collapsed": false,
        "outputHidden": false,
        "inputHidden": false
      }
    },
    {
      "cell_type": "markdown",
      "source": [
        "Daily Returns"
      ],
      "metadata": {}
    },
    {
      "cell_type": "code",
      "source": [
        "df['Returns'] = df['Adj Close'].pct_change().dropna()"
      ],
      "outputs": [],
      "execution_count": 22,
      "metadata": {
        "collapsed": false,
        "outputHidden": false,
        "inputHidden": false
      }
    },
    {
      "cell_type": "code",
      "source": [
        "df = df.dropna()"
      ],
      "outputs": [],
      "execution_count": 23,
      "metadata": {
        "collapsed": false,
        "outputHidden": false,
        "inputHidden": false
      }
    },
    {
      "cell_type": "code",
      "source": [
        "X = df.index.values\n",
        "y = df['Returns'].values"
      ],
      "outputs": [],
      "execution_count": 24,
      "metadata": {
        "collapsed": false,
        "outputHidden": false,
        "inputHidden": false
      }
    },
    {
      "cell_type": "code",
      "source": [
        "X.shape"
      ],
      "outputs": [
        {
          "output_type": "execute_result",
          "execution_count": 25,
          "data": {
            "text/plain": [
              "(177,)"
            ]
          },
          "metadata": {}
        }
      ],
      "execution_count": 25,
      "metadata": {
        "collapsed": false,
        "outputHidden": false,
        "inputHidden": false
      }
    },
    {
      "cell_type": "code",
      "source": [
        "X = X.reshape((177,-1))"
      ],
      "outputs": [],
      "execution_count": 26,
      "metadata": {
        "collapsed": false,
        "outputHidden": false,
        "inputHidden": false
      }
    },
    {
      "cell_type": "code",
      "source": [
        "model = LinearRegression()\n",
        "model.fit(X, y)"
      ],
      "outputs": [
        {
          "output_type": "execute_result",
          "execution_count": 27,
          "data": {
            "text/plain": [
              "LinearRegression(copy_X=True, fit_intercept=True, n_jobs=1, normalize=False)"
            ]
          },
          "metadata": {}
        }
      ],
      "execution_count": 27,
      "metadata": {
        "collapsed": false,
        "outputHidden": false,
        "inputHidden": false
      }
    },
    {
      "cell_type": "code",
      "source": [
        " a = model.coef_ * X + model.intercept_\n",
        " a"
      ],
      "outputs": [
        {
          "output_type": "execute_result",
          "execution_count": 28,
          "data": {
            "text/plain": [
              "array([[-3.41944131e-03],\n",
              "       [-3.30425644e-03],\n",
              "       [-3.18907157e-03],\n",
              "       [-3.07388670e-03],\n",
              "       [-2.95870183e-03],\n",
              "       [-2.84351696e-03],\n",
              "       [-2.72833208e-03],\n",
              "       [-2.61314721e-03],\n",
              "       [-2.49796234e-03],\n",
              "       [-2.38277747e-03],\n",
              "       [-2.26759260e-03],\n",
              "       [-2.15240773e-03],\n",
              "       [-2.03722286e-03],\n",
              "       [-1.92203799e-03],\n",
              "       [-1.80685311e-03],\n",
              "       [-1.69166824e-03],\n",
              "       [-1.57648337e-03],\n",
              "       [-1.46129850e-03],\n",
              "       [-1.34611363e-03],\n",
              "       [-1.23092876e-03],\n",
              "       [-1.11574389e-03],\n",
              "       [-1.00055901e-03],\n",
              "       [-8.85374143e-04],\n",
              "       [-7.70189272e-04],\n",
              "       [-6.55004400e-04],\n",
              "       [-5.39819529e-04],\n",
              "       [-4.24634658e-04],\n",
              "       [-3.09449786e-04],\n",
              "       [-1.94264915e-04],\n",
              "       [-7.90800437e-05],\n",
              "       [ 3.61048276e-05],\n",
              "       [ 1.51289699e-04],\n",
              "       [ 2.66474570e-04],\n",
              "       [ 3.81659442e-04],\n",
              "       [ 4.96844313e-04],\n",
              "       [ 6.12029184e-04],\n",
              "       [ 7.27214056e-04],\n",
              "       [ 8.42398927e-04],\n",
              "       [ 9.57583798e-04],\n",
              "       [ 1.07276867e-03],\n",
              "       [ 1.18795354e-03],\n",
              "       [ 1.30313841e-03],\n",
              "       [ 1.41832328e-03],\n",
              "       [ 1.53350816e-03],\n",
              "       [ 1.64869303e-03],\n",
              "       [ 1.76387790e-03],\n",
              "       [ 1.87906277e-03],\n",
              "       [ 1.99424764e-03],\n",
              "       [ 2.10943251e-03],\n",
              "       [ 2.22461738e-03],\n",
              "       [ 2.33980225e-03],\n",
              "       [ 2.45498713e-03],\n",
              "       [ 2.57017200e-03],\n",
              "       [ 2.68535687e-03],\n",
              "       [ 2.80054174e-03],\n",
              "       [ 2.91572661e-03],\n",
              "       [ 3.03091148e-03],\n",
              "       [ 3.14609635e-03],\n",
              "       [ 3.26128123e-03],\n",
              "       [ 3.37646610e-03],\n",
              "       [ 3.49165097e-03],\n",
              "       [ 3.60683584e-03],\n",
              "       [ 3.72202071e-03],\n",
              "       [ 3.83720558e-03],\n",
              "       [ 3.95239045e-03],\n",
              "       [ 4.06757532e-03],\n",
              "       [ 4.18276020e-03],\n",
              "       [ 4.29794507e-03],\n",
              "       [ 4.41312994e-03],\n",
              "       [ 4.52831481e-03],\n",
              "       [ 4.64349968e-03],\n",
              "       [ 4.75868455e-03],\n",
              "       [ 4.87386942e-03],\n",
              "       [ 4.98905430e-03],\n",
              "       [ 5.10423917e-03],\n",
              "       [ 5.21942404e-03],\n",
              "       [ 5.33460891e-03],\n",
              "       [ 5.44979378e-03],\n",
              "       [ 5.56497865e-03],\n",
              "       [ 5.68016352e-03],\n",
              "       [ 5.79534839e-03],\n",
              "       [ 5.91053327e-03],\n",
              "       [ 6.02571814e-03],\n",
              "       [ 6.14090301e-03],\n",
              "       [ 6.25608788e-03],\n",
              "       [ 6.37127275e-03],\n",
              "       [ 6.48645762e-03],\n",
              "       [ 6.60164249e-03],\n",
              "       [ 6.71682737e-03],\n",
              "       [ 6.83201224e-03],\n",
              "       [ 6.94719711e-03],\n",
              "       [ 7.06238198e-03],\n",
              "       [ 7.17756685e-03],\n",
              "       [ 7.29275172e-03],\n",
              "       [ 7.40793659e-03],\n",
              "       [ 7.52312147e-03],\n",
              "       [ 7.63830634e-03],\n",
              "       [ 7.75349121e-03],\n",
              "       [ 7.86867608e-03],\n",
              "       [ 7.98386095e-03],\n",
              "       [ 8.09904582e-03],\n",
              "       [ 8.21423069e-03],\n",
              "       [ 8.32941556e-03],\n",
              "       [ 8.44460044e-03],\n",
              "       [ 8.55978531e-03],\n",
              "       [ 8.67497018e-03],\n",
              "       [ 8.79015505e-03],\n",
              "       [ 8.90533992e-03],\n",
              "       [ 9.02052479e-03],\n",
              "       [ 9.13570966e-03],\n",
              "       [ 9.25089454e-03],\n",
              "       [ 9.36607941e-03],\n",
              "       [ 9.48126428e-03],\n",
              "       [ 9.59644915e-03],\n",
              "       [ 9.71163402e-03],\n",
              "       [ 9.82681889e-03],\n",
              "       [ 9.94200376e-03],\n",
              "       [ 1.00571886e-02],\n",
              "       [ 1.01723735e-02],\n",
              "       [ 1.02875584e-02],\n",
              "       [ 1.04027432e-02],\n",
              "       [ 1.05179281e-02],\n",
              "       [ 1.06331130e-02],\n",
              "       [ 1.07482979e-02],\n",
              "       [ 1.08634827e-02],\n",
              "       [ 1.09786676e-02],\n",
              "       [ 1.10938525e-02],\n",
              "       [ 1.12090373e-02],\n",
              "       [ 1.13242222e-02],\n",
              "       [ 1.14394071e-02],\n",
              "       [ 1.15545920e-02],\n",
              "       [ 1.16697768e-02],\n",
              "       [ 1.17849617e-02],\n",
              "       [ 1.19001466e-02],\n",
              "       [ 1.20153314e-02],\n",
              "       [ 1.21305163e-02],\n",
              "       [ 1.22457012e-02],\n",
              "       [ 1.23608861e-02],\n",
              "       [ 1.24760709e-02],\n",
              "       [ 1.25912558e-02],\n",
              "       [ 1.27064407e-02],\n",
              "       [ 1.28216255e-02],\n",
              "       [ 1.29368104e-02],\n",
              "       [ 1.30519953e-02],\n",
              "       [ 1.31671802e-02],\n",
              "       [ 1.32823650e-02],\n",
              "       [ 1.33975499e-02],\n",
              "       [ 1.35127348e-02],\n",
              "       [ 1.36279196e-02],\n",
              "       [ 1.37431045e-02],\n",
              "       [ 1.38582894e-02],\n",
              "       [ 1.39734743e-02],\n",
              "       [ 1.40886591e-02],\n",
              "       [ 1.42038440e-02],\n",
              "       [ 1.43190289e-02],\n",
              "       [ 1.44342137e-02],\n",
              "       [ 1.45493986e-02],\n",
              "       [ 1.46645835e-02],\n",
              "       [ 1.47797684e-02],\n",
              "       [ 1.48949532e-02],\n",
              "       [ 1.50101381e-02],\n",
              "       [ 1.51253230e-02],\n",
              "       [ 1.52405078e-02],\n",
              "       [ 1.53556927e-02],\n",
              "       [ 1.54708776e-02],\n",
              "       [ 1.55860625e-02],\n",
              "       [ 1.57012473e-02],\n",
              "       [ 1.58164322e-02],\n",
              "       [ 1.59316171e-02],\n",
              "       [ 1.60468019e-02],\n",
              "       [ 1.61619868e-02],\n",
              "       [ 1.62771717e-02],\n",
              "       [ 1.63923566e-02],\n",
              "       [ 1.65075414e-02],\n",
              "       [ 1.66227263e-02],\n",
              "       [ 1.67379112e-02],\n",
              "       [ 1.68530960e-02]])"
            ]
          },
          "metadata": {}
        }
      ],
      "execution_count": 28,
      "metadata": {
        "collapsed": false,
        "outputHidden": false,
        "inputHidden": false
      }
    },
    {
      "cell_type": "code",
      "source": [
        "print(model.score(X, y))"
      ],
      "outputs": [
        {
          "output_type": "stream",
          "name": "stdout",
          "text": [
            "0.031971390677791645\n"
          ]
        }
      ],
      "execution_count": 29,
      "metadata": {
        "collapsed": false,
        "outputHidden": false,
        "inputHidden": false
      }
    },
    {
      "cell_type": "code",
      "source": [
        "# Linear Regression\n",
        "# Underfitted \n",
        "plt.figure(figsize=(12,8))\n",
        "plt.plot(X, y, 'ro', X, a)\n",
        "axes = plt.gca()\n",
        "axes.set_ylim([-0.2, 0.2])\n",
        "plt.show()"
      ],
      "outputs": [
        {
          "output_type": "display_data",
          "data": {
            "text/plain": [
              "<Figure size 864x576 with 1 Axes>"
            ],
            "image/png": "[encoded data removed]"
          },
          "metadata": {}
        }
      ],
      "execution_count": 30,
      "metadata": {
        "collapsed": false,
        "outputHidden": false,
        "inputHidden": false
      }
    },
    {
      "cell_type": "code",
      "source": [
        "model.score(X, y)"
      ],
      "outputs": [
        {
          "output_type": "execute_result",
          "execution_count": 31,
          "data": {
            "text/plain": [
              "0.031971390677791645"
            ]
          },
          "metadata": {}
        }
      ],
      "execution_count": 31,
      "metadata": {
        "collapsed": false,
        "outputHidden": false,
        "inputHidden": false
      }
    },
    {
      "cell_type": "code",
      "source": [
        "meanSquaredError = mean_squared_error(X, y)\n",
        "print(\"MSE:\", meanSquaredError)\n",
        "rootMeanSquaredError = sqrt(meanSquaredError)\n",
        "print(\"RMSE:\", rootMeanSquaredError)"
      ],
      "outputs": [
        {
          "output_type": "stream",
          "name": "stdout",
          "text": [
            "MSE: 10529.870781283005\n",
            "RMSE: 102.61515863303534\n"
          ]
        }
      ],
      "execution_count": 32,
      "metadata": {
        "collapsed": false,
        "outputHidden": false,
        "inputHidden": false
      }
    },
    {
      "cell_type": "code",
      "source": [
        "X = np.c_[X, X**2]\n",
        "X"
      ],
      "outputs": [
        {
          "output_type": "execute_result",
          "execution_count": 33,
          "data": {
            "text/plain": [
              "array([[    1,     1],\n",
              "       [    2,     4],\n",
              "       [    3,     9],\n",
              "       [    4,    16],\n",
              "       [    5,    25],\n",
              "       [    6,    36],\n",
              "       [    7,    49],\n",
              "       [    8,    64],\n",
              "       [    9,    81],\n",
              "       [   10,   100],\n",
              "       [   11,   121],\n",
              "       [   12,   144],\n",
              "       [   13,   169],\n",
              "       [   14,   196],\n",
              "       [   15,   225],\n",
              "       [   16,   256],\n",
              "       [   17,   289],\n",
              "       [   18,   324],\n",
              "       [   19,   361],\n",
              "       [   20,   400],\n",
              "       [   21,   441],\n",
              "       [   22,   484],\n",
              "       [   23,   529],\n",
              "       [   24,   576],\n",
              "       [   25,   625],\n",
              "       [   26,   676],\n",
              "       [   27,   729],\n",
              "       [   28,   784],\n",
              "       [   29,   841],\n",
              "       [   30,   900],\n",
              "       [   31,   961],\n",
              "       [   32,  1024],\n",
              "       [   33,  1089],\n",
              "       [   34,  1156],\n",
              "       [   35,  1225],\n",
              "       [   36,  1296],\n",
              "       [   37,  1369],\n",
              "       [   38,  1444],\n",
              "       [   39,  1521],\n",
              "       [   40,  1600],\n",
              "       [   41,  1681],\n",
              "       [   42,  1764],\n",
              "       [   43,  1849],\n",
              "       [   44,  1936],\n",
              "       [   45,  2025],\n",
              "       [   46,  2116],\n",
              "       [   47,  2209],\n",
              "       [   48,  2304],\n",
              "       [   49,  2401],\n",
              "       [   50,  2500],\n",
              "       [   51,  2601],\n",
              "       [   52,  2704],\n",
              "       [   53,  2809],\n",
              "       [   54,  2916],\n",
              "       [   55,  3025],\n",
              "       [   56,  3136],\n",
              "       [   57,  3249],\n",
              "       [   58,  3364],\n",
              "       [   59,  3481],\n",
              "       [   60,  3600],\n",
              "       [   61,  3721],\n",
              "       [   62,  3844],\n",
              "       [   63,  3969],\n",
              "       [   64,  4096],\n",
              "       [   65,  4225],\n",
              "       [   66,  4356],\n",
              "       [   67,  4489],\n",
              "       [   68,  4624],\n",
              "       [   69,  4761],\n",
              "       [   70,  4900],\n",
              "       [   71,  5041],\n",
              "       [   72,  5184],\n",
              "       [   73,  5329],\n",
              "       [   74,  5476],\n",
              "       [   75,  5625],\n",
              "       [   76,  5776],\n",
              "       [   77,  5929],\n",
              "       [   78,  6084],\n",
              "       [   79,  6241],\n",
              "       [   80,  6400],\n",
              "       [   81,  6561],\n",
              "       [   82,  6724],\n",
              "       [   83,  6889],\n",
              "       [   84,  7056],\n",
              "       [   85,  7225],\n",
              "       [   86,  7396],\n",
              "       [   87,  7569],\n",
              "       [   88,  7744],\n",
              "       [   89,  7921],\n",
              "       [   90,  8100],\n",
              "       [   91,  8281],\n",
              "       [   92,  8464],\n",
              "       [   93,  8649],\n",
              "       [   94,  8836],\n",
              "       [   95,  9025],\n",
              "       [   96,  9216],\n",
              "       [   97,  9409],\n",
              "       [   98,  9604],\n",
              "       [   99,  9801],\n",
              "       [  100, 10000],\n",
              "       [  101, 10201],\n",
              "       [  102, 10404],\n",
              "       [  103, 10609],\n",
              "       [  104, 10816],\n",
              "       [  105, 11025],\n",
              "       [  106, 11236],\n",
              "       [  107, 11449],\n",
              "       [  108, 11664],\n",
              "       [  109, 11881],\n",
              "       [  110, 12100],\n",
              "       [  111, 12321],\n",
              "       [  112, 12544],\n",
              "       [  113, 12769],\n",
              "       [  114, 12996],\n",
              "       [  115, 13225],\n",
              "       [  116, 13456],\n",
              "       [  117, 13689],\n",
              "       [  118, 13924],\n",
              "       [  119, 14161],\n",
              "       [  120, 14400],\n",
              "       [  121, 14641],\n",
              "       [  122, 14884],\n",
              "       [  123, 15129],\n",
              "       [  124, 15376],\n",
              "       [  125, 15625],\n",
              "       [  126, 15876],\n",
              "       [  127, 16129],\n",
              "       [  128, 16384],\n",
              "       [  129, 16641],\n",
              "       [  130, 16900],\n",
              "       [  131, 17161],\n",
              "       [  132, 17424],\n",
              "       [  133, 17689],\n",
              "       [  134, 17956],\n",
              "       [  135, 18225],\n",
              "       [  136, 18496],\n",
              "       [  137, 18769],\n",
              "       [  138, 19044],\n",
              "       [  139, 19321],\n",
              "       [  140, 19600],\n",
              "       [  141, 19881],\n",
              "       [  142, 20164],\n",
              "       [  143, 20449],\n",
              "       [  144, 20736],\n",
              "       [  145, 21025],\n",
              "       [  146, 21316],\n",
              "       [  147, 21609],\n",
              "       [  148, 21904],\n",
              "       [  149, 22201],\n",
              "       [  150, 22500],\n",
              "       [  151, 22801],\n",
              "       [  152, 23104],\n",
              "       [  153, 23409],\n",
              "       [  154, 23716],\n",
              "       [  155, 24025],\n",
              "       [  156, 24336],\n",
              "       [  157, 24649],\n",
              "       [  158, 24964],\n",
              "       [  159, 25281],\n",
              "       [  160, 25600],\n",
              "       [  161, 25921],\n",
              "       [  162, 26244],\n",
              "       [  163, 26569],\n",
              "       [  164, 26896],\n",
              "       [  165, 27225],\n",
              "       [  166, 27556],\n",
              "       [  167, 27889],\n",
              "       [  168, 28224],\n",
              "       [  169, 28561],\n",
              "       [  170, 28900],\n",
              "       [  171, 29241],\n",
              "       [  172, 29584],\n",
              "       [  173, 29929],\n",
              "       [  174, 30276],\n",
              "       [  175, 30625],\n",
              "       [  176, 30976],\n",
              "       [  177, 31329]], dtype=int64)"
            ]
          },
          "metadata": {}
        }
      ],
      "execution_count": 33,
      "metadata": {
        "collapsed": false,
        "outputHidden": false,
        "inputHidden": false
      }
    },
    {
      "cell_type": "code",
      "source": [
        "model.fit(X, y)\n",
        "x = np.arange(1, 178)\n",
        "x = np.c_[x, x**2]\n",
        "a = np.dot(X, model.coef_.transpose()) + model.intercept_"
      ],
      "outputs": [],
      "execution_count": 34,
      "metadata": {
        "collapsed": false,
        "outputHidden": false,
        "inputHidden": false
      }
    },
    {
      "cell_type": "code",
      "source": [
        "# Polynomial features\n",
        "plt.figure(figsize=(12,8))\n",
        "plt.plot(X[:, 0], y, 'ro', x[:, 0], a)\n",
        "plt.show()"
      ],
      "outputs": [
        {
          "output_type": "display_data",
          "data": {
            "text/plain": [
              "<Figure size 864x576 with 1 Axes>"
            ],
            "image/png": "[encoded data removed]"
          },
          "metadata": {}
        }
      ],
      "execution_count": 35,
      "metadata": {
        "collapsed": false,
        "outputHidden": false,
        "inputHidden": false
      }
    },
    {
      "cell_type": "code",
      "source": [
        "model.score(X, y)"
      ],
      "outputs": [
        {
          "output_type": "execute_result",
          "execution_count": 36,
          "data": {
            "text/plain": [
              "0.04553743583036962"
            ]
          },
          "metadata": {}
        }
      ],
      "execution_count": 36,
      "metadata": {
        "collapsed": false,
        "outputHidden": false,
        "inputHidden": false
      }
    },
    {
      "cell_type": "code",
      "source": [
        "X = np.arange(1, 178)\n",
        "X = np.c_[X, X**2, X**3, X**4, X**5, X**6, X**7, X**8, X**9]\n",
        "x = np.arange(1, 178)\n",
        "x = np.c_[x, x**2, x**3, x**4, x**5, x**6, x**7, x**8, x**9]\n",
        "\n",
        "model.fit(X, y)\n",
        "a = np.dot(x, model.coef_.transpose()) + model.intercept_\n",
        "\n",
        "plt.figure(figsize=(12,8))\n",
        "plt.plot(X[:, 0], y, 'ro', x[:, 0], a)\n",
        "axes = plt.gca()\n",
        "axes.set_ylim([-0.2, 0.2])\n",
        "plt.show()"
      ],
      "outputs": [
        {
          "output_type": "display_data",
          "data": {
            "text/plain": [
              "<Figure size 864x576 with 1 Axes>"
            ],
            "image/png": "[encoded data removed]"
          },
          "metadata": {}
        }
      ],
      "execution_count": 37,
      "metadata": {
        "collapsed": false,
        "outputHidden": false,
        "inputHidden": false
      }
    },
    {
      "cell_type": "code",
      "source": [
        "model.score(X, y)"
      ],
      "outputs": [
        {
          "output_type": "execute_result",
          "execution_count": 38,
          "data": {
            "text/plain": [
              "0.09900733588089616"
            ]
          },
          "metadata": {}
        }
      ],
      "execution_count": 38,
      "metadata": {
        "collapsed": false,
        "outputHidden": false,
        "inputHidden": false
      }
    }
  ],
  "metadata": {
    "kernel_info": {
      "name": "python3"
    },
    "language_info": {
      "version": "3.5.5",
      "nbconvert_exporter": "python",
      "pygments_lexer": "ipython3",
      "codemirror_mode": {
        "version": 3,
        "name": "ipython"
      },
      "mimetype": "text/x-python",
      "name": "python",
      "file_extension": ".py"
    },
    "kernelspec": {
      "name": "python3",
      "language": "python",
      "display_name": "Python 3"
    },
    "nteract": {
      "version": "0.11.9"
    }
  },
  "nbformat": 4,
  "nbformat_minor": 4
}